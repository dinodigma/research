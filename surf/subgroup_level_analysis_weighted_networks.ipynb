{
 "cells": [
  {
   "cell_type": "code",
   "execution_count": 3,
   "metadata": {
    "collapsed": false
   },
   "outputs": [],
   "source": [
    "% matplotlib inline\n",
    "import pylab as plt\n",
    "import numpy as np\n",
    "import networkx as nx\n",
    "import pandas as pd\n",
    "import operator\n",
    "import os\n",
    "import re\n",
    "from glob import glob\n",
    "import os\n",
    "os.chdir('/home/jagust/dino/surf/')\n",
    "import util as util\n",
    "import modularity as md\n",
    "from scipy import stats\n",
    "import operator\n",
    "from surf import *"
   ]
  },
  {
   "cell_type": "code",
   "execution_count": 4,
   "metadata": {
    "collapsed": false,
    "scrolled": true
   },
   "outputs": [],
   "source": [
    "# Load Functional Matrices Paths and Other Relevant Data\n",
    "globstr = \"/home/jagust/graph/data/mri1.5/analysis/roi_networks/desikan/adjmat_gsr/*\"\n",
    "mat_paths = sorted(glob(globstr))\n",
    "incl_paths = np.load('/home/jagust/dino/surf/inclusion_mat_paths.npy')\n",
    "\n",
    "geno_pos = np.load('/home/jagust/dino/surf/geno_pos.npy')\n",
    "geno_neg = np.load('/home/jagust/dino/surf/geno_neg.npy')"
   ]
  },
  {
   "cell_type": "code",
   "execution_count": 43,
   "metadata": {
    "collapsed": false
   },
   "outputs": [],
   "source": [
    "# Metrics to look at for individual networks: Degree, modularity, efficiency, clustering coefficient\n",
    "# Note: since modularity algorithm isn't ready, add later\n",
    "pos_vals = {'avg_deg' : [], 'mod' : [], 'eff' : [], 'comm' : []}\n",
    "neg_vals = {'avg_deg' : [], 'mod' : [], 'eff' : [], 'comm' : []}\n",
    "for path in incl_paths:\n",
    "    subid = find_id(str(path))\n",
    "    g = nx.Graph(np.load(str(path)))\n",
    "    # Remove Negative Weights\n",
    "    remove_neg_weights(g)\n",
    "    \n",
    "    # Add Distance Attribute to Edges\n",
    "    add_distance_attr(g)\n",
    "\n",
    "    # Find Average Degree\n",
    "    ad = np.mean(np.array(g.degree(weight='weight').values()))\n",
    "    \n",
    "    # Find Efficiency\n",
    "    e = find_eff(g)\n",
    "    \n",
    "    #Find Communicability\n",
    "    c = np.mean(nx.communicability_centrality(g).values())\n",
    "    \n",
    "    if subid in geno_pos:\n",
    "        pos_vals['avg_deg'].append(ad)\n",
    "        pos_vals['eff'].append(e)\n",
    "        pos_vals['comm'].append(c)\n",
    "    elif subid in geno_neg:\n",
    "        neg_vals['avg_deg'].append(ad)\n",
    "        neg_vals['eff'].append(e)\n",
    "        neg_vals['comm'].append(c)"
   ]
  },
  {
   "cell_type": "code",
   "execution_count": null,
   "metadata": {
    "collapsed": false
   },
   "outputs": [],
   "source": []
  },
  {
   "cell_type": "code",
   "execution_count": 32,
   "metadata": {
    "collapsed": false
   },
   "outputs": [
    {
     "name": "stdout",
     "output_type": "stream",
     "text": [
      "D: 0.172531715389\n",
      " p: 0.17959382723\n"
     ]
    },
    {
     "data": {
      "image/png": "[encoded data removed]",
      "text/plain": [
       "<matplotlib.figure.Figure at 0x7f755b977890>"
      ]
     },
     "metadata": {},
     "output_type": "display_data"
    }
   ],
   "source": [
    "plt.hist(pos_vals['avg_deg'], color = 'b')\n",
    "plt.hist(neg_vals['avg_deg'], color = 'r', alpha = 0.5)\n",
    "plt.xlabel(\"Average Degree\")\n",
    "\n",
    "d_avg_degree, p_avg_degree = stats.ks_2samp(pos_vals['avg_deg'], neg_vals['avg_deg'])\n",
    "print \"D: \" + str(d_avg_degree)\n",
    "print\" p: \" + str(p_avg_degree)"
   ]
  },
  {
   "cell_type": "code",
   "execution_count": 42,
   "metadata": {
    "collapsed": false
   },
   "outputs": [
    {
     "name": "stdout",
     "output_type": "stream",
     "text": [
      "D: 0.143629343629\n",
      " p: 0.374046437684\n"
     ]
    },
    {
     "data": {
      "image/png": "[encoded data removed]",
      "text/plain": [
       "<matplotlib.figure.Figure at 0x7f7558f72e50>"
      ]
     },
     "metadata": {},
     "output_type": "display_data"
    }
   ],
   "source": [
    "plt.hist(pos_vals['eff'], color = 'b')\n",
    "plt.hist(neg_vals['eff'], color = 'r', alpha = 0.5)\n",
    "plt.xlabel(\"Efficiency\")\n",
    "\n",
    "d_eff, p_eff = stats.ks_2samp(pos_vals['eff'], neg_vals['eff'])\n",
    "print \"D: \" + str(d_eff)\n",
    "print\" p: \" + str(p_eff)"
   ]
  },
  {
   "cell_type": "code",
   "execution_count": 10,
   "metadata": {
    "collapsed": true
   },
   "outputs": [],
   "source": [
    "def remove_neg_weights(g):\n",
    "    for e in g.edges(data=True):\n",
    "        if e[2]['weight'] < 0.0:\n",
    "            g.remove_edge(e[0], e[1])\n",
    "        if e[2]['weight'] != e[2]['weight']:\n",
    "            g.remove_edge(e[0], e[1])"
   ]
  },
  {
   "cell_type": "code",
   "execution_count": 52,
   "metadata": {
    "collapsed": false,
    "scrolled": true
   },
   "outputs": [
    {
     "name": "stdout",
     "output_type": "stream",
     "text": [
      "D: 0.18279095422\n",
      " p: 0.133761108607\n"
     ]
    },
    {
     "data": {
      "image/png": "[encoded data removed]",
      "text/plain": [
       "<matplotlib.figure.Figure at 0x7f75585d5490>"
      ]
     },
     "metadata": {},
     "output_type": "display_data"
    }
   ],
   "source": [
    "plt.hist(pos_vals['comm'], color = 'b')\n",
    "plt.hist(neg_vals['comm'], color = 'r', alpha = 0.5)\n",
    "plt.xlabel(\"Average Communicability Centrality\")\n",
    "plt.xlim(0, 1e22)\n",
    "d_comm, p_comm = stats.ks_2samp(pos_vals['comm'], neg_vals['comm'])\n",
    "print \"D: \" + str(d_comm)\n",
    "print\" p: \" + str(p_comm)"
   ]
  },
  {
   "cell_type": "code",
   "execution_count": null,
   "metadata": {
    "collapsed": true
   },
   "outputs": [],
   "source": []
  }
 ],
 "metadata": {
  "kernelspec": {
   "display_name": "Python 2",
   "language": "python",
   "name": "python2"
  },
  "language_info": {
   "codemirror_mode": {
    "name": "ipython",
    "version": 2
   },
   "file_extension": ".py",
   "mimetype": "text/x-python",
   "name": "python",
   "nbconvert_exporter": "python",
   "pygments_lexer": "ipython2",
   "version": "2.7.10"
  }
 },
 "nbformat": 4,
 "nbformat_minor": 0
}
