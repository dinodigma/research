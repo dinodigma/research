{
 "cells": [
  {
   "cell_type": "code",
   "execution_count": 29,
   "metadata": {
    "collapsed": true
   },
   "outputs": [],
   "source": [
    "import os\n",
    "os.chdir('/home/jagust/dino/surf')\n",
    "from surf import *\n",
    "%matplotlib inline"
   ]
  },
  {
   "cell_type": "code",
   "execution_count": 30,
   "metadata": {
    "collapsed": true
   },
   "outputs": [],
   "source": [
    "young_neg_mat = np.load('/home/jagust/dino/surf/mats/young_neg_med_mat.npy')\n",
    "young_pos_mat = np.load('/home/jagust/dino/surf/mats/young_pos_med_mat.npy')\n",
    "young_mat = np.load('/home/jagust/dino/surf/mats/young_med_mat.npy')\n",
    "old_neg_mat = np.load('/home/jagust/dino/surf/mats/ignore_pib_pos/neg_med_mat.npy')\n",
    "old_pos_mat = np.load('/home/jagust/dino/surf/mats/ignore_pib_pos/pos_med_mat.npy')\n",
    "matches = np.load('/home/jagust/dino/surf/matches.npy')"
   ]
  },
  {
   "cell_type": "code",
   "execution_count": 105,
   "metadata": {
    "collapsed": false
   },
   "outputs": [],
   "source": [
    "def energy(mat):\n",
    "    eigs = np.linalg.eig(mat)[0]\n",
    "    eigs = [abs(eig) for eig in eigs]\n",
    "    return np.sum(eigs)\n",
    "def core(g, k):\n",
    "    return nx.k_core(g, k)\n",
    "\n",
    "def num_disconnects(g):\n",
    "    ''' Finds number of disconnected nodes '''\n",
    "    count = 0\n",
    "    for subg in nx.connected_component_subgraphs(g):\n",
    "        if len(subg.nodes()) == 1:\n",
    "            count += 1\n",
    "    return count"
   ]
  },
  {
   "cell_type": "code",
   "execution_count": 91,
   "metadata": {
    "collapsed": false
   },
   "outputs": [
    {
     "data": {
      "text/plain": [
       "True"
      ]
     },
     "execution_count": 91,
     "metadata": {},
     "output_type": "execute_result"
    }
   ],
   "source": [
    "pos_mat.shape == (0, 0)"
   ]
  },
  {
   "cell_type": "code",
   "execution_count": 124,
   "metadata": {
    "collapsed": false
   },
   "outputs": [
    {
     "name": "stdout",
     "output_type": "stream",
     "text": [
      "0.2 10\n",
      "(1.4148853538375936, 0.16383621348537297)\n",
      "(-0.58590407242956777, 0.56080389203883385)\n"
     ]
    }
   ],
   "source": [
    "c = 0.20\n",
    "k = 10\n",
    "pos_energy, pos_discs, neg_energy, neg_discs = [], [], [], []\n",
    "# for c in [.10, .15, .20, .25,.30, .35, .40, .45, .50]:\n",
    "for match in matches:\n",
    "    pos_mat, neg_mat = np.load(str(match[0])), np.load(str(match[1]))\n",
    "    pos_mat, neg_mat = util.threshold_adjacency_matrix(pos_mat, cost=c)[0], util.threshold_adjacency_matrix(neg_mat, cost=c)[0]\n",
    "    pos_g, neg_g = nx.Graph(pos_mat), nx.Graph(neg_mat)\n",
    "    pos_discs.append(num_disconnects(pos_g))\n",
    "    neg_discs.append(num_disconnects(neg_g))\n",
    "    pos_g, neg_g = core(nx.Graph(pos_mat), k), core(nx.Graph(neg_mat), k)\n",
    "    pos_mat, neg_mat = nx.to_numpy_matrix(pos_g), nx.to_numpy_matrix(neg_g)\n",
    "    pos_energy.append(energy(pos_mat))\n",
    "    neg_energy.append(energy(neg_mat))\n",
    "print c, k\n",
    "print stats.ttest_ind(pos_energy, neg_energy)\n",
    "print stats.ttest_ind(pos_discs, neg_discs)"
   ]
  },
  {
   "cell_type": "code",
   "execution_count": 79,
   "metadata": {
    "collapsed": false
   },
   "outputs": [],
   "source": [
    "young_neg_paths = np.load('/home/jagust/dino/surf/mats/young_geno_neg.npy')\n",
    "young_pos_paths = np.load('/home/jagust/dino/surf/mats/young_geno_pos.npy')\n",
    "# young_neg_paths = young_neg_paths[0:10]"
   ]
  },
  {
   "cell_type": "code",
   "execution_count": 119,
   "metadata": {
    "collapsed": false
   },
   "outputs": [
    {
     "name": "stdout",
     "output_type": "stream",
     "text": [
      "(-0.80616769789216758, 0.42503480841931218)\n",
      "(-0.71949321249562659, 0.47612673405808548)\n"
     ]
    }
   ],
   "source": [
    "young_pos_energy, young_neg_energy, pos_discs, neg_discs = [], [], [], []\n",
    "c = .2\n",
    "k = 10\n",
    "for path in young_neg_paths:\n",
    "#     print path\n",
    "    mat = np.load(path)\n",
    "    mat = np.nan_to_num(mat)\n",
    "    mat = util.threshold_adjacency_matrix(mat, cost=c)[0]\n",
    "    neg_g = nx.Graph(mat)\n",
    "    neg_discs.append(num_disconnects(neg_g))\n",
    "    g = core(nx.Graph(mat), k)\n",
    "    mat = nx.to_numpy_matrix(g)\n",
    "    young_neg_energy.append(energy(mat))\n",
    "for path in young_pos_paths:\n",
    "#     print path\n",
    "    mat = np.load(path)\n",
    "    mat = np.nan_to_num(mat)\n",
    "    mat = util.threshold_adjacency_matrix(mat, cost=c)[0]\n",
    "    pos_g = nx.Graph(mat)\n",
    "    pos_discs.append(num_disconnects(pos_g))\n",
    "    g = core(nx.Graph(mat), k)\n",
    "    mat = nx.to_numpy_matrix(g)\n",
    "    young_pos_energy.append(energy(mat))\n",
    "print stats.ttest_ind(young_pos_energy, young_neg_energy)\n",
    "print stats.ttest_ind(pos_discs, neg_discs)"
   ]
  },
  {
   "cell_type": "code",
   "execution_count": 81,
   "metadata": {
    "collapsed": false
   },
   "outputs": [
    {
     "name": "stdout",
     "output_type": "stream",
     "text": [
      "(-0.87801428855630614, 0.38389900732632476)\n"
     ]
    }
   ],
   "source": [
    "print stats.ttest_ind(young_neg_energy, neg_energy)"
   ]
  },
  {
   "cell_type": "code",
   "execution_count": 82,
   "metadata": {
    "collapsed": false
   },
   "outputs": [
    {
     "name": "stdout",
     "output_type": "stream",
     "text": [
      "(-1.9282707361658329, 0.062734188202645536)\n"
     ]
    }
   ],
   "source": [
    "print stats.ttest_ind(young_pos_energy, pos_energy)"
   ]
  },
  {
   "cell_type": "code",
   "execution_count": null,
   "metadata": {
    "collapsed": false
   },
   "outputs": [],
   "source": [
    "# Number of Disconnected components"
   ]
  },
  {
   "cell_type": "code",
   "execution_count": null,
   "metadata": {
    "collapsed": true
   },
   "outputs": [],
   "source": []
  }
 ],
 "metadata": {
  "kernelspec": {
   "display_name": "Python 2",
   "language": "python",
   "name": "python2"
  },
  "language_info": {
   "codemirror_mode": {
    "name": "ipython",
    "version": 2
   },
   "file_extension": ".py",
   "mimetype": "text/x-python",
   "name": "python",
   "nbconvert_exporter": "python",
   "pygments_lexer": "ipython2",
   "version": "2.7.10"
  }
 },
 "nbformat": 4,
 "nbformat_minor": 0
}
