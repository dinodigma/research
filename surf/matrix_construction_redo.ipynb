{
 "cells": [
  {
   "cell_type": "code",
   "execution_count": 1,
   "metadata": {
    "collapsed": false
   },
   "outputs": [],
   "source": [
    "import os\n",
    "os.chdir('/home/jagust/dino/surf/')\n",
    "from surf import *"
   ]
  },
  {
   "cell_type": "code",
   "execution_count": 2,
   "metadata": {
    "collapsed": false
   },
   "outputs": [],
   "source": [
    "# Remaking Subgroup-Level Networks using only inclusion functional matrices\n",
    "incl = np.load('/home/jagust/dino/surf/inclusion_mat_paths.npy')"
   ]
  },
  {
   "cell_type": "code",
   "execution_count": 3,
   "metadata": {
    "collapsed": true
   },
   "outputs": [],
   "source": [
    "def remove_nan(adj_mat):\n",
    "    nan_locs = np.isnan(adj_mat)\n",
    "    adj_mat[nan_locs] = 0.0\n",
    "    return adj_mat\n",
    "def to_int(bin_mat):\n",
    "    return bin_mat.astype(int)"
   ]
  },
  {
   "cell_type": "code",
   "execution_count": 4,
   "metadata": {
    "collapsed": false
   },
   "outputs": [],
   "source": [
    "# Initialize Thresholded Subgroup Network\n",
    "mat = np.load(incl[0])\n",
    "group_mat, cost = util.threshold_adjacency_matrix(mat, cost = 0.20)\n",
    "group_mat = to_int(group_mat)\n",
    "for path in incl[1:]:\n",
    "    thr_mat, cost = util.threshold_adjacency_matrix(remove_nan(np.load(path)), cost = 0.20)\n",
    "    group_mat += to_int(thr_mat)\n",
    "group_mat, cost = util.threshold_adjacency_matrix(group_mat, cost = 0.20)"
   ]
  },
  {
   "cell_type": "code",
   "execution_count": 23,
   "metadata": {
    "collapsed": false
   },
   "outputs": [],
   "source": [
    "#np.save('/home/jagust/dino/surf/mats/thr_func_group_mat.npy', group_mat)"
   ]
  },
  {
   "cell_type": "code",
   "execution_count": 5,
   "metadata": {
    "collapsed": true
   },
   "outputs": [],
   "source": [
    "pos_mats, neg_mats = [], []\n",
    "for path in incl:\n",
    "    mat = remove_nan(np.load(path))\n",
    "    thr_mat, actual_cost = util.threshold_adjacency_matrix(mat, 0.20)\n",
    "    thr_mat = to_int(thr_mat)\n",
    "    subsess = get_subsess(path)\n",
    "    if is_geno_pos(subsess):\n",
    "        pos_mats.append(thr_mat)\n",
    "    if is_geno_neg(subsess):\n",
    "        neg_mats.append(thr_mat)\n",
    "        \n",
    "\n",
    "aggr_pos, aggr_neg = pos_mats[0], neg_mats[0]\n",
    "for mat in pos_mats[1:]:\n",
    "    aggr_pos += mat\n",
    "for mat in neg_mats[1:]:\n",
    "    aggr_neg += mat\n",
    "\n",
    "thr_pos, act_cost_pos = util.threshold_adjacency_matrix(aggr_pos, cost = 0.20)\n",
    "thr_neg, act_cost_neg = util.threshold_adjacency_matrix(aggr_neg, cost = 0.20)"
   ]
  },
  {
   "cell_type": "code",
   "execution_count": 6,
   "metadata": {
    "collapsed": false
   },
   "outputs": [],
   "source": [
    "# np.save('/home/jagust/dino/github/surf/thr_pos_func_mat.npy', thr_pos)\n",
    "# np.save('/home/jagust/dino/github/surf/thr_neg_func_mat.npy', thr_neg)"
   ]
  },
  {
   "cell_type": "code",
   "execution_count": 27,
   "metadata": {
    "collapsed": false
   },
   "outputs": [
    {
     "data": {
      "text/plain": [
       "True"
      ]
     },
     "execution_count": 27,
     "metadata": {},
     "output_type": "execute_result"
    }
   ],
   "source": [
    "pibmatneg = np.load('/home/jagust/dino/surf/mats/neg_pib_mat.npy')\n",
    "pibmatpos = np.load('/home/jagust/dino/surf/mats/pos_pib_mat.npy')\n",
    "\n",
    "pibnetneg = nx.Graph(pibmatneg)\n",
    "pibnetpos = nx.Graph(pibmatpos)"
   ]
  },
  {
   "cell_type": "code",
   "execution_count": null,
   "metadata": {
    "collapsed": true
   },
   "outputs": [],
   "source": []
  }
 ],
 "metadata": {
  "kernelspec": {
   "display_name": "Python 2",
   "language": "python",
   "name": "python2"
  },
  "language_info": {
   "codemirror_mode": {
    "name": "ipython",
    "version": 2
   },
   "file_extension": ".py",
   "mimetype": "text/x-python",
   "name": "python",
   "nbconvert_exporter": "python",
   "pygments_lexer": "ipython2",
   "version": "2.7.10"
  }
 },
 "nbformat": 4,
 "nbformat_minor": 0
}
