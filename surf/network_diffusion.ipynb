{
 "cells": [
  {
   "cell_type": "code",
   "execution_count": 1,
   "metadata": {
    "collapsed": true
   },
   "outputs": [],
   "source": [
    "import os\n",
    "os.chdir('/home/jagust/dino/surf/')\n",
    "from surf import *\n",
    "%matplotlib inline"
   ]
  },
  {
   "cell_type": "code",
   "execution_count": 5,
   "metadata": {
    "collapsed": false
   },
   "outputs": [],
   "source": [
    "trav_paths = '/home/jagust/dino/surf/simulation_trials/ignore_pib_pos/*traversal.npy'\n",
    "travs = sorted(glob(trav_paths))"
   ]
  },
  {
   "cell_type": "code",
   "execution_count": 15,
   "metadata": {
    "collapsed": true
   },
   "outputs": [],
   "source": [
    "mat_dir = '/home/jagust/dino/surf/mats/'\n",
    "young_geno_neg, young_geno_pos = np.load(mat_dir + 'young_geno_neg.npy'), np.load(mat_dir + 'young_geno_pos.npy')\n",
    "young_neg, young_pos = set([]), set([])\n",
    "for path in young_geno_neg:\n",
    "    subid = find_id(path)\n",
    "    young_neg.add(subid)\n",
    "for path in young_geno_pos:\n",
    "    subid = find_id(path)\n",
    "    young_pos.add(subid)"
   ]
  },
  {
   "cell_type": "code",
   "execution_count": 16,
   "metadata": {
    "collapsed": true
   },
   "outputs": [],
   "source": [
    "order = np.load('/home/jagust/dino/surf/simulation_trials/order_or_removals.npy')\n",
    "order = list(order)"
   ]
  },
  {
   "cell_type": "code",
   "execution_count": 35,
   "metadata": {
    "collapsed": false
   },
   "outputs": [],
   "source": [
    "young_corrs, old_corrs = [], []\n",
    "for path in travs:\n",
    "    trav = list(np.load(path))\n",
    "    subid = find_id(path)\n",
    "    xlist, ylist = [], []\n",
    "    for reg in range(80):\n",
    "        x, y = trav.index(reg), order.index(reg)\n",
    "        xlist.append(x)\n",
    "        ylist.append(y)\n",
    "    if str(subid) in young_neg or str(subid) in young_pos:\n",
    "        young_corrs.append(stats.pearsonr(xlist, ylist)[0])\n",
    "    else:\n",
    "        old_corrs.append(stats.pearsonr(xlist, ylist)[0])"
   ]
  },
  {
   "cell_type": "code",
   "execution_count": 36,
   "metadata": {
    "collapsed": false
   },
   "outputs": [
    {
     "data": {
      "text/plain": [
       "(0.47043100472581267, 0.63962186039922875)"
      ]
     },
     "execution_count": 36,
     "metadata": {},
     "output_type": "execute_result"
    }
   ],
   "source": [
    "stats.ttest_ind(young_corrs, old_corrs)"
   ]
  },
  {
   "cell_type": "code",
   "execution_count": 25,
   "metadata": {
    "collapsed": false
   },
   "outputs": [
    {
     "data": {
      "text/plain": [
       "{u'B07-226',\n",
       " u'B07-254',\n",
       " u'B07-261',\n",
       " u'B07-262',\n",
       " u'B07-263',\n",
       " u'B07-264',\n",
       " u'B07-266',\n",
       " u'B07-268',\n",
       " u'B07-282',\n",
       " u'B07-283',\n",
       " u'B08-263',\n",
       " u'B09-227',\n",
       " u'B09-243',\n",
       " u'B09-244',\n",
       " u'B09-249',\n",
       " u'B09-264',\n",
       " u'B09-265',\n",
       " u'B09-278',\n",
       " u'B09-279',\n",
       " u'B09-288',\n",
       " u'B10-203',\n",
       " u'B10-205',\n",
       " u'B10-213',\n",
       " u'B10-245',\n",
       " u'B12-268',\n",
       " u'B12-317',\n",
       " u'B12-335',\n",
       " u'B12-337',\n",
       " u'B13-247',\n",
       " u'B13-305',\n",
       " u'B13-363'}"
      ]
     },
     "execution_count": 25,
     "metadata": {},
     "output_type": "execute_result"
    }
   ],
   "source": []
  },
  {
   "cell_type": "code",
   "execution_count": null,
   "metadata": {
    "collapsed": true
   },
   "outputs": [],
   "source": []
  }
 ],
 "metadata": {
  "kernelspec": {
   "display_name": "Python 2",
   "language": "python",
   "name": "python2"
  },
  "language_info": {
   "codemirror_mode": {
    "name": "ipython",
    "version": 2
   },
   "file_extension": ".py",
   "mimetype": "text/x-python",
   "name": "python",
   "nbconvert_exporter": "python",
   "pygments_lexer": "ipython2",
   "version": "2.7.10"
  }
 },
 "nbformat": 4,
 "nbformat_minor": 0
}
