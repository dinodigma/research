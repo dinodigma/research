{
 "cells": [
  {
   "cell_type": "code",
   "execution_count": 1,
   "metadata": {
    "collapsed": false
   },
   "outputs": [],
   "source": [
    "import os\n",
    "os.chdir('/home/jagust/dino/surf')\n",
    "from surf import *\n",
    "% matplotlib inline"
   ]
  },
  {
   "cell_type": "code",
   "execution_count": 2,
   "metadata": {
    "collapsed": false
   },
   "outputs": [],
   "source": [
    "matches = np.load('/home/jagust/dino/surf/matches.npy')\n",
    "order = np.load('/home/jagust/dino/surf/simulation_trials/order_or_removals.npy')"
   ]
  },
  {
   "cell_type": "code",
   "execution_count": 29,
   "metadata": {
    "collapsed": false
   },
   "outputs": [],
   "source": [
    "def find_subsess(s):\n",
    "    ''' Given a path or string, finds the subuject's subsession'''\n",
    "\n",
    "    inds = re.search('B[0,1,9]\\d-\\d\\d\\d_\\d\\d\\d\\d-\\d\\d-\\d\\d', s)\n",
    "    if inds is None:\n",
    "        print 'Subject ID not found'\n",
    "        return None\n",
    "    else:\n",
    "        inds = inds.span()\n",
    "        return s[inds[0]: inds[1]]\n",
    "\n",
    "def dampen(g, nodes, cost = 0.5):\n",
    "    for node in nodes:\n",
    "        for edge in g.edges(node, data=True):\n",
    "            edge[2]['weight'] *= cost\n",
    "    add_distance_attr(g)\n",
    "    \n",
    "def run_simulation(fnet, order):\n",
    "    sp, mod = [], []\n",
    "    removed = set([])\n",
    "    for rem in order:\n",
    "        removed.add(rem)\n",
    "        dampen(fnet, removed, 0.75)\n",
    "        # Efficiency\n",
    "        sp.append(1.0 / nx.average_shortest_path_length(fnet, weight='distance'))\n",
    "        \n",
    "        # Modularity\n",
    "        l = wmd.LouvainCommunityDetection(fnet)\n",
    "        p = l.run()\n",
    "        mod.append(p[-1].modularity())\n",
    "    return sp, mod\n",
    "\n",
    "def load_graph(path):\n",
    "    if type(path) == str or type(path) == unicode:\n",
    "        g = nx.Graph(np.load(path))\n",
    "        add_distance_attr(g)\n",
    "    else:\n",
    "        g = nx.Graph(path)\n",
    "        add_distance_attr(g)\n",
    "    return g\n",
    "\n",
    "def find_modularity(fnet):\n",
    "    l = wmd.LouvainCommunityDetection(fnet)\n",
    "    p = l.run()\n",
    "    return p[-1].modularity()"
   ]
  },
  {
   "cell_type": "code",
   "execution_count": 23,
   "metadata": {
    "collapsed": true
   },
   "outputs": [],
   "source": [
    "neg_mat = np.absolute(np.load('/home/jagust/dino/surf/mats/ignore_pib_pos/neg_med_mat.npy'))\n",
    "pos_mat = np.absolute(np.load('/home/jagust/dino/surf/mats/ignore_pib_pos/pos_med_mat.npy'))\n",
    "\n",
    "neg_g = load_graph(neg_mat)\n",
    "pos_g = load_graph(pos_mat)"
   ]
  },
  {
   "cell_type": "code",
   "execution_count": 24,
   "metadata": {
    "collapsed": false
   },
   "outputs": [],
   "source": [
    "neg_res = run_simulation(neg_g.copy(), order)\n",
    "pos_res = run_simulation(pos_g.copy(), order)"
   ]
  },
  {
   "cell_type": "code",
   "execution_count": 25,
   "metadata": {
    "collapsed": false
   },
   "outputs": [
    {
     "data": {
      "text/plain": [
       "<matplotlib.text.Text at 0x7f91d93b7b50>"
      ]
     },
     "execution_count": 25,
     "metadata": {},
     "output_type": "execute_result"
    },
    {
     "data": {
      "image/png": "[encoded data removed]",
      "text/plain": [
       "<matplotlib.figure.Figure at 0x7f9199f793d0>"
      ]
     },
     "metadata": {},
     "output_type": "display_data"
    }
   ],
   "source": [
    "fig = plt.figure()\n",
    "ax = fig.add_subplot(111)\n",
    "ax.scatter(range(80), pos_res[0], c = 'b')\n",
    "ax.scatter(range(80), neg_res[0], c = 'r')\n",
    "plt.xlim(0, 80)\n",
    "plt.ylabel('Average Short Path')\n",
    "plt.xlabel('# Nodes Removed')"
   ]
  },
  {
   "cell_type": "code",
   "execution_count": 26,
   "metadata": {
    "collapsed": false
   },
   "outputs": [
    {
     "data": {
      "text/plain": [
       "<matplotlib.text.Text at 0x7f919a95d050>"
      ]
     },
     "execution_count": 26,
     "metadata": {},
     "output_type": "execute_result"
    },
    {
     "data": {
      "image/png": "[encoded data removed]",
      "text/plain": [
       "<matplotlib.figure.Figure at 0x7f919a2b3bd0>"
      ]
     },
     "metadata": {},
     "output_type": "display_data"
    }
   ],
   "source": [
    "fig = plt.figure()\n",
    "ax = fig.add_subplot(111)\n",
    "ax.scatter(range(80), pos_res[1], c = 'b')\n",
    "ax.scatter(range(80), neg_res[1], c = 'r')\n",
    "plt.xlim(0, 80)\n",
    "plt.ylabel('Modularity')\n",
    "plt.xlabel('# Nodes Removed')"
   ]
  },
  {
   "cell_type": "code",
   "execution_count": 16,
   "metadata": {
    "collapsed": false
   },
   "outputs": [
    {
     "data": {
      "text/plain": [
       "[{1, 2, 3, 8, 10, 11, 21, 54},\n",
       " {5, 6, 25},\n",
       " {9, 17, 18, 20, 26, 29, 37, 44, 47, 50, 53, 59, 77},\n",
       " {0, 7, 15, 28, 36, 38, 39, 43, 48, 62, 64, 69, 71, 72, 76},\n",
       " {61, 67},\n",
       " {13, 23, 30, 31, 51, 56, 58, 63, 70},\n",
       " {4, 16, 22, 24, 32, 34, 35, 42, 49, 55, 57, 65},\n",
       " {33, 66, 68, 75},\n",
       " {12, 14, 19, 27, 40, 41, 45, 46, 52, 60, 73, 74, 78, 79}]"
      ]
     },
     "execution_count": 16,
     "metadata": {},
     "output_type": "execute_result"
    }
   ],
   "source": []
  },
  {
   "cell_type": "code",
   "execution_count": 33,
   "metadata": {
    "collapsed": false
   },
   "outputs": [
    {
     "data": {
      "text/plain": [
       "75.0"
      ]
     },
     "execution_count": 33,
     "metadata": {},
     "output_type": "execute_result"
    }
   ],
   "source": [
    "master_subject_path = \"/home/jagust/dino/graph/data/mri1.5/rest/master_subject_summary.xlsx\"\n",
    "subject_summary = pd.ExcelFile(master_subject_path).parse(\"Sheet1\")\n",
    "subject_summary[subject_summary.Subsess == 'B05-201_2009-03-27'].values[0][3]"
   ]
  },
  {
   "cell_type": "code",
   "execution_count": 131,
   "metadata": {
    "collapsed": false
   },
   "outputs": [],
   "source": [
    "pos_age, neg_age, pos_met, neg_met = [], [], [], []\n",
    "for match in matches:\n",
    "    \n",
    "    pos_id = find_subsess(match[0])\n",
    "    neg_id = find_subsess(match[1])\n",
    "\n",
    "    if subject_summary[subject_summary.Subsess == pos_id].values[0][3] < 30:\n",
    "        continue\n",
    "        \n",
    "    pos_g = load_graph(util.threshold_adjacency_matrix(np.load((match[0])), cost = 0.30)[0])\n",
    "    neg_g = load_graph(util.threshold_adjacency_matrix(np.load((match[1])), cost = 0.30)[0])\n",
    "        \n",
    "#     pos_g = load_graph(np.load((match[0])))\n",
    "#     neg_g = load_graph(np.load((match[1])))\n",
    "    \n",
    "#     remove_neg_weights(pos_g)\n",
    "#     remove_neg_weights(neg_g)\n",
    "\n",
    "#     pos_g = load_graph(np.absolute(np.load((match[0]))))\n",
    "#     neg_g = load_graph(np.absolute(np.load((match[1]))))\n",
    "    \n",
    "    pos_age.append(subject_summary[subject_summary.Subsess == pos_id].values[0][3])\n",
    "    neg_age.append(subject_summary[subject_summary.Subsess == neg_id].values[0][3])\n",
    "\n",
    "#     pos_met.append(find_modularity(pos_g))\n",
    "#     neg_met.append(find_modularity(neg_g))\n",
    "    \n",
    "#     pos_met.append(nx.average_clustering(pos_g) / nx.average_shortest_path_length(pos_g))\n",
    "#     neg_met.append(nx.average_clustering(neg_g) / nx.average_shortest_path_length(neg_g))\n",
    "    pos_met.append(sum(nx.communicability_centrality_exp(pos_g).values()))\n",
    "    neg_met.append(sum(nx.communicability_centrality_exp(neg_g).values()))\n",
    "\n",
    "#     neg_res = run_simulation(neg_g.copy(), order)\n",
    "#     pos_res = run_simulation(pos_g.copy(), order)\n",
    "    \n",
    "#     np.save('/home/jagust/dino/surf/simulation_trials/ignore_pib_pos/%s.npy' % pos_id, np.array(pos_res))\n",
    "#     np.save('/home/jagust/dino/surf/simulation_trials/ignore_pib_pos/%s.npy' % neg_id, np.array(neg_res))"
   ]
  },
  {
   "cell_type": "code",
   "execution_count": 132,
   "metadata": {
    "collapsed": false
   },
   "outputs": [
    {
     "name": "stdout",
     "output_type": "stream",
     "text": [
      "E4+     r: (0.21917273800888967, 0.30348776068730865)\n",
      "E4-     r: (-0.049427343163316664, 0.81859158200564619)\n"
     ]
    },
    {
     "data": {
      "image/png": "[encoded data removed]",
      "text/plain": [
       "<matplotlib.figure.Figure at 0x7f9199aa0f90>"
      ]
     },
     "metadata": {},
     "output_type": "display_data"
    }
   ],
   "source": [
    "# Binary Graph\n",
    "fig = plt.figure()\n",
    "ax = fig.add_subplot(111)\n",
    "ax.scatter(pos_age, pos_met, c = 'b')\n",
    "ax.scatter(neg_age, neg_met, c = 'r')\n",
    "plt.ylabel('Communicability')\n",
    "plt.xlabel('Age')\n",
    "rp, rn = stats.pearsonr(pos_age, pos_met), stats.pearsonr(neg_age, neg_met)\n",
    "print \"E4+     r: \" + str(rp)\n",
    "print \"E4-     r: \" + str(rn)"
   ]
  },
  {
   "cell_type": "code",
   "execution_count": 72,
   "metadata": {
    "collapsed": false
   },
   "outputs": [
    {
     "name": "stdout",
     "output_type": "stream",
     "text": [
      "E4+     r: (0.027458851672377098, 0.89865329252804893)\n",
      "E4-     r: (0.12381668832786992, 0.56433156763496239)\n"
     ]
    },
    {
     "data": {
      "image/png": "[encoded data removed]",
      "text/plain": [
       "<matplotlib.figure.Figure at 0x7f9199a8dcd0>"
      ]
     },
     "metadata": {},
     "output_type": "display_data"
    }
   ],
   "source": [
    "# Binary Graph\n",
    "fig = plt.figure()\n",
    "ax = fig.add_subplot(111)\n",
    "ax.scatter(pos_age, pos_met, c = 'b')\n",
    "ax.scatter(neg_age, neg_met, c = 'r')\n",
    "plt.ylabel('Shortest Path')\n",
    "plt.xlabel('Age')\n",
    "rp, rn = stats.pearsonr(pos_age, pos_met), stats.pearsonr(neg_age, neg_met)\n",
    "print \"E4+     r: \" + str(rp)\n",
    "print \"E4-     r: \" + str(rn)"
   ]
  },
  {
   "cell_type": "code",
   "execution_count": 75,
   "metadata": {
    "collapsed": false
   },
   "outputs": [
    {
     "name": "stdout",
     "output_type": "stream",
     "text": [
      "E4+     r: (0.049600791531000908, 0.81796536087725069)\n",
      "E4-     r: (0.24926893513142154, 0.24014322676711336)\n"
     ]
    },
    {
     "data": {
      "image/png": "[encoded data removed]",
      "text/plain": [
       "<matplotlib.figure.Figure at 0x7f919a06b410>"
      ]
     },
     "metadata": {},
     "output_type": "display_data"
    }
   ],
   "source": [
    "# Binary Graph\n",
    "fig = plt.figure()\n",
    "ax = fig.add_subplot(111)\n",
    "ax.scatter(pos_age, pos_met, c = 'b')\n",
    "ax.scatter(neg_age, neg_met, c = 'r')\n",
    "plt.ylabel('Clustering')\n",
    "plt.xlabel('Age')\n",
    "rp, rn = stats.pearsonr(pos_age, pos_met), stats.pearsonr(neg_age, neg_met)\n",
    "print \"E4+     r: \" + str(rp)\n",
    "print \"E4-     r: \" + str(rn)"
   ]
  },
  {
   "cell_type": "code",
   "execution_count": 82,
   "metadata": {
    "collapsed": false
   },
   "outputs": [
    {
     "name": "stdout",
     "output_type": "stream",
     "text": [
      "E4+     r: (0.059440842834703717, 0.78262643687769962)\n",
      "E4-     r: (0.31243332957989839, 0.13717405508146729)\n"
     ]
    },
    {
     "data": {
      "image/png": "[encoded data removed]",
      "text/plain": [
       "<matplotlib.figure.Figure at 0x7f9199cc3810>"
      ]
     },
     "metadata": {},
     "output_type": "display_data"
    }
   ],
   "source": [
    "# Binary Graph\n",
    "fig = plt.figure()\n",
    "ax = fig.add_subplot(111)\n",
    "ax.scatter(pos_age, pos_met, c = 'b')\n",
    "ax.scatter(neg_age, neg_met, c = 'r')\n",
    "plt.ylabel('Small World')\n",
    "plt.xlabel('Age')\n",
    "rp, rn = stats.pearsonr(pos_age, pos_met), stats.pearsonr(neg_age, neg_met)\n",
    "print \"E4+     r: \" + str(rp)\n",
    "print \"E4-     r: \" + str(rn)"
   ]
  },
  {
   "cell_type": "code",
   "execution_count": 59,
   "metadata": {
    "collapsed": false
   },
   "outputs": [
    {
     "name": "stdout",
     "output_type": "stream",
     "text": [
      "E4+     r: (0.12927870406827593, 0.54713463833334064)\n",
      "E4-     r: (-0.11169296330272731, 0.60334122822326441)\n"
     ]
    },
    {
     "data": {
      "image/png": "[encoded data removed]",
      "text/plain": [
       "<matplotlib.figure.Figure at 0x7f919a143390>"
      ]
     },
     "metadata": {},
     "output_type": "display_data"
    }
   ],
   "source": [
    "# Weighted Graph\n",
    "fig = plt.figure()\n",
    "ax = fig.add_subplot(111)\n",
    "ax.scatter(pos_age, pos_met, c = 'b')\n",
    "ax.scatter(neg_age, neg_met, c = 'r')\n",
    "plt.ylabel('Shortest Path')\n",
    "plt.xlabel('Age')\n",
    "rp, rn = stats.pearsonr(pos_age, pos_met), stats.pearsonr(neg_age, neg_met)\n",
    "print \"E4+     r: \" + str(rp)\n",
    "print \"E4-     r: \" + str(rn)"
   ]
  },
  {
   "cell_type": "code",
   "execution_count": 62,
   "metadata": {
    "collapsed": false
   },
   "outputs": [
    {
     "name": "stdout",
     "output_type": "stream",
     "text": [
      "E4+     r: (0.109103379463706, 0.61181721061852246)\n",
      "E4-     r: (0.10049586748319971, 0.64033472137171565)\n"
     ]
    },
    {
     "data": {
      "image/png": "[encoded data removed]",
      "text/plain": [
       "<matplotlib.figure.Figure at 0x7f9199b16110>"
      ]
     },
     "metadata": {},
     "output_type": "display_data"
    }
   ],
   "source": [
    "# Absolute Value Graph\n",
    "fig = plt.figure()\n",
    "ax = fig.add_subplot(111)\n",
    "ax.scatter(pos_age, pos_met, c = 'b')\n",
    "ax.scatter(neg_age, neg_met, c = 'r')\n",
    "plt.ylabel('Clustering')\n",
    "plt.xlabel('Age')\n",
    "rp, rn = stats.pearsonr(pos_age, pos_met), stats.pearsonr(neg_age, neg_met)\n",
    "print \"E4+     r: \" + str(rp)\n",
    "print \"E4-     r: \" + str(rn)"
   ]
  },
  {
   "cell_type": "code",
   "execution_count": 52,
   "metadata": {
    "collapsed": false
   },
   "outputs": [
    {
     "name": "stdout",
     "output_type": "stream",
     "text": [
      "E4+     r: (0.10527424122509284, 0.62443920142711828)\n",
      "E4-     r: (0.090845467070606811, 0.67290349722358367)\n"
     ]
    },
    {
     "data": {
      "image/png": "[encoded data removed]",
      "text/plain": [
       "<matplotlib.figure.Figure at 0x7f9199e4ec50>"
      ]
     },
     "metadata": {},
     "output_type": "display_data"
    }
   ],
   "source": [
    "# Absolute Value Graph\n",
    "fig = plt.figure()\n",
    "ax = fig.add_subplot(111)\n",
    "ax.scatter(pos_age, pos_met, c = 'b')\n",
    "ax.scatter(neg_age, neg_met, c = 'r')\n",
    "plt.ylabel('Small World')\n",
    "plt.xlabel('Age')\n",
    "rp, rn = stats.pearsonr(pos_age, pos_met), stats.pearsonr(neg_age, neg_met)\n",
    "print \"E4+     r: \" + str(rp)\n",
    "print \"E4-     r: \" + str(rn)"
   ]
  },
  {
   "cell_type": "code",
   "execution_count": 66,
   "metadata": {
    "collapsed": false
   },
   "outputs": [
    {
     "name": "stdout",
     "output_type": "stream",
     "text": [
      "E4+     r: (-0.092048470567915819, 0.66881076263623895)\n",
      "E4-     r: (-0.081433720655078742, 0.70522676573391307)\n"
     ]
    },
    {
     "data": {
      "image/png": "[encoded data removed]",
      "text/plain": [
       "<matplotlib.figure.Figure at 0x7f9199c1f9d0>"
      ]
     },
     "metadata": {},
     "output_type": "display_data"
    }
   ],
   "source": [
    "# Removed Negative Weights\n",
    "fig = plt.figure()\n",
    "ax = fig.add_subplot(111)\n",
    "ax.scatter(pos_age, pos_met, c = 'b')\n",
    "ax.scatter(neg_age, neg_met, c = 'r')\n",
    "plt.ylabel('Modularity')\n",
    "plt.xlabel('Age')\n",
    "rp, rn = stats.pearsonr(pos_age, pos_met), stats.pearsonr(neg_age, neg_met)\n",
    "print \"E4+     r: \" + str(rp)\n",
    "print \"E4-     r: \" + str(rn)"
   ]
  },
  {
   "cell_type": "code",
   "execution_count": 122,
   "metadata": {
    "collapsed": false
   },
   "outputs": [
    {
     "name": "stdout",
     "output_type": "stream",
     "text": [
      "Communicability Centrality\n",
      "4\n",
      "(0.31143391591358011, 0.13850262856695561)\n",
      "(0.57619414997180107, 0.0032107981667558734)\n",
      "8\n",
      "(0.2108554657028246, 0.32265798701736542)\n",
      "(0.41637374850220205, 0.042982335850870294)\n",
      "11\n",
      "(0.19087233515930296, 0.37163476475603408)\n",
      "(0.64902561070184139, 0.000600957069905583)\n",
      "20\n",
      "(0.24974330753981394, 0.23922024569693148)\n",
      "(0.50324350112411431, 0.012184036497586903)\n",
      "22\n",
      "(0.23163227602401348, 0.27611830114065394)\n",
      "(0.50621542681910403, 0.011602887954342896)\n",
      "26\n",
      "(0.20949411310316293, 0.32586410406266531)\n",
      "(0.427122416821063, 0.037370343223078764)\n",
      "42\n",
      "(0.27864707706171893, 0.18733382135712118)\n",
      "(0.51724376635269698, 0.0096422641445324028)\n",
      "51\n",
      "(0.29127698722368883, 0.16729605576907711)\n",
      "(0.54927328260487784, 0.0054362910079028852)\n",
      "52\n",
      "(0.24762990493752896, 0.24335021037230695)\n",
      "(0.44000876744358469, 0.031423943118532104)\n",
      "53\n",
      "(0.28280251160325232, 0.18056758580267379)\n",
      "(0.71537160198821736, 8.5181635635506032e-05)\n",
      "59\n",
      "(0.23511290975695023, 0.26876194447301704)\n",
      "(0.51756551734753298, 0.0095894702619215132)\n"
     ]
    }
   ],
   "source": [
    "print \"Communicability Centrality\"\n",
    "for reg in range(80):\n",
    "    pos_age, neg_age, pos_met, neg_met = [], [], [], []\n",
    "    for match in matches:\n",
    "        pos_id = find_subsess(match[0])\n",
    "        neg_id = find_subsess(match[1])\n",
    "        if subject_summary[subject_summary.Subsess == pos_id].values[0][3] < 30:\n",
    "            continue\n",
    "        pos_g = load_graph(util.threshold_adjacency_matrix(np.load((match[0])), cost = 0.30)[0])\n",
    "        neg_g = load_graph(util.threshold_adjacency_matrix(np.load((match[1])), cost = 0.30)[0])\n",
    "#         pos_g = load_graph(np.load((match[0])))\n",
    "#         neg_g = load_graph(np.load((match[1])))\n",
    "    #     remove_neg_weights(pos_g)\n",
    "    #     remove_neg_weights(neg_g)\n",
    "#         pos_g = load_graph(np.absolute(np.load((match[0]))))\n",
    "#         neg_g = load_graph(np.absolute(np.load((match[1]))))\n",
    "        pos_age.append(subject_summary[subject_summary.Subsess == pos_id].values[0][3])\n",
    "        neg_age.append(subject_summary[subject_summary.Subsess == neg_id].values[0][3])\n",
    "#         pos_met.append(nx.average_clustering(pos_g))\n",
    "#         neg_met.append(nx.average_clustering(neg_g))\n",
    "#         pos_met.append(nx.average_clustering(pos_g, weight = 'weight') / nx.average_shortest_path_length(pos_g, weight = 'distance'))\n",
    "#         neg_met.append(nx.average_clustering(neg_g, weight = 'weight') / nx.average_shortest_path_length(neg_g, weight = 'distance'))\n",
    "\n",
    "        pos_met.append(nx.communicability_centrality_exp(pos_g).values()[reg])\n",
    "        neg_met.append(nx.communicability_centrality_exp(neg_g).values()[reg])\n",
    "        \n",
    "    rp, rn = stats.pearsonr(pos_age, pos_met), stats.pearsonr(neg_age, neg_met)\n",
    "    if rp[1] < 0.05 or rn[1] < 0.05:\n",
    "        print str(reg)\n",
    "        print rp\n",
    "        print rn\n",
    "\n",
    "    #     pos_met.append(find_modularity(pos_g))\n",
    "    #     neg_met.append(find_modularity(neg_g))\n",
    "\n",
    "#         pos_met.append(nx.average_clustering(pos_g) / nx.average_shortest_path_length(pos_g))\n",
    "#         neg_met.append(nx.average_clustering(neg_g) / nx.average_shortest_path_length(neg_g))\n",
    "\n",
    "\n",
    "#         pos_met.append(nx.average_clustering(pos_g))\n",
    "#         neg_met.append(nx.average_clustering(neg_g))\n",
    "\n",
    "#         pos_met.append(nx.average_shortest_path_length(pos_g))\n",
    "#         neg_met.append(nx.average_shortest_path_length(neg_g))\n",
    "\n",
    "    #     neg_res = run_simulation(neg_g.copy(), order)\n",
    "    #     pos_res = run_simulation(pos_g.copy(), order)\n",
    "\n",
    "    #     np.save('/home/jagust/dino/surf/simulation_trials/ignore_pib_pos/%s.npy' % pos_id, np.array(pos_res))\n",
    "    #     np.save('/home/jagust/dino/surf/simulation_trials/ignore_pib_pos/%s.npy' % neg_id, np.array(neg_res))\n",
    "# Tried bc but wouldn't survive m.c. correction\n",
    "# Tried degree but wouldn't survive m.c. correcation"
   ]
  },
  {
   "cell_type": "code",
   "execution_count": 87,
   "metadata": {
    "collapsed": false
   },
   "outputs": [
    {
     "name": "stdout",
     "output_type": "stream",
     "text": [
      "ctx-lh-rostralanteriorcingulate\n",
      "E4+     r: (-0.42647664656972334, 0.037690226450455624)\n",
      "E4-     r: (-0.052209576601745182, 0.8085597883774619)\n"
     ]
    },
    {
     "data": {
      "image/png": "[encoded data removed]",
      "text/plain": [
       "<matplotlib.figure.Figure at 0x7f919a18bf10>"
      ]
     },
     "metadata": {},
     "output_type": "display_data"
    }
   ],
   "source": [
    "nodes = [0, 3, 10, 34, 38, 52, 57, 77]\n",
    "reg = 37\n",
    "pos_age, neg_age, pos_met, neg_met = [], [], [], []\n",
    "for match in matches:\n",
    "    pos_id = find_subsess(match[0])\n",
    "    neg_id = find_subsess(match[1])\n",
    "    if subject_summary[subject_summary.Subsess == pos_id].values[0][3] < 30:\n",
    "        continue\n",
    "    pos_g = load_graph(np.load((match[0])))\n",
    "    neg_g = load_graph(np.load((match[1])))\n",
    "    pos_age.append(subject_summary[subject_summary.Subsess == pos_id].values[0][3])\n",
    "    neg_age.append(subject_summary[subject_summary.Subsess == neg_id].values[0][3])\n",
    "    pos_met.append(pos_g.degree(reg, weight='weight'))\n",
    "    neg_met.append(neg_g.degree(reg, weight='weight'))\n",
    "\n",
    "rp, rn = stats.pearsonr(pos_age, pos_met), stats.pearsonr(neg_age, neg_met)\n",
    "\n",
    "fig = plt.figure()\n",
    "ax = fig.add_subplot(111)\n",
    "ax.scatter(pos_age, pos_met, c = 'b')\n",
    "ax.scatter(neg_age, neg_met, c = 'r')\n",
    "print reg_name(reg)\n",
    "plt.ylabel('Degree')\n",
    "plt.xlabel('Age')\n",
    "rp, rn = stats.pearsonr(pos_age, pos_met), stats.pearsonr(neg_age, neg_met)\n",
    "print \"E4+     r: \" + str(rp)\n",
    "print \"E4-     r: \" + str(rn)"
   ]
  },
  {
   "cell_type": "code",
   "execution_count": null,
   "metadata": {
    "collapsed": false
   },
   "outputs": [],
   "source": []
  },
  {
   "cell_type": "code",
   "execution_count": 89,
   "metadata": {
    "collapsed": false,
    "scrolled": true
   },
   "outputs": [
    {
     "name": "stdout",
     "output_type": "stream",
     "text": [
      "ctx-rh-caudalanteriorcingulate\n",
      "E4+     r: (-0.52596973881483799, 0.0082929184484989548)\n",
      "E4-     r: (-0.058338860182976494, 0.7865646997714888)\n"
     ]
    },
    {
     "data": {
      "image/png": "[encoded data removed]",
      "text/plain": [
       "<matplotlib.figure.Figure at 0x7f9199a345d0>"
      ]
     },
     "metadata": {},
     "output_type": "display_data"
    }
   ],
   "source": [
    "reg = 47\n",
    "pos_age, neg_age, pos_met, neg_met = [], [], [], []\n",
    "for match in matches:\n",
    "    pos_id = find_subsess(match[0])\n",
    "    neg_id = find_subsess(match[1])\n",
    "    if subject_summary[subject_summary.Subsess == pos_id].values[0][3] < 30:\n",
    "        continue\n",
    "    pos_g = load_graph(np.load((match[0])))\n",
    "    neg_g = load_graph(np.load((match[1])))\n",
    "    pos_age.append(subject_summary[subject_summary.Subsess == pos_id].values[0][3])\n",
    "    neg_age.append(subject_summary[subject_summary.Subsess == neg_id].values[0][3])\n",
    "    pos_met.append(pos_g.degree(reg, weight='weight'))\n",
    "    neg_met.append(neg_g.degree(reg, weight='weight'))\n",
    "\n",
    "rp, rn = stats.pearsonr(pos_age, pos_met), stats.pearsonr(neg_age, neg_met)\n",
    "\n",
    "fig = plt.figure()\n",
    "ax = fig.add_subplot(111)\n",
    "ax.scatter(pos_age, pos_met, c = 'b')\n",
    "ax.scatter(neg_age, neg_met, c = 'r')\n",
    "print reg_name(reg)\n",
    "plt.ylabel('Degree')\n",
    "plt.xlabel('Age')\n",
    "rp, rn = stats.pearsonr(pos_age, pos_met), stats.pearsonr(neg_age, neg_met)\n",
    "print \"E4+     r: \" + str(rp)\n",
    "print \"E4-     r: \" + str(rn)"
   ]
  },
  {
   "cell_type": "code",
   "execution_count": 90,
   "metadata": {
    "collapsed": false
   },
   "outputs": [
    {
     "name": "stdout",
     "output_type": "stream",
     "text": [
      "ctx-rh-inferiortemporal\n",
      "E4+     r: (0.18583787676968239, 0.38461523568722744)\n",
      "E4-     r: (0.45914226943759567, 0.024011030716524502)\n"
     ]
    },
    {
     "data": {
      "image/png": "[encoded data removed]",
      "text/plain": [
       "<matplotlib.figure.Figure at 0x7f919982dcd0>"
      ]
     },
     "metadata": {},
     "output_type": "display_data"
    }
   ],
   "source": [
    "reg = 53\n",
    "pos_age, neg_age, pos_met, neg_met = [], [], [], []\n",
    "for match in matches:\n",
    "    pos_id = find_subsess(match[0])\n",
    "    neg_id = find_subsess(match[1])\n",
    "    if subject_summary[subject_summary.Subsess == pos_id].values[0][3] < 30:\n",
    "        continue\n",
    "    pos_g = load_graph(np.load((match[0])))\n",
    "    neg_g = load_graph(np.load((match[1])))\n",
    "    pos_age.append(subject_summary[subject_summary.Subsess == pos_id].values[0][3])\n",
    "    neg_age.append(subject_summary[subject_summary.Subsess == neg_id].values[0][3])\n",
    "    pos_met.append(pos_g.degree(reg, weight='weight'))\n",
    "    neg_met.append(neg_g.degree(reg, weight='weight'))\n",
    "\n",
    "rp, rn = stats.pearsonr(pos_age, pos_met), stats.pearsonr(neg_age, neg_met)\n",
    "\n",
    "fig = plt.figure()\n",
    "ax = fig.add_subplot(111)\n",
    "ax.scatter(pos_age, pos_met, c = 'b')\n",
    "ax.scatter(neg_age, neg_met, c = 'r')\n",
    "print reg_name(reg)\n",
    "plt.ylabel('Degree')\n",
    "plt.xlabel('Age')\n",
    "rp, rn = stats.pearsonr(pos_age, pos_met), stats.pearsonr(neg_age, neg_met)\n",
    "print \"E4+     r: \" + str(rp)\n",
    "print \"E4-     r: \" + str(rn)"
   ]
  },
  {
   "cell_type": "code",
   "execution_count": 91,
   "metadata": {
    "collapsed": false
   },
   "outputs": [
    {
     "name": "stdout",
     "output_type": "stream",
     "text": [
      "ctx-rh-parahippocampal\n",
      "E4+     r: (0.2644037936470659, 0.21183893832167938)\n",
      "E4-     r: (0.40913184636307987, 0.047122366815432616)\n"
     ]
    },
    {
     "data": {
      "image/png": "[encoded data removed]",
      "text/plain": [
       "<matplotlib.figure.Figure at 0x7f919a515210>"
      ]
     },
     "metadata": {},
     "output_type": "display_data"
    }
   ],
   "source": [
    "reg = 60\n",
    "pos_age, neg_age, pos_met, neg_met = [], [], [], []\n",
    "for match in matches:\n",
    "    pos_id = find_subsess(match[0])\n",
    "    neg_id = find_subsess(match[1])\n",
    "    if subject_summary[subject_summary.Subsess == pos_id].values[0][3] < 30:\n",
    "        continue\n",
    "    pos_g = load_graph(np.load((match[0])))\n",
    "    neg_g = load_graph(np.load((match[1])))\n",
    "    pos_age.append(subject_summary[subject_summary.Subsess == pos_id].values[0][3])\n",
    "    neg_age.append(subject_summary[subject_summary.Subsess == neg_id].values[0][3])\n",
    "    pos_met.append(pos_g.degree(reg, weight='weight'))\n",
    "    neg_met.append(neg_g.degree(reg, weight='weight'))\n",
    "\n",
    "rp, rn = stats.pearsonr(pos_age, pos_met), stats.pearsonr(neg_age, neg_met)\n",
    "\n",
    "fig = plt.figure()\n",
    "ax = fig.add_subplot(111)\n",
    "ax.scatter(pos_age, pos_met, c = 'b')\n",
    "ax.scatter(neg_age, neg_met, c = 'r')\n",
    "print reg_name(reg)\n",
    "plt.ylabel('Degree')\n",
    "plt.xlabel('Age')\n",
    "rp, rn = stats.pearsonr(pos_age, pos_met), stats.pearsonr(neg_age, neg_met)\n",
    "print \"E4+     r: \" + str(rp)\n",
    "print \"E4-     r: \" + str(rn)"
   ]
  },
  {
   "cell_type": "code",
   "execution_count": 86,
   "metadata": {
    "collapsed": true
   },
   "outputs": [],
   "source": [
    "reg_names = np.genfromtxt('/home/jagust/graph/scripts/fs_gm.csv', delimiter=',', dtype = str)\n",
    "reg_names = reg_names[:, 0:1]\n",
    "np.save('/home/jagust/dino/surf/reg_names.npy', reg_names)\n",
    "def reg_name(reg):\n",
    "    return str(reg_names[reg][0])"
   ]
  },
  {
   "cell_type": "code",
   "execution_count": 106,
   "metadata": {
    "collapsed": false
   },
   "outputs": [
    {
     "name": "stdout",
     "output_type": "stream",
     "text": [
      "Left-Cerebellum-Cortex\n",
      "E4+     r: (0.36482438348896812, 0.079627912530122316)\n",
      "E4-     r: (0.029870063605215127, 0.88980455343905784)\n"
     ]
    },
    {
     "data": {
      "image/png": "[encoded data removed]",
      "text/plain": [
       "<matplotlib.figure.Figure at 0x7f9199a34990>"
      ]
     },
     "metadata": {},
     "output_type": "display_data"
    }
   ],
   "source": [
    "nodes = [0, 3, 10, 34, 38, 52, 57, 77]\n",
    "reg = 0\n",
    "pos_age, neg_age, pos_met, neg_met = [], [], [], []\n",
    "for match in matches:\n",
    "    pos_id = find_subsess(match[0])\n",
    "    neg_id = find_subsess(match[1])\n",
    "    if subject_summary[subject_summary.Subsess == pos_id].values[0][3] < 30:\n",
    "        continue\n",
    "    pos_g = load_graph(np.load((match[0])))\n",
    "    neg_g = load_graph(np.load((match[1])))\n",
    "    pos_age.append(subject_summary[subject_summary.Subsess == pos_id].values[0][3])\n",
    "    neg_age.append(subject_summary[subject_summary.Subsess == neg_id].values[0][3])\n",
    "    pos_met.append(nx.betweenness_centrality(pos_g, weight='distance').values()[reg])\n",
    "    neg_met.append(nx.betweenness_centrality(neg_g, weight='distance').values()[reg])\n",
    "\n",
    "rp, rn = stats.pearsonr(pos_age, pos_met), stats.pearsonr(neg_age, neg_met)\n",
    "\n",
    "fig = plt.figure()\n",
    "ax = fig.add_subplot(111)\n",
    "ax.scatter(pos_age, pos_met, c = 'b')\n",
    "ax.scatter(neg_age, neg_met, c = 'r')\n",
    "print reg_name(reg)\n",
    "plt.ylabel('Betweenness Centrality')\n",
    "plt.xlabel('Age')\n",
    "plt.ylim(0.01, 0.03)\n",
    "rp, rn = stats.pearsonr(pos_age, pos_met), stats.pearsonr(neg_age, neg_met)\n",
    "print \"E4+     r: \" + str(rp)\n",
    "print \"E4-     r: \" + str(rn)"
   ]
  },
  {
   "cell_type": "code",
   "execution_count": 113,
   "metadata": {
    "collapsed": false
   },
   "outputs": [
    {
     "name": "stdout",
     "output_type": "stream",
     "text": [
      "Left-Putamen\n",
      "E4+     r: (0.48824243513248783, 0.015494999768556896)\n",
      "E4-     r: (-0.12739889692299186, 0.55302582375036313)\n"
     ]
    },
    {
     "data": {
      "image/png": "[encoded data removed]",
      "text/plain": [
       "<matplotlib.figure.Figure at 0x7f9199f0f190>"
      ]
     },
     "metadata": {},
     "output_type": "display_data"
    }
   ],
   "source": [
    "nodes = [0, 3, 10, 34, 38, 52, 57, 77]\n",
    "reg = 3\n",
    "pos_age, neg_age, pos_met, neg_met = [], [], [], []\n",
    "for match in matches:\n",
    "    pos_id = find_subsess(match[0])\n",
    "    neg_id = find_subsess(match[1])\n",
    "    if subject_summary[subject_summary.Subsess == pos_id].values[0][3] < 30:\n",
    "        continue\n",
    "    pos_g = load_graph(np.load((match[0])))\n",
    "    neg_g = load_graph(np.load((match[1])))\n",
    "    pos_age.append(subject_summary[subject_summary.Subsess == pos_id].values[0][3])\n",
    "    neg_age.append(subject_summary[subject_summary.Subsess == neg_id].values[0][3])\n",
    "    pos_met.append(nx.betweenness_centrality(pos_g, weight='distance').values()[reg])\n",
    "    neg_met.append(nx.betweenness_centrality(neg_g, weight='distance').values()[reg])\n",
    "\n",
    "rp, rn = stats.pearsonr(pos_age, pos_met), stats.pearsonr(neg_age, neg_met)\n",
    "\n",
    "fig = plt.figure()\n",
    "ax = fig.add_subplot(111)\n",
    "ax.scatter(pos_age, pos_met, c = 'b')\n",
    "ax.scatter(neg_age, neg_met, c = 'r')\n",
    "print reg_name(reg)\n",
    "plt.ylabel('Betweenness Centrality')\n",
    "plt.xlabel('Age')\n",
    "plt.ylim(0.0127, 0.0137)\n",
    "rp, rn = stats.pearsonr(pos_age, pos_met), stats.pearsonr(neg_age, neg_met)\n",
    "print \"E4+     r: \" + str(rp)\n",
    "print \"E4-     r: \" + str(rn)"
   ]
  },
  {
   "cell_type": "code",
   "execution_count": 116,
   "metadata": {
    "collapsed": false
   },
   "outputs": [
    {
     "name": "stdout",
     "output_type": "stream",
     "text": [
      "0.0128205128205\n",
      "0.0128205128205\n",
      "0.0128205128205\n",
      "0.0128205128205\n",
      "0.0131450827653\n",
      "0.0128205128205\n",
      "0.0128205128205\n",
      "0.0128205128205\n",
      "0.0128205128205\n",
      "0.0128205128205\n",
      "0.0128205128205\n",
      "0.0128205128205\n",
      "0.0128205128205\n",
      "0.0128205128205\n",
      "0.0128205128205\n",
      "0.0128205128205\n",
      "0.0128205128205\n",
      "0.0128205128205\n",
      "0.0128205128205\n",
      "0.0128205128205\n",
      "0.0128205128205\n",
      "0.0128205128205\n",
      "0.0128205128205\n",
      "0.0128205128205\n",
      "0.0128205128205\n",
      "0.0128205128205\n",
      "0.0128205128205\n",
      "0.0128205128205\n",
      "0.0128205128205\n",
      "0.0128205128205\n",
      "0.0128205128205\n",
      "0.0128205128205\n",
      "0.0128205128205\n",
      "0.0131450827653\n",
      "0.0128205128205\n",
      "0.0128205128205\n",
      "0.0128205128205\n",
      "0.0128205128205\n",
      "0.0128205128205\n",
      "0.0128205128205\n",
      "0.0128205128205\n",
      "0.0128205128205\n",
      "0.0128205128205\n",
      "0.0128205128205\n",
      "0.0131450827653\n",
      "0.0128205128205\n",
      "0.0128205128205\n",
      "0.0128205128205\n",
      "Right-Putamen\n",
      "E4+     r: (0.39244196410063714, 0.057849862352544225)\n",
      "E4-     r: (-0.088104500282124479, 0.68226209564182305)\n"
     ]
    },
    {
     "data": {
      "image/png": "[encoded data removed]",
      "text/plain": [
       "<matplotlib.figure.Figure at 0x7f91995f0d10>"
      ]
     },
     "metadata": {},
     "output_type": "display_data"
    }
   ],
   "source": [
    "nodes = [0, 3, 10, 34, 38, 52, 57, 77]\n",
    "reg = 10\n",
    "pos_age, neg_age, pos_met, neg_met = [], [], [], []\n",
    "for match in matches:\n",
    "    pos_id = find_subsess(match[0])\n",
    "    neg_id = find_subsess(match[1])\n",
    "    if subject_summary[subject_summary.Subsess == pos_id].values[0][3] < 30:\n",
    "        continue\n",
    "    pos_g = load_graph(np.load((match[0])))\n",
    "    neg_g = load_graph(np.load((match[1])))\n",
    "    pos_age.append(subject_summary[subject_summary.Subsess == pos_id].values[0][3])\n",
    "    neg_age.append(subject_summary[subject_summary.Subsess == neg_id].values[0][3])\n",
    "    pos_met.append(nx.betweenness_centrality(pos_g, weight='distance').values()[reg])\n",
    "    neg_met.append(nx.betweenness_centrality(neg_g, weight='distance').values()[reg])\n",
    "\n",
    "rp, rn = stats.pearsonr(pos_age, pos_met), stats.pearsonr(neg_age, neg_met)\n",
    "\n",
    "fig = plt.figure()\n",
    "ax = fig.add_subplot(111)\n",
    "for ind in range(len(pos_met)):\n",
    "    print pos_met[ind]\n",
    "    print neg_met[ind]\n",
    "ax.scatter(pos_age, pos_met, c = 'b')\n",
    "ax.scatter(neg_age, neg_met, c = 'r')\n",
    "print reg_name(reg)\n",
    "plt.ylabel('Betweenness Centrality')\n",
    "plt.xlabel('Age')\n",
    "plt.ylim(0.0128, 0.0132)\n",
    "rp, rn = stats.pearsonr(pos_age, pos_met), stats.pearsonr(neg_age, neg_met)\n",
    "print \"E4+     r: \" + str(rp)\n",
    "print \"E4-     r: \" + str(rn)"
   ]
  },
  {
   "cell_type": "code",
   "execution_count": 102,
   "metadata": {
    "collapsed": false
   },
   "outputs": [
    {
     "ename": "KeyboardInterrupt",
     "evalue": "",
     "output_type": "error",
     "traceback": [
      "\u001b[1;31m---------------------------------------------------------------------------\u001b[0m",
      "\u001b[1;31mKeyboardInterrupt\u001b[0m                         Traceback (most recent call last)",
      "\u001b[1;32m<ipython-input-102-2f8471478f51>\u001b[0m in \u001b[0;36m<module>\u001b[1;34m()\u001b[0m\n\u001b[0;32m     12\u001b[0m     \u001b[0mneg_age\u001b[0m\u001b[1;33m.\u001b[0m\u001b[0mappend\u001b[0m\u001b[1;33m(\u001b[0m\u001b[0msubject_summary\u001b[0m\u001b[1;33m[\u001b[0m\u001b[0msubject_summary\u001b[0m\u001b[1;33m.\u001b[0m\u001b[0mSubsess\u001b[0m \u001b[1;33m==\u001b[0m \u001b[0mneg_id\u001b[0m\u001b[1;33m]\u001b[0m\u001b[1;33m.\u001b[0m\u001b[0mvalues\u001b[0m\u001b[1;33m[\u001b[0m\u001b[1;36m0\u001b[0m\u001b[1;33m]\u001b[0m\u001b[1;33m[\u001b[0m\u001b[1;36m3\u001b[0m\u001b[1;33m]\u001b[0m\u001b[1;33m)\u001b[0m\u001b[1;33m\u001b[0m\u001b[0m\n\u001b[0;32m     13\u001b[0m     \u001b[0mpos_met\u001b[0m\u001b[1;33m.\u001b[0m\u001b[0mappend\u001b[0m\u001b[1;33m(\u001b[0m\u001b[0mnx\u001b[0m\u001b[1;33m.\u001b[0m\u001b[0mbetweenness_centrality\u001b[0m\u001b[1;33m(\u001b[0m\u001b[0mpos_g\u001b[0m\u001b[1;33m,\u001b[0m \u001b[0mweight\u001b[0m\u001b[1;33m=\u001b[0m\u001b[1;34m'distance'\u001b[0m\u001b[1;33m)\u001b[0m\u001b[1;33m.\u001b[0m\u001b[0mvalues\u001b[0m\u001b[1;33m(\u001b[0m\u001b[1;33m)\u001b[0m\u001b[1;33m[\u001b[0m\u001b[0mreg\u001b[0m\u001b[1;33m]\u001b[0m\u001b[1;33m)\u001b[0m\u001b[1;33m\u001b[0m\u001b[0m\n\u001b[1;32m---> 14\u001b[1;33m     \u001b[0mneg_met\u001b[0m\u001b[1;33m.\u001b[0m\u001b[0mappend\u001b[0m\u001b[1;33m(\u001b[0m\u001b[0mnx\u001b[0m\u001b[1;33m.\u001b[0m\u001b[0mbetweenness_centrality\u001b[0m\u001b[1;33m(\u001b[0m\u001b[0mneg_g\u001b[0m\u001b[1;33m,\u001b[0m \u001b[0mweight\u001b[0m\u001b[1;33m=\u001b[0m\u001b[1;34m'distance'\u001b[0m\u001b[1;33m)\u001b[0m\u001b[1;33m.\u001b[0m\u001b[0mvalues\u001b[0m\u001b[1;33m(\u001b[0m\u001b[1;33m)\u001b[0m\u001b[1;33m[\u001b[0m\u001b[0mreg\u001b[0m\u001b[1;33m]\u001b[0m\u001b[1;33m)\u001b[0m\u001b[1;33m\u001b[0m\u001b[0m\n\u001b[0m\u001b[0;32m     15\u001b[0m \u001b[1;33m\u001b[0m\u001b[0m\n\u001b[0;32m     16\u001b[0m \u001b[0mrp\u001b[0m\u001b[1;33m,\u001b[0m \u001b[0mrn\u001b[0m \u001b[1;33m=\u001b[0m \u001b[0mstats\u001b[0m\u001b[1;33m.\u001b[0m\u001b[0mpearsonr\u001b[0m\u001b[1;33m(\u001b[0m\u001b[0mpos_age\u001b[0m\u001b[1;33m,\u001b[0m \u001b[0mpos_met\u001b[0m\u001b[1;33m)\u001b[0m\u001b[1;33m,\u001b[0m \u001b[0mstats\u001b[0m\u001b[1;33m.\u001b[0m\u001b[0mpearsonr\u001b[0m\u001b[1;33m(\u001b[0m\u001b[0mneg_age\u001b[0m\u001b[1;33m,\u001b[0m \u001b[0mneg_met\u001b[0m\u001b[1;33m)\u001b[0m\u001b[1;33m\u001b[0m\u001b[0m\n",
      "\u001b[1;32m/usr/local/anaconda/lib/python2.7/site-packages/networkx/algorithms/centrality/betweenness.pyc\u001b[0m in \u001b[0;36mbetweenness_centrality\u001b[1;34m(G, k, normalized, weight, endpoints, seed)\u001b[0m\n\u001b[0;32m    108\u001b[0m             \u001b[0mS\u001b[0m\u001b[1;33m,\u001b[0m \u001b[0mP\u001b[0m\u001b[1;33m,\u001b[0m \u001b[0msigma\u001b[0m \u001b[1;33m=\u001b[0m \u001b[0m_single_source_shortest_path_basic\u001b[0m\u001b[1;33m(\u001b[0m\u001b[0mG\u001b[0m\u001b[1;33m,\u001b[0m \u001b[0ms\u001b[0m\u001b[1;33m)\u001b[0m\u001b[1;33m\u001b[0m\u001b[0m\n\u001b[0;32m    109\u001b[0m         \u001b[1;32melse\u001b[0m\u001b[1;33m:\u001b[0m  \u001b[1;31m# use Dijkstra's algorithm\u001b[0m\u001b[1;33m\u001b[0m\u001b[0m\n\u001b[1;32m--> 110\u001b[1;33m             \u001b[0mS\u001b[0m\u001b[1;33m,\u001b[0m \u001b[0mP\u001b[0m\u001b[1;33m,\u001b[0m \u001b[0msigma\u001b[0m \u001b[1;33m=\u001b[0m \u001b[0m_single_source_dijkstra_path_basic\u001b[0m\u001b[1;33m(\u001b[0m\u001b[0mG\u001b[0m\u001b[1;33m,\u001b[0m \u001b[0ms\u001b[0m\u001b[1;33m,\u001b[0m \u001b[0mweight\u001b[0m\u001b[1;33m)\u001b[0m\u001b[1;33m\u001b[0m\u001b[0m\n\u001b[0m\u001b[0;32m    111\u001b[0m         \u001b[1;31m# accumulation\u001b[0m\u001b[1;33m\u001b[0m\u001b[1;33m\u001b[0m\u001b[0m\n\u001b[0;32m    112\u001b[0m         \u001b[1;32mif\u001b[0m \u001b[0mendpoints\u001b[0m\u001b[1;33m:\u001b[0m\u001b[1;33m\u001b[0m\u001b[0m\n",
      "\u001b[1;32m/usr/local/anaconda/lib/python2.7/site-packages/networkx/algorithms/centrality/betweenness.pyc\u001b[0m in \u001b[0;36m_single_source_dijkstra_path_basic\u001b[1;34m(G, s, weight)\u001b[0m\n\u001b[0;32m    252\u001b[0m         \u001b[0msigma\u001b[0m\u001b[1;33m[\u001b[0m\u001b[0mv\u001b[0m\u001b[1;33m]\u001b[0m \u001b[1;33m+=\u001b[0m \u001b[0msigma\u001b[0m\u001b[1;33m[\u001b[0m\u001b[0mpred\u001b[0m\u001b[1;33m]\u001b[0m  \u001b[1;31m# count paths\u001b[0m\u001b[1;33m\u001b[0m\u001b[0m\n\u001b[0;32m    253\u001b[0m         \u001b[0mS\u001b[0m\u001b[1;33m.\u001b[0m\u001b[0mappend\u001b[0m\u001b[1;33m(\u001b[0m\u001b[0mv\u001b[0m\u001b[1;33m)\u001b[0m\u001b[1;33m\u001b[0m\u001b[0m\n\u001b[1;32m--> 254\u001b[1;33m         \u001b[0mD\u001b[0m\u001b[1;33m[\u001b[0m\u001b[0mv\u001b[0m\u001b[1;33m]\u001b[0m \u001b[1;33m=\u001b[0m \u001b[0mdist\u001b[0m\u001b[1;33m\u001b[0m\u001b[0m\n\u001b[0m\u001b[0;32m    255\u001b[0m         \u001b[1;32mfor\u001b[0m \u001b[0mw\u001b[0m\u001b[1;33m,\u001b[0m \u001b[0medgedata\u001b[0m \u001b[1;32min\u001b[0m \u001b[0mG\u001b[0m\u001b[1;33m[\u001b[0m\u001b[0mv\u001b[0m\u001b[1;33m]\u001b[0m\u001b[1;33m.\u001b[0m\u001b[0mitems\u001b[0m\u001b[1;33m(\u001b[0m\u001b[1;33m)\u001b[0m\u001b[1;33m:\u001b[0m\u001b[1;33m\u001b[0m\u001b[0m\n\u001b[0;32m    256\u001b[0m             \u001b[0mvw_dist\u001b[0m \u001b[1;33m=\u001b[0m \u001b[0mdist\u001b[0m \u001b[1;33m+\u001b[0m \u001b[0medgedata\u001b[0m\u001b[1;33m.\u001b[0m\u001b[0mget\u001b[0m\u001b[1;33m(\u001b[0m\u001b[0mweight\u001b[0m\u001b[1;33m,\u001b[0m \u001b[1;36m1\u001b[0m\u001b[1;33m)\u001b[0m\u001b[1;33m\u001b[0m\u001b[0m\n",
      "\u001b[1;31mKeyboardInterrupt\u001b[0m: "
     ]
    }
   ],
   "source": [
    "nodes = [0, 3, 10, 34, 38, 52, 57, 77]\n",
    "reg = 34\n",
    "pos_age, neg_age, pos_met, neg_met = [], [], [], []\n",
    "for match in matches:\n",
    "    pos_id = find_subsess(match[0])\n",
    "    neg_id = find_subsess(match[1])\n",
    "    if subject_summary[subject_summary.Subsess == pos_id].values[0][3] < 30:\n",
    "        continue\n",
    "    pos_g = load_graph(np.load((match[0])))\n",
    "    neg_g = load_graph(np.load((match[1])))\n",
    "    pos_age.append(subject_summary[subject_summary.Subsess == pos_id].values[0][3])\n",
    "    neg_age.append(subject_summary[subject_summary.Subsess == neg_id].values[0][3])\n",
    "    pos_met.append(nx.betweenness_centrality(pos_g, weight='distance').values()[reg])\n",
    "    neg_met.append(nx.betweenness_centrality(neg_g, weight='distance').values()[reg])\n",
    "\n",
    "rp, rn = stats.pearsonr(pos_age, pos_met), stats.pearsonr(neg_age, neg_met)\n",
    "\n",
    "fig = plt.figure()\n",
    "ax = fig.add_subplot(111)\n",
    "ax.scatter(pos_age, pos_met, c = 'b')\n",
    "ax.scatter(neg_age, neg_met, c = 'r')\n",
    "print reg_name(reg)\n",
    "plt.ylabel('Betweenness Centrality')\n",
    "plt.xlabel('Age')\n",
    "rp, rn = stats.pearsonr(pos_age, pos_met), stats.pearsonr(neg_age, neg_met)\n",
    "print \"E4+     r: \" + str(rp)\n",
    "print \"E4-     r: \" + str(rn)"
   ]
  },
  {
   "cell_type": "code",
   "execution_count": null,
   "metadata": {
    "collapsed": true
   },
   "outputs": [],
   "source": [
    "nodes = [0, 3, 10, 34, 38, 52, 57, 77]\n",
    "reg = 38\n",
    "pos_age, neg_age, pos_met, neg_met = [], [], [], []\n",
    "for match in matches:\n",
    "    pos_id = find_subsess(match[0])\n",
    "    neg_id = find_subsess(match[1])\n",
    "    if subject_summary[subject_summary.Subsess == pos_id].values[0][3] < 30:\n",
    "        continue\n",
    "    pos_g = load_graph(np.load((match[0])))\n",
    "    neg_g = load_graph(np.load((match[1])))\n",
    "    pos_age.append(subject_summary[subject_summary.Subsess == pos_id].values[0][3])\n",
    "    neg_age.append(subject_summary[subject_summary.Subsess == neg_id].values[0][3])\n",
    "    pos_met.append(nx.betweenness_centrality(pos_g, weight='distance').values()[reg])\n",
    "    neg_met.append(nx.betweenness_centrality(neg_g, weight='distance').values()[reg])\n",
    "\n",
    "rp, rn = stats.pearsonr(pos_age, pos_met), stats.pearsonr(neg_age, neg_met)\n",
    "\n",
    "fig = plt.figure()\n",
    "ax = fig.add_subplot(111)\n",
    "ax.scatter(pos_age, pos_met, c = 'b')\n",
    "ax.scatter(neg_age, neg_met, c = 'r')\n",
    "print reg_name(reg)\n",
    "plt.ylabel('Betweenness Centrality')\n",
    "plt.xlabel('Age')\n",
    "rp, rn = stats.pearsonr(pos_age, pos_met), stats.pearsonr(neg_age, neg_met)\n",
    "print \"E4+     r: \" + str(rp)\n",
    "print \"E4-     r: \" + str(rn)"
   ]
  },
  {
   "cell_type": "code",
   "execution_count": null,
   "metadata": {
    "collapsed": true
   },
   "outputs": [],
   "source": [
    "nodes = [0, 3, 10, 34, 38, 52, 57, 77]\n",
    "reg = 52\n",
    "pos_age, neg_age, pos_met, neg_met = [], [], [], []\n",
    "for match in matches:\n",
    "    pos_id = find_subsess(match[0])\n",
    "    neg_id = find_subsess(match[1])\n",
    "    if subject_summary[subject_summary.Subsess == pos_id].values[0][3] < 30:\n",
    "        continue\n",
    "    pos_g = load_graph(np.load((match[0])))\n",
    "    neg_g = load_graph(np.load((match[1])))\n",
    "    pos_age.append(subject_summary[subject_summary.Subsess == pos_id].values[0][3])\n",
    "    neg_age.append(subject_summary[subject_summary.Subsess == neg_id].values[0][3])\n",
    "    pos_met.append(nx.betweenness_centrality(pos_g, weight='distance').values()[reg])\n",
    "    neg_met.append(nx.betweenness_centrality(neg_g, weight='distance').values()[reg])\n",
    "\n",
    "rp, rn = stats.pearsonr(pos_age, pos_met), stats.pearsonr(neg_age, neg_met)\n",
    "\n",
    "fig = plt.figure()\n",
    "ax = fig.add_subplot(111)\n",
    "ax.scatter(pos_age, pos_met, c = 'b')\n",
    "ax.scatter(neg_age, neg_met, c = 'r')\n",
    "print reg_name(reg)\n",
    "plt.ylabel('Betweenness Centrality')\n",
    "plt.xlabel('Age')\n",
    "rp, rn = stats.pearsonr(pos_age, pos_met), stats.pearsonr(neg_age, neg_met)\n",
    "print \"E4+     r: \" + str(rp)\n",
    "print \"E4-     r: \" + str(rn)"
   ]
  },
  {
   "cell_type": "code",
   "execution_count": null,
   "metadata": {
    "collapsed": true
   },
   "outputs": [],
   "source": [
    "nodes = [0, 3, 10, 34, 38, 52, 57, 77]\n",
    "reg = 57\n",
    "pos_age, neg_age, pos_met, neg_met = [], [], [], []\n",
    "for match in matches:\n",
    "    pos_id = find_subsess(match[0])\n",
    "    neg_id = find_subsess(match[1])\n",
    "    if subject_summary[subject_summary.Subsess == pos_id].values[0][3] < 30:\n",
    "        continue\n",
    "    pos_g = load_graph(np.load((match[0])))\n",
    "    neg_g = load_graph(np.load((match[1])))\n",
    "    pos_age.append(subject_summary[subject_summary.Subsess == pos_id].values[0][3])\n",
    "    neg_age.append(subject_summary[subject_summary.Subsess == neg_id].values[0][3])\n",
    "    pos_met.append(nx.betweenness_centrality(pos_g, weight='distance').values()[reg])\n",
    "    neg_met.append(nx.betweenness_centrality(neg_g, weight='distance').values()[reg])\n",
    "\n",
    "rp, rn = stats.pearsonr(pos_age, pos_met), stats.pearsonr(neg_age, neg_met)\n",
    "\n",
    "fig = plt.figure()\n",
    "ax = fig.add_subplot(111)\n",
    "ax.scatter(pos_age, pos_met, c = 'b')\n",
    "ax.scatter(neg_age, neg_met, c = 'r')\n",
    "print reg_name(reg)\n",
    "plt.ylabel('Betweenness Centrality')\n",
    "plt.xlabel('Age')\n",
    "rp, rn = stats.pearsonr(pos_age, pos_met), stats.pearsonr(neg_age, neg_met)\n",
    "print \"E4+     r: \" + str(rp)\n",
    "print \"E4-     r: \" + str(rn)"
   ]
  },
  {
   "cell_type": "code",
   "execution_count": null,
   "metadata": {
    "collapsed": true
   },
   "outputs": [],
   "source": [
    "nodes = [0, 3, 10, 34, 38, 52, 57, 77]\n",
    "reg = 77\n",
    "pos_age, neg_age, pos_met, neg_met = [], [], [], []\n",
    "for match in matches:\n",
    "    pos_id = find_subsess(match[0])\n",
    "    neg_id = find_subsess(match[1])\n",
    "    if subject_summary[subject_summary.Subsess == pos_id].values[0][3] < 30:\n",
    "        continue\n",
    "    pos_g = load_graph(np.load((match[0])))\n",
    "    neg_g = load_graph(np.load((match[1])))\n",
    "    pos_age.append(subject_summary[subject_summary.Subsess == pos_id].values[0][3])\n",
    "    neg_age.append(subject_summary[subject_summary.Subsess == neg_id].values[0][3])\n",
    "    pos_met.append(nx.betweenness_centrality(pos_g, weight='distance').values()[reg])\n",
    "    neg_met.append(nx.betweenness_centrality(neg_g, weight='distance').values()[reg])\n",
    "\n",
    "rp, rn = stats.pearsonr(pos_age, pos_met), stats.pearsonr(neg_age, neg_met)\n",
    "\n",
    "fig = plt.figure()\n",
    "ax = fig.add_subplot(111)\n",
    "ax.scatter(pos_age, pos_met, c = 'b')\n",
    "ax.scatter(neg_age, neg_met, c = 'r')\n",
    "print reg_name(reg)\n",
    "plt.ylabel('Betweenness Centrality')\n",
    "plt.xlabel('Age')\n",
    "rp, rn = stats.pearsonr(pos_age, pos_met), stats.pearsonr(neg_age, neg_met)\n",
    "print \"E4+     r: \" + str(rp)\n",
    "print \"E4-     r: \" + str(rn)"
   ]
  },
  {
   "cell_type": "code",
   "execution_count": 118,
   "metadata": {
    "collapsed": false
   },
   "outputs": [
    {
     "ename": "TypeError",
     "evalue": "communicability_centrality_exp() got an unexpected keyword argument 'weight'",
     "output_type": "error",
     "traceback": [
      "\u001b[1;31m---------------------------------------------------------------------------\u001b[0m",
      "\u001b[1;31mTypeError\u001b[0m                                 Traceback (most recent call last)",
      "\u001b[1;32m<ipython-input-118-48d8826a8dff>\u001b[0m in \u001b[0;36m<module>\u001b[1;34m()\u001b[0m\n\u001b[1;32m----> 1\u001b[1;33m \u001b[0mnx\u001b[0m\u001b[1;33m.\u001b[0m\u001b[0mcommunicability_centrality_exp\u001b[0m\u001b[1;33m(\u001b[0m\u001b[0mpos_g\u001b[0m\u001b[1;33m,\u001b[0m \u001b[0mweight\u001b[0m\u001b[1;33m=\u001b[0m\u001b[1;34m'distance'\u001b[0m\u001b[1;33m)\u001b[0m\u001b[1;33m\u001b[0m\u001b[0m\n\u001b[0m",
      "\u001b[1;31mTypeError\u001b[0m: communicability_centrality_exp() got an unexpected keyword argument 'weight'"
     ]
    }
   ],
   "source": [
    "nx.communicability_centrality_exp(pos_g, weight='distance')"
   ]
  },
  {
   "cell_type": "code",
   "execution_count": null,
   "metadata": {
    "collapsed": true
   },
   "outputs": [],
   "source": []
  }
 ],
 "metadata": {
  "kernelspec": {
   "display_name": "Python 2",
   "language": "python",
   "name": "python2"
  },
  "language_info": {
   "codemirror_mode": {
    "name": "ipython",
    "version": 2
   },
   "file_extension": ".py",
   "mimetype": "text/x-python",
   "name": "python",
   "nbconvert_exporter": "python",
   "pygments_lexer": "ipython2",
   "version": "2.7.10"
  }
 },
 "nbformat": 4,
 "nbformat_minor": 0
}
