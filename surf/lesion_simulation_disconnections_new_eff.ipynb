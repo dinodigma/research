{
 "cells": [
  {
   "cell_type": "code",
   "execution_count": 1,
   "metadata": {
    "collapsed": false
   },
   "outputs": [],
   "source": [
    "% matplotlib inline\n",
    "import os\n",
    "os.chdir('/home/jagust/dino/surf/')\n",
    "from surf import *"
   ]
  },
  {
   "cell_type": "code",
   "execution_count": 9,
   "metadata": {
    "collapsed": true
   },
   "outputs": [],
   "source": [
    "pos_func_mat = np.load('/home/jagust/dino/github/surf/thr_pos_func_mat.npy')\n",
    "neg_func_mat = np.load('/home/jagust/dino/github/surf/thr_neg_func_mat.npy')\n",
    "\n",
    "funcnetneg = nx.Graph(neg_func_mat)\n",
    "funcnetpos = nx.Graph(pos_func_mat)\n",
    "\n",
    "pibmatneg = np.load('/home/jagust/dino/surf/mats/neg_pib_mat.npy')\n",
    "pibmatpos = np.load('/home/jagust/dino/surf/mats/pos_pib_mat.npy')\n",
    "\n",
    "pibnetneg = nx.Graph(pibmatneg)\n",
    "pibnetpos = nx.Graph(pibmatpos)"
   ]
  },
  {
   "cell_type": "code",
   "execution_count": 39,
   "metadata": {
    "collapsed": false
   },
   "outputs": [
    {
     "name": "stdout",
     "output_type": "stream",
     "text": [
      "Return value is a list of list of results - Indices for metrics:\n",
      "Modularity: 0\n",
      "Efficiency: 1\n",
      "Degree : 2\n",
      "# of disconnected components: 3\n",
      "Return value is a list of list of results - Indices for metrics:\n",
      "Modularity: 0\n",
      "Efficiency: 1\n",
      "Degree : 2\n",
      "# of disconnected components: 3\n"
     ]
    }
   ],
   "source": [
    "neg_results = run_simulation(funcnetneg, pibnetneg, 41, 70, efficiency=False, disconnects=True)\n",
    "pos_results = run_simulation(funcnetpos, pibnetpos, 55, 70, efficiency=False, disconnects=True)"
   ]
  },
  {
   "cell_type": "code",
   "execution_count": 56,
   "metadata": {
    "collapsed": false
   },
   "outputs": [
    {
     "data": {
      "text/plain": [
       "<matplotlib.text.Text at 0x7fd956e695d0>"
      ]
     },
     "execution_count": 56,
     "metadata": {},
     "output_type": "execute_result"
    },
    {
     "data": {
      "image/png": "[encoded data removed]",
      "text/plain": [
       "<matplotlib.figure.Figure at 0x7fd956e53510>"
      ]
     },
     "metadata": {},
     "output_type": "display_data"
    }
   ],
   "source": [
    "# Plot Efficiencies\n",
    "fig = plt.figure()\n",
    "ax = fig.add_subplot(111)\n",
    "\n",
    "\n",
    "ax.scatter(range(len(neg_results[1])), neg_results[1], c = 'r')\n",
    "ax.scatter(range(len(pos_results[1])), pos_results[1], c = 'b', alpha = 0.5)\n",
    "\n",
    "plt.xlim(0, 70)\n",
    "plt.xlabel('# Nodes Removed')\n",
    "plt.ylabel('Efficiency')"
   ]
  },
  {
   "cell_type": "code",
   "execution_count": null,
   "metadata": {
    "collapsed": false
   },
   "outputs": [],
   "source": []
  },
  {
   "cell_type": "code",
   "execution_count": 52,
   "metadata": {
    "collapsed": false
   },
   "outputs": [
    {
     "data": {
      "text/plain": [
       "<matplotlib.text.Text at 0x7fd956f18bd0>"
      ]
     },
     "execution_count": 52,
     "metadata": {},
     "output_type": "execute_result"
    },
    {
     "data": {
      "image/png": "[encoded data removed]",
      "text/plain": [
       "<matplotlib.figure.Figure at 0x7fd956f0f4d0>"
      ]
     },
     "metadata": {},
     "output_type": "display_data"
    }
   ],
   "source": [
    "# Plot Disconnected Nodes\n",
    "fig = plt.figure()\n",
    "ax = fig.add_subplot(111)\n",
    "\n",
    "\n",
    "ax.scatter(range(len(neg_results[4])), neg_results[4], c = 'r')\n",
    "ax.scatter(range(len(pos_results[4])), pos_results[4], c = 'b')\n",
    "\n",
    "plt.xlim(0, 80)\n",
    "plt.xlabel('# Nodes Removed')\n",
    "plt.ylabel('Disconnected Nodes')"
   ]
  },
  {
   "cell_type": "code",
   "execution_count": 66,
   "metadata": {
    "collapsed": true
   },
   "outputs": [],
   "source": []
  },
  {
   "cell_type": "markdown",
   "metadata": {
    "collapsed": true
   },
   "source": [
    "Running Simulation on Weighted Absolute Value Graph\n",
    "=="
   ]
  },
  {
   "cell_type": "code",
   "execution_count": 22,
   "metadata": {
    "collapsed": false
   },
   "outputs": [],
   "source": [
    "pos_func_mat = np.load('/home/jagust/dino/surf/mats/pos_group_mat_med.npy')\n",
    "neg_func_mat = np.load('/home/jagust/dino/surf/mats/neg_group_mat_med.npy')\n",
    "\n",
    "pos_func_mat = np.absolute(pos_func_mat)\n",
    "neg_func_mat = np.absolute(neg_func_mat)"
   ]
  },
  {
   "cell_type": "code",
   "execution_count": 43,
   "metadata": {
    "collapsed": false
   },
   "outputs": [],
   "source": [
    "pos_func_net = nx.Graph(pos_func_mat)\n",
    "neg_func_net = nx.Graph(neg_func_mat)\n",
    "\n",
    "add_distance_attr(pos_func_net)\n",
    "add_distance_attr(neg_func_net)\n",
    "\n",
    "add_distance_attr(pibnetpos)\n",
    "add_distance_attr(pibnetneg)"
   ]
  },
  {
   "cell_type": "code",
   "execution_count": 36,
   "metadata": {
    "collapsed": false,
    "scrolled": false
   },
   "outputs": [],
   "source": [
    "pos_results_1 = run_simulation(pos_func_net.copy(), pibnetpos, 55, 80, binary=False, total_degree=True, efficiency=True)\n",
    "neg_results_1 = run_simulation(neg_func_net.copy(), pibnetneg, 41, 80, binary=False, total_degree=True, efficiency=True)"
   ]
  },
  {
   "cell_type": "code",
   "execution_count": 33,
   "metadata": {
    "collapsed": false
   },
   "outputs": [],
   "source": [
    "# np.save('/home/jagust/dino/surf/simulation_trials/new_efficiency/geno_neg_results.npy', np.array(neg_results_1[1]))\n",
    "# np.save('/home/jagust/dino/surf/simulation_trials/new_efficiency/geno_pos_results.npy', np.array(pos_results_1[1]))"
   ]
  },
  {
   "cell_type": "code",
   "execution_count": 34,
   "metadata": {
    "collapsed": true
   },
   "outputs": [],
   "source": [
    "pos_res = np.load('/home/jagust/dino/surf/simulation_trials/new_efficiency/geno_pos_results.npy')\n",
    "neg_res = np.load('/home/jagust/dino/surf/simulation_trials/new_efficiency/geno_neg_results.npy')"
   ]
  },
  {
   "cell_type": "code",
   "execution_count": 35,
   "metadata": {
    "collapsed": false
   },
   "outputs": [
    {
     "data": {
      "text/plain": [
       "<matplotlib.text.Text at 0x7fdd87868ed0>"
      ]
     },
     "execution_count": 35,
     "metadata": {},
     "output_type": "execute_result"
    },
    {
     "data": {
      "image/png": "[encoded data removed]",
      "text/plain": [
       "<matplotlib.figure.Figure at 0x7fdd87760490>"
      ]
     },
     "metadata": {},
     "output_type": "display_data"
    }
   ],
   "source": [
    "fig = plt.figure()\n",
    "ax = fig.add_subplot(111)\n",
    "\n",
    "\n",
    "ax.scatter(range(len(neg_res)), neg_res, c = 'r')\n",
    "ax.scatter(range(len(pos_res)), pos_res, c = 'b')\n",
    "\n",
    "plt.xlim(0, 80)\n",
    "plt.xlabel('# Nodes Removed')\n",
    "plt.ylabel('Efficiency')"
   ]
  },
  {
   "cell_type": "code",
   "execution_count": 40,
   "metadata": {
    "collapsed": false
   },
   "outputs": [
    {
     "data": {
      "text/plain": [
       "<matplotlib.text.Text at 0x7fdd872d7c50>"
      ]
     },
     "execution_count": 40,
     "metadata": {},
     "output_type": "execute_result"
    },
    {
     "data": {
      "image/png": "[encoded data removed]",
      "text/plain": [
       "<matplotlib.figure.Figure at 0x7fdd87230710>"
      ]
     },
     "metadata": {},
     "output_type": "display_data"
    }
   ],
   "source": [
    "fig = plt.figure()\n",
    "ax = fig.add_subplot(111)\n",
    "\n",
    "\n",
    "ax.scatter(range(len(neg_results_1[2])), neg_results_1[2], c = 'r')\n",
    "ax.scatter(range(len(pos_results_1[2])), pos_results_1[2], c = 'b')\n",
    "\n",
    "plt.xlim(0, 80)\n",
    "plt.xlabel('# Nodes Removed')\n",
    "plt.ylabel('Degree')"
   ]
  },
  {
   "cell_type": "markdown",
   "metadata": {},
   "source": [
    "Running Simulation on Weighted Graph (w/ Negative Edges)\n",
    "=="
   ]
  },
  {
   "cell_type": "code",
   "execution_count": 44,
   "metadata": {
    "collapsed": true
   },
   "outputs": [],
   "source": [
    "pos_func_mat = np.load('/home/jagust/dino/surf/mats/pos_group_mat_med.npy')\n",
    "neg_func_mat = np.load('/home/jagust/dino/surf/mats/neg_group_mat_med.npy')\n",
    "\n",
    "pos_func_net = nx.Graph(pos_func_mat)\n",
    "neg_func_net = nx.Graph(neg_func_mat)\n",
    "\n",
    "add_distance_attr(pos_func_net)\n",
    "add_distance_attr(neg_func_net)\n",
    "\n",
    "add_distance_attr(pibnetpos)\n",
    "add_distance_attr(pibnetneg)\n",
    "\n",
    "pibmatneg = np.load('/home/jagust/dino/surf/mats/neg_pib_mat.npy')\n",
    "pibmatpos = np.load('/home/jagust/dino/surf/mats/pos_pib_mat.npy')\n",
    "\n",
    "pibnetneg = nx.Graph(pibmatneg)\n",
    "pibnetpos = nx.Graph(pibmatpos)"
   ]
  },
  {
   "cell_type": "code",
   "execution_count": 55,
   "metadata": {
    "collapsed": false
   },
   "outputs": [],
   "source": [
    "pos_results_2 = run_simulation(pos_func_net.copy(), pibnetpos, 55, 80, binary=False, total_degree=True, efficiency=True)\n",
    "neg_results_2 = run_simulation(neg_func_net.copy(), pibnetneg, 41, 80, binary=False, total_degree=True, efficiency=True)"
   ]
  },
  {
   "cell_type": "code",
   "execution_count": 51,
   "metadata": {
    "collapsed": false
   },
   "outputs": [
    {
     "data": {
      "text/plain": [
       "<matplotlib.text.Text at 0x7fdd8750a050>"
      ]
     },
     "execution_count": 51,
     "metadata": {},
     "output_type": "execute_result"
    },
    {
     "data": {
      "image/png": "[encoded data removed]",
      "text/plain": [
       "<matplotlib.figure.Figure at 0x7fdd87838790>"
      ]
     },
     "metadata": {},
     "output_type": "display_data"
    }
   ],
   "source": [
    "fig = plt.figure()\n",
    "ax = fig.add_subplot(111)\n",
    "\n",
    "\n",
    "ax.scatter(range(len(neg_results_2[1])), neg_results_2[1], c = 'r')\n",
    "ax.scatter(range(len(pos_results_2[1])), pos_results_2[1], c = 'b', alpha = 0.5)\n",
    "\n",
    "plt.xlim(0, 80)\n",
    "plt.xlabel('# Nodes Removed')\n",
    "plt.ylabel('Efficiency')"
   ]
  },
  {
   "cell_type": "code",
   "execution_count": 54,
   "metadata": {
    "collapsed": false,
    "scrolled": false
   },
   "outputs": [
    {
     "data": {
      "text/plain": [
       "<matplotlib.text.Text at 0x7fdd86dd1f50>"
      ]
     },
     "execution_count": 54,
     "metadata": {},
     "output_type": "execute_result"
    },
    {
     "data": {
      "image/png": "[encoded data removed]",
      "text/plain": [
       "<matplotlib.figure.Figure at 0x7fdd86d9c0d0>"
      ]
     },
     "metadata": {},
     "output_type": "display_data"
    }
   ],
   "source": [
    "fig = plt.figure()\n",
    "ax = fig.add_subplot(111)\n",
    "\n",
    "\n",
    "ax.scatter(range(len(neg_results_2[2])), neg_results_2[2], c = 'r')\n",
    "ax.scatter(range(len(pos_results_2[2])), pos_results_2[2], c = 'b', alpha = 0.5)\n",
    "\n",
    "plt.xlim(0, 80)\n",
    "plt.xlabel('# Nodes Removed')\n",
    "plt.ylabel('Total Degree')"
   ]
  },
  {
   "cell_type": "markdown",
   "metadata": {},
   "source": [
    "Run Simulation on all individual weighted, absolute weighted, and binary functional networks\n",
    "=="
   ]
  },
  {
   "cell_type": "code",
   "execution_count": 5,
   "metadata": {
    "collapsed": false,
    "scrolled": true
   },
   "outputs": [],
   "source": [
    "pibmatneg = np.load('/home/jagust/dino/surf/mats/neg_pib_mat.npy')\n",
    "pibmatpos = np.load('/home/jagust/dino/surf/mats/pos_pib_mat.npy')\n",
    "\n",
    "pibnetneg = nx.Graph(pibmatneg)\n",
    "pibnetpos = nx.Graph(pibmatpos)\n",
    "\n",
    "add_distance_attr(pibnetneg)\n",
    "add_distance_attr(pibnetpos)\n",
    "\n",
    "incl_paths = np.load('/home/jagust/dino/surf/inclusion_mat_paths.npy')\n",
    "for path in incl_paths:\n",
    "    subsess = get_subsess(path)\n",
    "    subid = find_id(path)\n",
    "    mat = np.load(path)\n",
    "    fnet = nx.Graph(mat)\n",
    "    inp_fnet = fnet.copy()\n",
    "    if is_geno_pos(subid):\n",
    "        inp_pnet = pibnetpos.copy()\n",
    "        seed = 55\n",
    "        geno = 'geno_pos'\n",
    "    elif is_geno_neg(subid):\n",
    "        inp_pnet = pibnetneg.copy()\n",
    "        seed = 41\n",
    "        geno = 'geno_neg'\n",
    "    else:\n",
    "        continue\n",
    "#     try:\n",
    "#         add_distance_attr(inp_fnet)\n",
    "#         weight_res = run_simulation(inp_fnet, inp_pnet, seed, 80, binary = False, efficiency=True, total_degree=True, average_degree=True)\n",
    "#         np.save('/home/jagust/dino/surf/simulation_trials/new_efficiency/individuals/%s_weighted.npy' % (subsess), weight_res)\n",
    "#     except:\n",
    "#         print subid\n",
    "    try: \n",
    "        abs_mat = np.absolute(mat)\n",
    "        abs_fnet = nx.Graph(abs_mat)\n",
    "        add_distance_attr(abs_fnet)\n",
    "        inp_fnet = abs_fnet.copy()\n",
    "        abs_res = run_simulation(inp_fnet, inp_pnet.copy(), seed, 80, binary = False, efficiency = True, modularity = False, total_degree = True, average_degree = True, disconnects = False)\n",
    "        np.save('/home/jagust/dino/surf/simulation_trials/new_efficiency/individuals/%s_absolute.npy' % (subsess), abs_res)\n",
    "    except:\n",
    "        print subid\n",
    "        \n",
    "#     try:\n",
    "#         thr_mat, c = util.threshold_adjacency_matrix(mat, cost = 0.20)\n",
    "#         thr_net = nx.Graph(thr_mat)\n",
    "#         inp_fnet = thr_net.copy()\n",
    "#         bin_res = run_simulation(inp_fnet, inp_pnet.copy(), seed, 80, binary = True, efficiency = True, modularity = False, total_degree = True, average_degree = True, disconnects = True)\n",
    "#         np.save('/home/jagust/dino/surf/simulation_trials/new_efficiency/individuals/%s_binary.npy' % (subsess), bin_res)\n",
    "#     except:\n",
    "#         print subid"
   ]
  },
  {
   "cell_type": "code",
   "execution_count": 110,
   "metadata": {
    "collapsed": false,
    "scrolled": true
   },
   "outputs": [],
   "source": [
    "# np.save('/home/jagust/dino/surf/simulation_trials/new_efficiency/individuals/%s_weighted.npy' % (subsess), weight_res)"
   ]
  },
  {
   "cell_type": "code",
   "execution_count": 109,
   "metadata": {
    "collapsed": false
   },
   "outputs": [
    {
     "ename": "NameError",
     "evalue": "name 'bin_res' is not defined",
     "output_type": "error",
     "traceback": [
      "\u001b[1;31m---------------------------------------------------------------------------\u001b[0m",
      "\u001b[1;31mNameError\u001b[0m                                 Traceback (most recent call last)",
      "\u001b[1;32m<ipython-input-109-da0b1b79f0b9>\u001b[0m in \u001b[0;36m<module>\u001b[1;34m()\u001b[0m\n\u001b[1;32m----> 1\u001b[1;33m \u001b[0mbin_res\u001b[0m\u001b[1;33m\u001b[0m\u001b[0m\n\u001b[0m",
      "\u001b[1;31mNameError\u001b[0m: name 'bin_res' is not defined"
     ]
    }
   ],
   "source": []
  },
  {
   "cell_type": "code",
   "execution_count": null,
   "metadata": {
    "collapsed": true
   },
   "outputs": [],
   "source": []
  },
  {
   "cell_type": "code",
   "execution_count": null,
   "metadata": {
    "collapsed": true
   },
   "outputs": [],
   "source": []
  },
  {
   "cell_type": "code",
   "execution_count": null,
   "metadata": {
    "collapsed": true
   },
   "outputs": [],
   "source": []
  },
  {
   "cell_type": "markdown",
   "metadata": {},
   "source": [
    "Run Simulation on all individual weighted functional networks\n",
    "=="
   ]
  },
  {
   "cell_type": "code",
   "execution_count": null,
   "metadata": {
    "collapsed": true
   },
   "outputs": [],
   "source": []
  },
  {
   "cell_type": "code",
   "execution_count": null,
   "metadata": {
    "collapsed": true
   },
   "outputs": [],
   "source": []
  },
  {
   "cell_type": "code",
   "execution_count": null,
   "metadata": {
    "collapsed": true
   },
   "outputs": [],
   "source": []
  },
  {
   "cell_type": "code",
   "execution_count": null,
   "metadata": {
    "collapsed": true
   },
   "outputs": [],
   "source": []
  },
  {
   "cell_type": "code",
   "execution_count": null,
   "metadata": {
    "collapsed": true
   },
   "outputs": [],
   "source": []
  },
  {
   "cell_type": "code",
   "execution_count": null,
   "metadata": {
    "collapsed": true
   },
   "outputs": [],
   "source": []
  },
  {
   "cell_type": "markdown",
   "metadata": {},
   "source": [
    "Run Simulation on all individual absolute value functional networks\n",
    "=="
   ]
  },
  {
   "cell_type": "code",
   "execution_count": null,
   "metadata": {
    "collapsed": true
   },
   "outputs": [],
   "source": []
  },
  {
   "cell_type": "code",
   "execution_count": null,
   "metadata": {
    "collapsed": true
   },
   "outputs": [],
   "source": []
  },
  {
   "cell_type": "code",
   "execution_count": null,
   "metadata": {
    "collapsed": true
   },
   "outputs": [],
   "source": []
  },
  {
   "cell_type": "code",
   "execution_count": null,
   "metadata": {
    "collapsed": true
   },
   "outputs": [],
   "source": []
  },
  {
   "cell_type": "code",
   "execution_count": null,
   "metadata": {
    "collapsed": true
   },
   "outputs": [],
   "source": []
  },
  {
   "cell_type": "code",
   "execution_count": null,
   "metadata": {
    "collapsed": false
   },
   "outputs": [],
   "source": []
  },
  {
   "cell_type": "code",
   "execution_count": 41,
   "metadata": {
    "collapsed": false
   },
   "outputs": [],
   "source": [
    "# # Shortest Path Length == Dijkstra Path Lenght ???\n",
    "# for s in range(80):\n",
    "#     for t in range(80):\n",
    "#         d =  nx.dijkstra_path_length(pos_func_net, s, t, weight='distance')\n",
    "#         sp = nx.shortest_path_length(pos_func_net, s, t, weight='distance')\n",
    "#         if d != sp:\n",
    "#             print s, t"
   ]
  },
  {
   "cell_type": "code",
   "execution_count": 4,
   "metadata": {
    "collapsed": true
   },
   "outputs": [],
   "source": [
    "def find_next_node(r, g):\n",
    "    \"\"\" Find the next node to be removed in the simulation\n",
    "    \n",
    "    Parameters\n",
    "    ----------\n",
    "        r : set of removed nodes\n",
    "        \n",
    "    Returns\n",
    "    -------\n",
    "        node : next node to be removed\n",
    "    \"\"\"\n",
    "    nodes = g.nodes()\n",
    "    distance = {}\n",
    "    for node in nodes:\n",
    "        if node in r:\n",
    "            continue\n",
    "        distance[node] = 0.0\n",
    "        for removed in r:\n",
    "            distance[node] += nx.shortest_path_length(g, node, removed, weight='distance') \n",
    "        sorted_distances = sort_by_val(distance)\n",
    "    return sorted_distances[0][0]\n",
    "\n",
    "def run_simulation(fnet, pnet, seed, stop, binary = True, efficiency = False, modularity = False, total_degree = False, average_degree = False, disconnects = False):\n",
    "    ''' Run lesion simulation\n",
    "    Parameters\n",
    "    ----------\n",
    "    fnet : functional network\n",
    "    pnet : PiB correlation network\n",
    "    seed : beginning of simulated lesioning\n",
    "    stop : terminate simulation after removing stop number of nodes\n",
    "    \n",
    "    binary, efficiency, modularity, total_degree, average_degree, disconnected:\n",
    "        booleans controlling whether or not a particular should be tracked during\n",
    "        node removals\n",
    "        \n",
    "    Returns\n",
    "    -------\n",
    "    mods : tracks modularity of functional network as nodes are removed\n",
    "    effs : tracks efficiencies of functional network as nodes are removed\n",
    "    total_deg : tracks total degree of functional network\n",
    "    avg_deg : tracks average degree of functional network\n",
    "    discs : tracks # of disconnected nodes in functional network\n",
    "\n",
    "    Notes:\n",
    "        -Partition of functional network is found using Newman Spectral\n",
    "        -Efficiency is defined as the inverse of the average shortest path length\n",
    "            of the functional network\n",
    "    '''\n",
    "\n",
    "    # Initial global metrics\n",
    "    mods, effs, tot_deg, avg_deg, discs = [], [], [], [], []\n",
    "    \n",
    "    if modularity:\n",
    "        ind = md.newman_partition(fnet, max_div=np.inf).index\n",
    "        part = md.GraphPartition(fnet, index=ind)\n",
    "        mods.append(part.modularity())\n",
    "    if efficiency:\n",
    "        effs.append(find_eff(fnet))\n",
    "    if total_degree:\n",
    "        if binary:\n",
    "            tot_deg.append(sum(fnet.degree().values()))\n",
    "        else:\n",
    "            tot_deg.append(sum(fnet.degree(weight='weight').values()))\n",
    "    if average_degree:\n",
    "        if binary:\n",
    "            avg_deg.append(np.mean(fnet.degree().values()))\n",
    "        else:\n",
    "            avg_deg.append(np.mean(fnet.degree().values()))\n",
    "    if disconnects:\n",
    "        discs.append(num_disconnects(fnet))\n",
    "    \n",
    "    removed = {seed}\n",
    "    while len(removed) < stop:\n",
    "        print \"Length of Removed: \" + str(len(removed))\n",
    "        # Remove next node\n",
    "        rem = find_next_node(removed, pnet)\n",
    "        removed.add(rem)\n",
    "        fnet.remove_edges_from(fnet.edges(rem))\n",
    "        print \"Next node to remove: \" + str(rem)\n",
    "        # Calculate new metrics\n",
    "        if modularity:\n",
    "            mods.append(md.GraphPartition(fnet, index=ind).modularity())\n",
    "        if efficiency:\n",
    "            effs.append(find_eff(fnet, binary))\n",
    "        if total_degree:\n",
    "            if binary:\n",
    "                tot_deg.append(sum(fnet.degree().values()))\n",
    "            else:\n",
    "                tot_deg.append(sum(fnet.degree(weight='weight').values()))\n",
    "        if average_degree:\n",
    "            if binary:\n",
    "                avg_deg.append(np.mean(fnet.degree().values()))\n",
    "            else:\n",
    "                avg_deg.append(np.mean(fnet.degree(weight='weight').values()))\n",
    "        if disconnects:\n",
    "            discs.append(num_disconnects(fnet))\n",
    "    \n",
    "    print \"Return value is a list of list of results - Indices for metrics:\"\n",
    "    print \"Modularity: 0\"\n",
    "    print \"Efficiency: 1\"\n",
    "    print \"Total Degree : 2\"\n",
    "    print \"Average Degree : 3\"\n",
    "    print \"# of disconnected components: 4\"\n",
    "\n",
    "    return [mods, effs, tot_deg, avg_deg, discs]\n",
    "\n",
    "def find_eff(g, bin = True):\n",
    "    ''' Finds the efficiency of a network\n",
    "    Parameters\n",
    "    ----------\n",
    "    g : A graph\n",
    "    \n",
    "    Returns\n",
    "    -------\n",
    "    eff : Efficiency\n",
    "    \n",
    "    Notes:\n",
    "    \n",
    "    '''\n",
    "    effs = []\n",
    "    for node in g.nodes():\n",
    "        nodal_effs = []\n",
    "        for target in g.nodes():\n",
    "            if node == target:\n",
    "                continue\n",
    "            else:\n",
    "                try:\n",
    "                    if bin:\n",
    "                        sp = len(nx.shortest_path(g, node, target))\n",
    "                    else:\n",
    "                        sp = nx.shortest_path_length(g, node, target, weight='distance')\n",
    "                    nodal_effs.append(1.0 / sp)\n",
    "                except:\n",
    "                    nodal_effs.append(0.0)\n",
    "        effs.append(np.mean(nodal_effs))\n",
    "    return np.mean(effs)"
   ]
  },
  {
   "cell_type": "code",
   "execution_count": null,
   "metadata": {
    "collapsed": true
   },
   "outputs": [],
   "source": []
  },
  {
   "cell_type": "code",
   "execution_count": 2,
   "metadata": {
    "collapsed": true
   },
   "outputs": [],
   "source": [
    "def sort_by_val(d):\n",
    "    ''' Sort a dictionary by value\n",
    "    \n",
    "    Parameters\n",
    "    ----------\n",
    "    d : a dictionary\n",
    "    \n",
    "    Returns\n",
    "    -------\n",
    "    l : a list of key-value pairs in tuples \n",
    "    '''\n",
    "    l = sorted(d.items(), key = operator.itemgetter(1))\n",
    "    return l"
   ]
  },
  {
   "cell_type": "code",
   "execution_count": null,
   "metadata": {
    "collapsed": true
   },
   "outputs": [],
   "source": []
  }
 ],
 "metadata": {
  "kernelspec": {
   "display_name": "Python 2",
   "language": "python",
   "name": "python2"
  },
  "language_info": {
   "codemirror_mode": {
    "name": "ipython",
    "version": 2
   },
   "file_extension": ".py",
   "mimetype": "text/x-python",
   "name": "python",
   "nbconvert_exporter": "python",
   "pygments_lexer": "ipython2",
   "version": "2.7.10"
  }
 },
 "nbformat": 4,
 "nbformat_minor": 0
}
