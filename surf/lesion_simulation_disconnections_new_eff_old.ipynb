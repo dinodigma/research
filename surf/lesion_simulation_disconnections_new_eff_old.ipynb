{
 "cells": [
  {
   "cell_type": "code",
   "execution_count": 1,
   "metadata": {
    "collapsed": true
   },
   "outputs": [],
   "source": [
    "% matplotlib inline\n",
    "import os\n",
    "os.chdir('/home/jagust/dino/surf/')\n",
    "from surf import *"
   ]
  },
  {
   "cell_type": "code",
   "execution_count": 2,
   "metadata": {
    "collapsed": true
   },
   "outputs": [],
   "source": [
    "pos_func_mat = np.load('/home/jagust/dino/github/surf/thr_pos_func_mat.npy')\n",
    "neg_func_mat = np.load('/home/jagust/dino/github/surf/thr_neg_func_mat.npy')\n",
    "\n",
    "funcnetneg = nx.Graph(neg_func_mat)\n",
    "funcnetpos = nx.Graph(pos_func_mat)\n",
    "\n",
    "pibmatneg = np.load('/home/jagust/dino/surf/mats/neg_pib_mat.npy')\n",
    "pibmatpos = np.load('/home/jagust/dino/surf/mats/pos_pib_mat.npy')\n",
    "\n",
    "pibnetneg = nx.Graph(pibmatneg)\n",
    "pibnetpos = nx.Graph(pibmatpos)"
   ]
  },
  {
   "cell_type": "code",
   "execution_count": 39,
   "metadata": {
    "collapsed": false
   },
   "outputs": [
    {
     "name": "stdout",
     "output_type": "stream",
     "text": [
      "Return value is a list of list of results - Indices for metrics:\n",
      "Modularity: 0\n",
      "Efficiency: 1\n",
      "Degree : 2\n",
      "# of disconnected components: 3\n",
      "Return value is a list of list of results - Indices for metrics:\n",
      "Modularity: 0\n",
      "Efficiency: 1\n",
      "Degree : 2\n",
      "# of disconnected components: 3\n"
     ]
    }
   ],
   "source": [
    "neg_results = run_simulation(funcnetneg, pibnetneg, 41, 70, efficiency=False, disconnects=True)\n",
    "pos_results = run_simulation(funcnetpos, pibnetpos, 55, 70, efficiency=False, disconnects=True)"
   ]
  },
  {
   "cell_type": "code",
   "execution_count": null,
   "metadata": {
    "collapsed": false
   },
   "outputs": [],
   "source": []
  },
  {
   "cell_type": "code",
   "execution_count": 56,
   "metadata": {
    "collapsed": false
   },
   "outputs": [
    {
     "data": {
      "text/plain": [
       "<matplotlib.text.Text at 0x7fd956e695d0>"
      ]
     },
     "execution_count": 56,
     "metadata": {},
     "output_type": "execute_result"
    },
    {
     "data": {
      "image/png": "[encoded data removed]",
      "text/plain": [
       "<matplotlib.figure.Figure at 0x7fd956e53510>"
      ]
     },
     "metadata": {},
     "output_type": "display_data"
    }
   ],
   "source": [
    "# Plot Efficiencies\n",
    "fig = plt.figure()\n",
    "ax = fig.add_subplot(111)\n",
    "\n",
    "\n",
    "ax.scatter(range(len(neg_results[1])), neg_results[1], c = 'r')\n",
    "ax.scatter(range(len(pos_results[1])), pos_results[1], c = 'b', alpha = 0.5)\n",
    "\n",
    "plt.xlim(0, 70)\n",
    "plt.xlabel('# Nodes Removed')\n",
    "plt.ylabel('Efficiency')"
   ]
  },
  {
   "cell_type": "code",
   "execution_count": null,
   "metadata": {
    "collapsed": false
   },
   "outputs": [],
   "source": []
  },
  {
   "cell_type": "code",
   "execution_count": 52,
   "metadata": {
    "collapsed": false
   },
   "outputs": [
    {
     "data": {
      "text/plain": [
       "<matplotlib.text.Text at 0x7fd956f18bd0>"
      ]
     },
     "execution_count": 52,
     "metadata": {},
     "output_type": "execute_result"
    },
    {
     "data": {
      "image/png": "[encoded data removed]",
      "text/plain": [
       "<matplotlib.figure.Figure at 0x7fd956f0f4d0>"
      ]
     },
     "metadata": {},
     "output_type": "display_data"
    }
   ],
   "source": [
    "# Plot Disconnected Nodes\n",
    "fig = plt.figure()\n",
    "ax = fig.add_subplot(111)\n",
    "\n",
    "\n",
    "ax.scatter(range(len(neg_results[4])), neg_results[4], c = 'r')\n",
    "ax.scatter(range(len(pos_results[4])), pos_results[4], c = 'b')\n",
    "\n",
    "plt.xlim(0, 80)\n",
    "plt.xlabel('# Nodes Removed')\n",
    "plt.ylabel('Disconnected Nodes')"
   ]
  },
  {
   "cell_type": "code",
   "execution_count": 10,
   "metadata": {
    "collapsed": true
   },
   "outputs": [],
   "source": [
    "def find_next_node(r, g):\n",
    "    \"\"\" Find the next node to be removed in the simulation\n",
    "    \n",
    "    Parameters\n",
    "    ----------\n",
    "        r : set of removed nodes\n",
    "        \n",
    "    Returns\n",
    "    -------\n",
    "        node : next node to be removed\n",
    "    \"\"\"\n",
    "    nodes = g.nodes()\n",
    "    distance = {}\n",
    "    for node in nodes:\n",
    "        if node in r:\n",
    "            continue\n",
    "        distance[node] = 0.0\n",
    "        for removed in r:\n",
    "            distance[node] += nx.shortest_path_length(g, node, removed, 'distance') \n",
    "        sorted_distances = sort_by_val(distance)\n",
    "    return sorted_distances[0][0]\n",
    "\n",
    "def run_simulation(fnet, pnet, seed, stop, binary = True, efficiency = False, modularity = False, total_degree = False, average_degree = False, disconnects = False):\n",
    "    ''' Run lesion simulation\n",
    "    Parameters\n",
    "    ----------\n",
    "    fnet : functional network\n",
    "    pnet : PiB correlation network\n",
    "    seed : beginning of simulated lesioning\n",
    "    stop : terminate simulation after removing stop number of nodes\n",
    "    \n",
    "    Returns\n",
    "    -------\n",
    "    mods : tracks modularity of functional network as nodes are removed\n",
    "    effs : tracks efficiencies of functional network as nodes are removed\n",
    "    total_deg : tracks total degree of functional network\n",
    "    avg_deg : tracks average degree of functional network\n",
    "    discs : tracks # of disconnected nodes in functional network\n",
    "\n",
    "    Notes:\n",
    "        -Partition of functional network is found using Newman Spectral\n",
    "        -Efficiency is defined as the inverse of the average shortest path length\n",
    "            of the functional network\n",
    "    '''\n",
    "\n",
    "    # Initial global metrics\n",
    "    mods, effs, tot_deg, avg_deg, discs = [], [], [], [], []\n",
    "    \n",
    "    if modularity:\n",
    "        ind = md.newman_partition(fnet, max_div=np.inf).index\n",
    "        part = md.GraphPartition(fnet, index=ind)\n",
    "        mods.append(part.modularity())\n",
    "    if efficiency:\n",
    "        effs.append(find_eff(fnet))\n",
    "    if total_degree:\n",
    "        if binary:\n",
    "            tot_deg.append(sum(fnet.degree().values()))\n",
    "        else:\n",
    "            tot_deg.append(sum(fnet.degree(weight='weight').values()))\n",
    "    if average_degree:\n",
    "        if binary:\n",
    "            avg_deg.append(np.mean(fnet.degree().values()))\n",
    "        else:\n",
    "            avg_deg.append(np.mean(fnet.degree().values()))\n",
    "    if disconnects:\n",
    "        discs.append(num_disconnects(fnet))\n",
    "    \n",
    "    removed = {seed}\n",
    "    while len(removed) < stop:\n",
    "        print len(removed)\n",
    "        # Remove next node\n",
    "        rem = find_next_node(removed, pnet)\n",
    "        removed.add(rem)\n",
    "        fnet.remove_edges_from(fnet.edges(rem))\n",
    "        \n",
    "        # Calculate new metrics\n",
    "        if modularity:\n",
    "            mods.append(md.GraphPartition(fnet, index=ind).modularity())\n",
    "        if efficiency:\n",
    "            effs.append(find_eff(fnet, binary))\n",
    "        if total_degree:\n",
    "            if binary:\n",
    "                tot_deg.append(sum(fnet.degree().values()))\n",
    "            else:\n",
    "                tot_deg.append(sum(fnet.degree(weight='weight').values()))\n",
    "        if average_degree:\n",
    "            if binary:\n",
    "                avg_deg.append(np.mean(fnet.degree().values()))\n",
    "            else:\n",
    "                avg_deg.append(np.mean(fnet.degree().values()))\n",
    "        if disconnects:\n",
    "            discs.append(num_disconnects(fnet))\n",
    "    \n",
    "    print \"Return value is a list of list of results - Indices for metrics:\"\n",
    "    print \"Modularity: 0\"\n",
    "    print \"Efficiency: 1\"\n",
    "    print \"Total Degree : 2\"\n",
    "    print \"# of disconnected components: 3\"\n",
    "\n",
    "    return [mods, effs, tot_deg, avg_deg, discs]"
   ]
  },
  {
   "cell_type": "code",
   "execution_count": null,
   "metadata": {
    "collapsed": false
   },
   "outputs": [],
   "source": []
  },
  {
   "cell_type": "code",
   "execution_count": null,
   "metadata": {
    "collapsed": false
   },
   "outputs": [],
   "source": []
  },
  {
   "cell_type": "code",
   "execution_count": 11,
   "metadata": {
    "collapsed": false
   },
   "outputs": [],
   "source": [
    "def find_eff(g, bin = True):\n",
    "    ''' Finds the efficiency of a network\n",
    "    Parameters\n",
    "    ----------\n",
    "    g : A binary unweighted graph\n",
    "    \n",
    "    Returns\n",
    "    -------\n",
    "    eff : Efficiency\n",
    "    \n",
    "    Notes:\n",
    "    \n",
    "    '''\n",
    "    effs = []\n",
    "    for node in g.nodes():\n",
    "        nodal_effs = []\n",
    "        for target in g.nodes():\n",
    "            if node == target:\n",
    "                continue\n",
    "            else:\n",
    "#                 try:\n",
    "                if bin:\n",
    "                    sp = len(nx.shortest_path(g, node, target))\n",
    "                else:\n",
    "                    sp = nx.shortest_path_length(g, node, target, weight='distance')\n",
    "                nodal_effs.append(1.0 / sp)\n",
    "#                 except:\n",
    "#                     print \"here\"\n",
    "#                     nodal_effs.append(0.0)\n",
    "        effs.append(np.mean(nodal_effs))\n",
    "    return np.mean(effs) / 2.0\n",
    "\n",
    "def find_eff(g, bin = True):\n",
    "    ''' Finds the efficiency of a network\n",
    "    Parameters\n",
    "    ----------\n",
    "    g : A binary unweighted graph\n",
    "    \n",
    "    Returns\n",
    "    -------\n",
    "    eff : Efficiency\n",
    "    \n",
    "    Notes:\n",
    "    \n",
    "    '''\n",
    "    effs = []\n",
    "    for node in g.nodes():\n",
    "        nodal_effs = []\n",
    "        for target in g.nodes():\n",
    "            if node == target:\n",
    "                continue\n",
    "            else:\n",
    "                try:\n",
    "                    if bin:\n",
    "                        sp = len(nx.shortest_path(g, node, target))\n",
    "                    else:\n",
    "                        sp = nx.shortest_path_length(g, node, target, weight='distance')\n",
    "                    nodal_effs.append(1.0 / sp)\n",
    "                except:\n",
    "                    print \"here\"\n",
    "                    nodal_effs.append(0.0)\n",
    "        effs.append(np.mean(nodal_effs))\n",
    "    return np.mean(effs) / 2.0\n"
   ]
  },
  {
   "cell_type": "markdown",
   "metadata": {
    "collapsed": true
   },
   "source": [
    "Running Simulation on Weighted Absolute Value Graph\n",
    "=="
   ]
  },
  {
   "cell_type": "code",
   "execution_count": 5,
   "metadata": {
    "collapsed": true
   },
   "outputs": [],
   "source": [
    "def sort_by_val(d):\n",
    "    ''' Sort a dictionary by value\n",
    "    \n",
    "    Parameters\n",
    "    ----------\n",
    "    d : a dictionary\n",
    "    \n",
    "    Returns\n",
    "    -------\n",
    "    l : a list of key-value pairs in tuples \n",
    "    '''\n",
    "    l = sorted(d.items(), key = operator.itemgetter(1))\n",
    "    return l"
   ]
  },
  {
   "cell_type": "code",
   "execution_count": null,
   "metadata": {
    "collapsed": false
   },
   "outputs": [],
   "source": []
  },
  {
   "cell_type": "code",
   "execution_count": null,
   "metadata": {
    "collapsed": true
   },
   "outputs": [],
   "source": []
  },
  {
   "cell_type": "code",
   "execution_count": null,
   "metadata": {
    "collapsed": true
   },
   "outputs": [],
   "source": []
  },
  {
   "cell_type": "code",
   "execution_count": 6,
   "metadata": {
    "collapsed": false
   },
   "outputs": [],
   "source": [
    "pos_func_mat = np.load('/home/jagust/dino/surf/mats/pos_group_mat_med.npy')\n",
    "neg_func_mat = np.load('/home/jagust/dino/surf/mats/neg_group_mat_med.npy')\n",
    "\n",
    "pos_func_mat = np.absolute(pos_func_mat)\n",
    "neg_func_mat = np.absolute(neg_func_mat)"
   ]
  },
  {
   "cell_type": "code",
   "execution_count": 7,
   "metadata": {
    "collapsed": true
   },
   "outputs": [],
   "source": [
    "pos_func_net = nx.Graph(pos_func_mat)\n",
    "neg_func_net = nx.Graph(neg_func_mat)\n",
    "\n",
    "add_distance_attr(pos_func_net)\n",
    "add_distance_attr(neg_func_net)\n",
    "\n",
    "add_distance_attr(pibnetpos)\n",
    "add_distance_attr(pibnetneg)"
   ]
  },
  {
   "cell_type": "code",
   "execution_count": 12,
   "metadata": {
    "collapsed": false,
    "scrolled": true
   },
   "outputs": [
    {
     "name": "stdout",
     "output_type": "stream",
     "text": [
      "1\n"
     ]
    },
    {
     "ename": "NetworkXNoPath",
     "evalue": "node 0 not reachable from 66",
     "output_type": "error",
     "traceback": [
      "\u001b[1;31m---------------------------------------------------------------------------\u001b[0m",
      "\u001b[1;31mNetworkXNoPath\u001b[0m                            Traceback (most recent call last)",
      "\u001b[1;32m<ipython-input-12-319d0dbc0feb>\u001b[0m in \u001b[0;36m<module>\u001b[1;34m()\u001b[0m\n\u001b[1;32m----> 1\u001b[1;33m \u001b[0mpos_results_1\u001b[0m \u001b[1;33m=\u001b[0m \u001b[0mrun_simulation\u001b[0m\u001b[1;33m(\u001b[0m\u001b[0mpos_func_net\u001b[0m\u001b[1;33m.\u001b[0m\u001b[0mcopy\u001b[0m\u001b[1;33m(\u001b[0m\u001b[1;33m)\u001b[0m\u001b[1;33m,\u001b[0m \u001b[0mpibnetpos\u001b[0m\u001b[1;33m,\u001b[0m \u001b[1;36m55\u001b[0m\u001b[1;33m,\u001b[0m \u001b[1;36m80\u001b[0m\u001b[1;33m,\u001b[0m \u001b[0mbinary\u001b[0m\u001b[1;33m=\u001b[0m\u001b[0mFalse\u001b[0m\u001b[1;33m,\u001b[0m \u001b[0mtotal_degree\u001b[0m\u001b[1;33m=\u001b[0m\u001b[0mTrue\u001b[0m\u001b[1;33m,\u001b[0m \u001b[0mefficiency\u001b[0m\u001b[1;33m=\u001b[0m\u001b[0mTrue\u001b[0m\u001b[1;33m)\u001b[0m\u001b[1;33m\u001b[0m\u001b[0m\n\u001b[0m\u001b[0;32m      2\u001b[0m \u001b[1;31m#neg_results_1 = run_simulation(neg_func_net, pibnetneg, 41, 80, binary=False, total_degree=True, efficiency=True)\u001b[0m\u001b[1;33m\u001b[0m\u001b[1;33m\u001b[0m\u001b[0m\n",
      "\u001b[1;32m<ipython-input-10-f785b7ced848>\u001b[0m in \u001b[0;36mrun_simulation\u001b[1;34m(fnet, pnet, seed, stop, binary, efficiency, modularity, total_degree, average_degree, disconnects)\u001b[0m\n\u001b[0;32m     78\u001b[0m             \u001b[0mmods\u001b[0m\u001b[1;33m.\u001b[0m\u001b[0mappend\u001b[0m\u001b[1;33m(\u001b[0m\u001b[0mmd\u001b[0m\u001b[1;33m.\u001b[0m\u001b[0mGraphPartition\u001b[0m\u001b[1;33m(\u001b[0m\u001b[0mfnet\u001b[0m\u001b[1;33m,\u001b[0m \u001b[0mindex\u001b[0m\u001b[1;33m=\u001b[0m\u001b[0mind\u001b[0m\u001b[1;33m)\u001b[0m\u001b[1;33m.\u001b[0m\u001b[0mmodularity\u001b[0m\u001b[1;33m(\u001b[0m\u001b[1;33m)\u001b[0m\u001b[1;33m)\u001b[0m\u001b[1;33m\u001b[0m\u001b[0m\n\u001b[0;32m     79\u001b[0m         \u001b[1;32mif\u001b[0m \u001b[0mefficiency\u001b[0m\u001b[1;33m:\u001b[0m\u001b[1;33m\u001b[0m\u001b[0m\n\u001b[1;32m---> 80\u001b[1;33m             \u001b[0meffs\u001b[0m\u001b[1;33m.\u001b[0m\u001b[0mappend\u001b[0m\u001b[1;33m(\u001b[0m\u001b[0mfind_eff\u001b[0m\u001b[1;33m(\u001b[0m\u001b[0mfnet\u001b[0m\u001b[1;33m,\u001b[0m \u001b[0mbinary\u001b[0m\u001b[1;33m)\u001b[0m\u001b[1;33m)\u001b[0m\u001b[1;33m\u001b[0m\u001b[0m\n\u001b[0m\u001b[0;32m     81\u001b[0m         \u001b[1;32mif\u001b[0m \u001b[0mtotal_degree\u001b[0m\u001b[1;33m:\u001b[0m\u001b[1;33m\u001b[0m\u001b[0m\n\u001b[0;32m     82\u001b[0m             \u001b[1;32mif\u001b[0m \u001b[0mbinary\u001b[0m\u001b[1;33m:\u001b[0m\u001b[1;33m\u001b[0m\u001b[0m\n",
      "\u001b[1;32m<ipython-input-11-8ccfca584f23>\u001b[0m in \u001b[0;36mfind_eff\u001b[1;34m(g, bin)\u001b[0m\n\u001b[0;32m     23\u001b[0m                     \u001b[0msp\u001b[0m \u001b[1;33m=\u001b[0m \u001b[0mlen\u001b[0m\u001b[1;33m(\u001b[0m\u001b[0mnx\u001b[0m\u001b[1;33m.\u001b[0m\u001b[0mshortest_path\u001b[0m\u001b[1;33m(\u001b[0m\u001b[0mg\u001b[0m\u001b[1;33m,\u001b[0m \u001b[0mnode\u001b[0m\u001b[1;33m,\u001b[0m \u001b[0mtarget\u001b[0m\u001b[1;33m)\u001b[0m\u001b[1;33m)\u001b[0m\u001b[1;33m\u001b[0m\u001b[0m\n\u001b[0;32m     24\u001b[0m                 \u001b[1;32melse\u001b[0m\u001b[1;33m:\u001b[0m\u001b[1;33m\u001b[0m\u001b[0m\n\u001b[1;32m---> 25\u001b[1;33m                     \u001b[0msp\u001b[0m \u001b[1;33m=\u001b[0m \u001b[0mnx\u001b[0m\u001b[1;33m.\u001b[0m\u001b[0mshortest_path_length\u001b[0m\u001b[1;33m(\u001b[0m\u001b[0mg\u001b[0m\u001b[1;33m,\u001b[0m \u001b[0mnode\u001b[0m\u001b[1;33m,\u001b[0m \u001b[0mtarget\u001b[0m\u001b[1;33m,\u001b[0m \u001b[0mweight\u001b[0m\u001b[1;33m=\u001b[0m\u001b[1;34m'distance'\u001b[0m\u001b[1;33m)\u001b[0m\u001b[1;33m\u001b[0m\u001b[0m\n\u001b[0m\u001b[0;32m     26\u001b[0m                 \u001b[0mnodal_effs\u001b[0m\u001b[1;33m.\u001b[0m\u001b[0mappend\u001b[0m\u001b[1;33m(\u001b[0m\u001b[1;36m1.0\u001b[0m \u001b[1;33m/\u001b[0m \u001b[0msp\u001b[0m\u001b[1;33m)\u001b[0m\u001b[1;33m\u001b[0m\u001b[0m\n\u001b[0;32m     27\u001b[0m \u001b[1;31m#                 except:\u001b[0m\u001b[1;33m\u001b[0m\u001b[1;33m\u001b[0m\u001b[0m\n",
      "\u001b[1;32m/usr/local/anaconda/lib/python2.7/site-packages/networkx/algorithms/shortest_paths/generic.pyc\u001b[0m in \u001b[0;36mshortest_path_length\u001b[1;34m(G, source, target, weight)\u001b[0m\n\u001b[0;32m    246\u001b[0m                 \u001b[0mpaths\u001b[0m\u001b[1;33m=\u001b[0m\u001b[0mlen\u001b[0m\u001b[1;33m(\u001b[0m\u001b[0mp\u001b[0m\u001b[1;33m)\u001b[0m\u001b[1;33m-\u001b[0m\u001b[1;36m1\u001b[0m\u001b[1;33m\u001b[0m\u001b[0m\n\u001b[0;32m    247\u001b[0m             \u001b[1;32melse\u001b[0m\u001b[1;33m:\u001b[0m\u001b[1;33m\u001b[0m\u001b[0m\n\u001b[1;32m--> 248\u001b[1;33m                 \u001b[0mpaths\u001b[0m\u001b[1;33m=\u001b[0m\u001b[0mnx\u001b[0m\u001b[1;33m.\u001b[0m\u001b[0mdijkstra_path_length\u001b[0m\u001b[1;33m(\u001b[0m\u001b[0mG\u001b[0m\u001b[1;33m,\u001b[0m\u001b[0msource\u001b[0m\u001b[1;33m,\u001b[0m\u001b[0mtarget\u001b[0m\u001b[1;33m,\u001b[0m\u001b[0mweight\u001b[0m\u001b[1;33m)\u001b[0m\u001b[1;33m\u001b[0m\u001b[0m\n\u001b[0m\u001b[0;32m    249\u001b[0m     \u001b[1;32mreturn\u001b[0m \u001b[0mpaths\u001b[0m\u001b[1;33m\u001b[0m\u001b[0m\n\u001b[0;32m    250\u001b[0m \u001b[1;33m\u001b[0m\u001b[0m\n",
      "\u001b[1;32m/usr/local/anaconda/lib/python2.7/site-packages/networkx/algorithms/shortest_paths/weighted.pyc\u001b[0m in \u001b[0;36mdijkstra_path_length\u001b[1;34m(G, source, target, weight)\u001b[0m\n\u001b[0;32m    130\u001b[0m     \u001b[1;32mexcept\u001b[0m \u001b[0mKeyError\u001b[0m\u001b[1;33m:\u001b[0m\u001b[1;33m\u001b[0m\u001b[0m\n\u001b[0;32m    131\u001b[0m         raise nx.NetworkXNoPath(\n\u001b[1;32m--> 132\u001b[1;33m             \"node %s not reachable from %s\" % (source, target))\n\u001b[0m\u001b[0;32m    133\u001b[0m \u001b[1;33m\u001b[0m\u001b[0m\n\u001b[0;32m    134\u001b[0m \u001b[1;33m\u001b[0m\u001b[0m\n",
      "\u001b[1;31mNetworkXNoPath\u001b[0m: node 0 not reachable from 66"
     ]
    }
   ],
   "source": [
    "pos_results_1 = run_simulation(pos_func_net.copy(), pibnetpos, 55, 80, binary=False, total_degree=True, efficiency=True)\n",
    "#neg_results_1 = run_simulation(neg_func_net, pibnetneg, 41, 80, binary=False, total_degree=True, efficiency=True)"
   ]
  },
  {
   "cell_type": "code",
   "execution_count": 135,
   "metadata": {
    "collapsed": true
   },
   "outputs": [],
   "source": [
    "np.save('/home/jagust/dino/surf/simulation_trials/new_efficiency/geno_pos_results.npy', np.array(pos_results_1[1]))"
   ]
  },
  {
   "cell_type": "code",
   "execution_count": 13,
   "metadata": {
    "collapsed": true
   },
   "outputs": [],
   "source": [
    "pos_res = np.load('/home/jagust/dino/surf/simulation_trials/new_efficiency/geno_pos_results.npy')\n",
    "neg_res = np.load('/home/jagust/dino/surf/simulation_trials/new_efficiency/geno_neg_results.npy')"
   ]
  },
  {
   "cell_type": "code",
   "execution_count": 14,
   "metadata": {
    "collapsed": false,
    "scrolled": true
   },
   "outputs": [
    {
     "data": {
      "text/plain": [
       "<matplotlib.text.Text at 0x7f3c0b8eb290>"
      ]
     },
     "execution_count": 14,
     "metadata": {},
     "output_type": "execute_result"
    },
    {
     "data": {
      "image/png": "[encoded data removed]",
      "text/plain": [
       "<matplotlib.figure.Figure at 0x7f3c0bb7a350>"
      ]
     },
     "metadata": {},
     "output_type": "display_data"
    }
   ],
   "source": [
    "fig = plt.figure()\n",
    "ax = fig.add_subplot(111)\n",
    "\n",
    "\n",
    "ax.scatter(range(len(neg_res)), neg_res, c = 'r')\n",
    "ax.scatter(range(len(pos_res)), pos_res, c = 'b')\n",
    "\n",
    "plt.xlim(0, 80)\n",
    "plt.xlabel('# Nodes Removed')\n",
    "plt.ylabel('Efficiency')"
   ]
  },
  {
   "cell_type": "code",
   "execution_count": null,
   "metadata": {
    "collapsed": false
   },
   "outputs": [],
   "source": []
  },
  {
   "cell_type": "code",
   "execution_count": null,
   "metadata": {
    "collapsed": true
   },
   "outputs": [],
   "source": []
  },
  {
   "cell_type": "code",
   "execution_count": 82,
   "metadata": {
    "collapsed": false
   },
   "outputs": [],
   "source": [
    "# Shortest Path Length == Dijkstra Path Lenght ???\n",
    "for s in range(80):\n",
    "    for t in range(80):\n",
    "        d =  nx.dijkstra_path_length(pos_func_net, s, t, weight='distance')\n",
    "        sp = nx.shortest_path_length(pos_func_net, s, t, weight='distance')\n",
    "        if d != sp:\n",
    "            print s, t"
   ]
  }
 ],
 "metadata": {
  "kernelspec": {
   "display_name": "Python 2",
   "language": "python",
   "name": "python2"
  },
  "language_info": {
   "codemirror_mode": {
    "name": "ipython",
    "version": 2
   },
   "file_extension": ".py",
   "mimetype": "text/x-python",
   "name": "python",
   "nbconvert_exporter": "python",
   "pygments_lexer": "ipython2",
   "version": "2.7.10"
  }
 },
 "nbformat": 4,
 "nbformat_minor": 0
}
