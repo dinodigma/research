{
 "cells": [
  {
   "cell_type": "code",
   "execution_count": 112,
   "metadata": {
    "collapsed": false
   },
   "outputs": [],
   "source": [
    "% matplotlib inline\n",
    "import pylab as plt\n",
    "import numpy as np\n",
    "import networkx as nx\n",
    "import pandas as pd\n",
    "import operator\n",
    "import os\n",
    "import re\n",
    "from glob import glob\n",
    "import os\n",
    "os.chdir('/home/jagust/dino/surf/')\n",
    "import util as util\n",
    "import modularity as md\n",
    "import scipy\n",
    "import operator"
   ]
  },
  {
   "cell_type": "markdown",
   "metadata": {},
   "source": [
    "~ Monday 29 June 2015 ~"
   ]
  },
  {
   "cell_type": "code",
   "execution_count": 103,
   "metadata": {
    "collapsed": true
   },
   "outputs": [],
   "source": [
    "# Import Matrices\n",
    "fmat = np.load('/home/jagust/dino/surf/thr_func_group_mat.npy')\n",
    "fmat_neg = np.load('/home/jagust/dino/surf/thr_neg_func_mat.npy')\n",
    "fmat_pos = np.load('/home/jagust/dino/surf/thr_pos_func_mat.npy')\n",
    "pibmat = np.load('/home/jagust/dino/surf/pib_mat.npy')\n",
    "\n",
    "pibmatpos = np.load('/home/jagust/dino/surf/neg_pib_mat.npy')\n",
    "pibmatneg = np.load('/home/jagust/dino/surf/pos_pib_mat.npy')"
   ]
  },
  {
   "cell_type": "code",
   "execution_count": 4,
   "metadata": {
    "collapsed": false
   },
   "outputs": [],
   "source": [
    "# Functional Network Formation\n",
    "fnet = nx.from_numpy_matrix(fmat)\n",
    "fnet_neg = nx.from_numpy_matrix(fmat_neg)\n",
    "fnet_pos = nx.from_numpy_matrix(fmat_pos)"
   ]
  },
  {
   "cell_type": "code",
   "execution_count": 5,
   "metadata": {
    "collapsed": true
   },
   "outputs": [],
   "source": [
    "# PiB Netowrk Formation\n",
    "pibnet = nx.from_numpy_matrix(pibmat)"
   ]
  },
  {
   "cell_type": "code",
   "execution_count": 105,
   "metadata": {
    "collapsed": true
   },
   "outputs": [],
   "source": [
    "def remove_neg_weight_edges(g):\n",
    "    for edge in g.edges(data = True):\n",
    "        if edge[2]['weight'] < 0.0:\n",
    "            g.remove_edge(edge[0], edge[1])"
   ]
  },
  {
   "cell_type": "code",
   "execution_count": 49,
   "metadata": {
    "collapsed": true
   },
   "outputs": [],
   "source": [
    "remove_neg_weight_edges(pibnet)"
   ]
  },
  {
   "cell_type": "code",
   "execution_count": 104,
   "metadata": {
    "collapsed": true
   },
   "outputs": [],
   "source": [
    "pibnetpos = nx.from_numpy_matrix(pibmatpos)\n",
    "pibnetneg = nx.from_numpy_matrix(pibmatneg)"
   ]
  },
  {
   "cell_type": "code",
   "execution_count": 106,
   "metadata": {
    "collapsed": true
   },
   "outputs": [],
   "source": [
    "remove_neg_weight_edges(pibnetpos)\n",
    "remove_neg_weight_edges(pibnetneg)"
   ]
  },
  {
   "cell_type": "markdown",
   "metadata": {},
   "source": [
    "Simulation\n",
    "======\n",
    "\n",
    "1) Find node with highest degree in PiB Network<br/>\n",
    "2) Remove node from functional network<br/>\n",
    "3) Find node that has correlates \"strongest\" with set of previously removed nodes<br/>\n",
    "4) Go to step 2"
   ]
  },
  {
   "cell_type": "code",
   "execution_count": 6,
   "metadata": {
    "collapsed": false
   },
   "outputs": [],
   "source": [
    "# Find node with highest degree in PiB Network\n",
    "pib_nodes = pibnet.nodes()\n",
    "degs = {}\n",
    "for node in range(len(pib_nodes)):\n",
    "    degs[node] = 0.0\n",
    "    for edge in pibnet.edges(node, data = True):\n",
    "        degs[node] += edge[2]['weight']"
   ]
  },
  {
   "cell_type": "code",
   "execution_count": 7,
   "metadata": {
    "collapsed": false
   },
   "outputs": [],
   "source": [
    "def sort_by_val(d):\n",
    "    return sorted(d.items(), key = operator.itemgetter(1))"
   ]
  },
  {
   "cell_type": "code",
   "execution_count": 8,
   "metadata": {
    "collapsed": false
   },
   "outputs": [
    {
     "name": "stdout",
     "output_type": "stream",
     "text": [
      "Seed: 55\n"
     ]
    }
   ],
   "source": [
    "d = sort_by_val(degs)[::-1]\n",
    "seed = d[0][0]\n",
    "print \"Seed: \" + str(seed)"
   ]
  },
  {
   "cell_type": "code",
   "execution_count": 89,
   "metadata": {
    "collapsed": false
   },
   "outputs": [],
   "source": [
    "def find_next_node(r, g):\n",
    "    \"\"\" Find the next node to be removed in the simulation\n",
    "    \n",
    "    Parameters\n",
    "    ----------\n",
    "        r : set of removed nodes\n",
    "        \n",
    "    Returns\n",
    "    -------\n",
    "        node : next node to be removed\n",
    "    \"\"\"\n",
    "    nodes = g.nodes()\n",
    "    distance = {}\n",
    "    for node in nodes:\n",
    "        if node in r:\n",
    "            continue\n",
    "        distance[node] = 0.0\n",
    "        for removed in r:\n",
    "            distance[node] += nx.shortest_path_length(g, node, removed, 'weight') \n",
    "        sorted_distances = sort_by_val(distance)\n",
    "    return sorted_distances[0][0]"
   ]
  },
  {
   "cell_type": "code",
   "execution_count": 90,
   "metadata": {
    "collapsed": false
   },
   "outputs": [],
   "source": [
    "import sys\n",
    "def find_eff(g):\n",
    "    ''' Finds the efficiency of a network\n",
    "    Parameters\n",
    "    ----------\n",
    "    g : A binary unweighted graph\n",
    "    \n",
    "    Returns\n",
    "    -------\n",
    "    eff : Efficiency\n",
    "    \n",
    "    Notes:\n",
    "        -If the graph is connected, returns 1.0 / average shortest path length\n",
    "        -Otherwise, returns 1.0 / weighted average of average shortest path length of graph subcomponents\n",
    "    \n",
    "    '''\n",
    "    if nx.is_connected(g):\n",
    "        return 1.0 / nx.average_shortest_path_length(g)\n",
    "    else:\n",
    "        short_paths, poss_paths = [], []\n",
    "        total_paths, avg_short_path = 0.0, 0.0\n",
    "        if len(g.edges()) == 0:\n",
    "            return 1.0 / sys.float_info.max\n",
    "        for subg in nx.connected_component_subgraphs(g):\n",
    "            n = len(subg.nodes())\n",
    "            if n == 1:\n",
    "                continue\n",
    "            num_paths = n * (n - 1) * 1.0 / 2.0\n",
    "            total_paths += num_paths\n",
    "            short_paths.append(nx.average_shortest_path_length(subg) * 1.0)\n",
    "            poss_paths.append(num_paths * 1.0)\n",
    "        for ind in range(len(short_paths)):\n",
    "            avg_short_path += short_paths[ind] * (poss_paths[ind] / total_paths)\n",
    "        return 1.0 / avg_short_path"
   ]
  },
  {
   "cell_type": "code",
   "execution_count": 117,
   "metadata": {
    "collapsed": false
   },
   "outputs": [],
   "source": [
    "def run_simulation(fnet, pnet, seed):\n",
    "    ''' Run lesion simulation\n",
    "    Parameters\n",
    "    ----------\n",
    "    fnet : functional network\n",
    "    pnet : PiB correlation network\n",
    "    seed : beginning of simulated lesioning\n",
    "    \n",
    "    Returns\n",
    "    -------\n",
    "    mods : tracks modularity of functional network as nodes are removed\n",
    "    effs : tracks efficiencies of functional network as nodes are removed\n",
    "    \n",
    "    Notes:\n",
    "        -Partition of functional network is found using Newman Spectral\n",
    "        -Efficiency is defined as the inverse of the average shortest path length\n",
    "            of the functional network\n",
    "    '''\n",
    "    # Find partition\n",
    "    ind = md.newman_partition(fnet, max_div=np.inf).index\n",
    "    \n",
    "    # Initial global metrics\n",
    "    mods, effs = [], []\n",
    "    part = md.GraphPartition(fnet, index=ind)\n",
    "    mods.append(part.modularity())\n",
    "    effs.append(find_eff(fnet))\n",
    "    \n",
    "    \n",
    "    removed = {seed}\n",
    "    while len(removed) < 40: #len(fnet.nodes()):\n",
    "        rem = find_next_node(removed, pnet)\n",
    "        removed.add(rem)\n",
    "        fnet.remove_edges_from(fnet.edges(rem))\n",
    "        \n",
    "        mods.append(md.GraphPartition(fnet, index=ind).modularity())\n",
    "        effs.append(find_eff(fnet))\n",
    "    \n",
    "    return mods, effs"
   ]
  },
  {
   "cell_type": "markdown",
   "metadata": {},
   "source": [
    "Run Simulation With Group Functional Network\n",
    "========================"
   ]
  },
  {
   "cell_type": "code",
   "execution_count": 118,
   "metadata": {
    "collapsed": false
   },
   "outputs": [
    {
     "data": {
      "text/plain": [
       "<matplotlib.collections.PathCollection at 0x7fc7739ae150>"
      ]
     },
     "execution_count": 118,
     "metadata": {},
     "output_type": "execute_result"
    },
    {
     "data": {
      "image/png": "[encoded data removed]",
      "text/plain": [
       "<matplotlib.figure.Figure at 0x7fc774324410>"
      ]
     },
     "metadata": {},
     "output_type": "display_data"
    }
   ],
   "source": [
    "# Modify the PiB Correlation Matrix in order to be able to use nx.shortest_path_length\n",
    "invpibmat = -1.0 * pibmat + 1.0\n",
    "invpibnet = nx.from_numpy_matrix(invpibmat)\n",
    "inp_fnet, inp_pnet = fnet.copy(), invpibnet.copy()\n",
    "\n",
    "# Run Simulation\n",
    "m, e = run_simulation(inp_fnet, inp_pnet, seed)\n",
    "\n",
    "# Plot Efficiencies\n",
    "x = range(70)\n",
    "y = range(0, 1)\n",
    "fig = plt.figure()\n",
    "ax = fig.add_subplot(111)\n",
    "\n",
    "# Run simulation with E4 Positive Subjects\n",
    "ax.scatter(range(len(e)), e, c = 'b')"
   ]
  },
  {
   "cell_type": "code",
   "execution_count": 121,
   "metadata": {
    "collapsed": false
   },
   "outputs": [
    {
     "data": {
      "text/plain": [
       "<matplotlib.text.Text at 0x7fc773ae9f90>"
      ]
     },
     "execution_count": 121,
     "metadata": {},
     "output_type": "execute_result"
    },
    {
     "data": {
      "image/png": "[encoded data removed]",
      "text/plain": [
       "<matplotlib.figure.Figure at 0x7fc7744a0050>"
      ]
     },
     "metadata": {},
     "output_type": "display_data"
    }
   ],
   "source": [
    "# Plot Modularities\n",
    "x = range(70)\n",
    "y = range(0, 1)\n",
    "fig = plt.figure()\n",
    "ax = fig.add_subplot(111)\n",
    "\n",
    "# Run simulation with E4 Positive Subjects\n",
    "ax.scatter(range(len(m)), m, c = 'r')\n",
    "plt.xlabel('# Nodes Removed')\n",
    "plt.ylabel('Modularity')"
   ]
  },
  {
   "cell_type": "markdown",
   "metadata": {},
   "source": [
    "Run Simulation with E4 Positive/Negative Subgroups\n",
    "===========================\n",
    "Use group level PiB network to simulat lesioning"
   ]
  },
  {
   "cell_type": "code",
   "execution_count": 99,
   "metadata": {
    "collapsed": false,
    "scrolled": true
   },
   "outputs": [
    {
     "data": {
      "text/plain": [
       "<matplotlib.collections.PathCollection at 0x7fc7741c5510>"
      ]
     },
     "execution_count": 99,
     "metadata": {},
     "output_type": "execute_result"
    },
    {
     "data": {
      "image/png": "[encoded data removed]",
      "text/plain": [
       "<matplotlib.figure.Figure at 0x7fc7742e3150>"
      ]
     },
     "metadata": {},
     "output_type": "display_data"
    }
   ],
   "source": [
    "# Modify the PiB Correlation Matrix in order to be able to use nx.shortest_path_length\n",
    "invpibmat = -1.0 * pibmat + 1.0\n",
    "invpibnet = nx.from_numpy_matrix(invpibmat)\n",
    "inp_fnet_neg, inp_fnet_pos, inp_pnet = fnet_neg.copy(), fnet_pos.copy(), invpibnet.copy()\n",
    "\n",
    "# Run Simulation\n",
    "mpos, epos = run_simulation(inp_fnet_pos, inp_pnet, seed)\n",
    "mneg, eneg = run_simulation(inp_fnet_neg, inp_pnet, seed) \n",
    "\n",
    "# Plot Efficiencies\n",
    "x = range(70)\n",
    "y = range(0, 1)\n",
    "fig = plt.figure()\n",
    "ax = fig.add_subplot(111)\n",
    "\n",
    "# Run simulation with E4 Positive Subjects\n",
    "ax.scatter(range(len(epos)), epos, c = 'b')\n",
    "ax.scatter(range(len(eneg)), eneg, c = 'r')\n",
    "\n",
    "ax.xlabel('# Nodes Removed')\n",
    "ax.ylabel('Efficiency')"
   ]
  },
  {
   "cell_type": "markdown",
   "metadata": {},
   "source": [
    "Run Simulation with E4 Positive/Negative Subgroups\n",
    "===========================\n",
    "Use seperate subgrouplevel PiB networks to simulate lesioning"
   ]
  },
  {
   "cell_type": "code",
   "execution_count": 111,
   "metadata": {
    "collapsed": false
   },
   "outputs": [
    {
     "data": {
      "text/plain": [
       "<matplotlib.collections.PathCollection at 0x7fc774490e10>"
      ]
     },
     "execution_count": 111,
     "metadata": {},
     "output_type": "execute_result"
    },
    {
     "data": {
      "image/png": "[encoded data removed]",
      "text/plain": [
       "<matplotlib.figure.Figure at 0x7fc7746c7c90>"
      ]
     },
     "metadata": {},
     "output_type": "display_data"
    }
   ],
   "source": [
    "# Modify the PiB Correlation Matrix in order to be able to use nx.shortest_path_length\n",
    "invpibmatpos = -1.0 * pibmatpos + 1.0\n",
    "invpibnetpos = nx.from_numpy_matrix(invpibmatpos)\n",
    "\n",
    "invpibmatneg = -1.0 * pibmatneg + 1.0\n",
    "invpibnetneg = nx.from_numpy_matrix(invpibmatneg)\n",
    "\n",
    "inp_fnet_neg, inp_fnet_pos, inp_pnet_pos, inp_pnet_neg = fnet_neg.copy(), fnet_pos.copy(), invpibnetpos.copy(), invpibnetneg.copy()\n",
    "\n",
    "# Run Simulation\n",
    "mpos, epos = run_simulation(inp_fnet_pos, inp_pnet_pos, seed)\n",
    "mneg, eneg = run_simulation(inp_fnet_neg, inp_pnet_neg, seed) \n",
    "\n",
    "# Plot Efficiencies\n",
    "x = range(70)\n",
    "y = range(0, 1)\n",
    "fig = plt.figure()\n",
    "ax = fig.add_subplot(111)\n",
    "\n",
    "# Run simulation with E4 Positive Subjects\n",
    "ax.scatter(range(len(epos)), epos, c = 'b')\n",
    "ax.scatter(range(len(eneg)), eneg, c = 'r')"
   ]
  },
  {
   "cell_type": "code",
   "execution_count": null,
   "metadata": {
    "collapsed": false
   },
   "outputs": [],
   "source": []
  },
  {
   "cell_type": "code",
   "execution_count": null,
   "metadata": {
    "collapsed": true
   },
   "outputs": [],
   "source": []
  },
  {
   "cell_type": "code",
   "execution_count": null,
   "metadata": {
    "collapsed": true
   },
   "outputs": [],
   "source": []
  },
  {
   "cell_type": "code",
   "execution_count": null,
   "metadata": {
    "collapsed": false
   },
   "outputs": [],
   "source": []
  },
  {
   "cell_type": "code",
   "execution_count": null,
   "metadata": {
    "collapsed": true
   },
   "outputs": [],
   "source": []
  },
  {
   "cell_type": "code",
   "execution_count": null,
   "metadata": {
    "collapsed": true
   },
   "outputs": [],
   "source": []
  },
  {
   "cell_type": "markdown",
   "metadata": {
    "collapsed": true
   },
   "source": [
    "Run Simulation on Individual Subject Networks\n",
    "========================"
   ]
  },
  {
   "cell_type": "code",
   "execution_count": null,
   "metadata": {
    "collapsed": true
   },
   "outputs": [],
   "source": []
  },
  {
   "cell_type": "code",
   "execution_count": null,
   "metadata": {
    "collapsed": true
   },
   "outputs": [],
   "source": []
  },
  {
   "cell_type": "markdown",
   "metadata": {
    "collapsed": true
   },
   "source": [
    "Testing Functions\n",
    "=========="
   ]
  },
  {
   "cell_type": "code",
   "execution_count": 29,
   "metadata": {
    "collapsed": true
   },
   "outputs": [],
   "source": [
    "toy = nx.Graph()"
   ]
  },
  {
   "cell_type": "code",
   "execution_count": 30,
   "metadata": {
    "collapsed": false
   },
   "outputs": [],
   "source": [
    "toy.add_edges_from([(1, 2, {'weight' : 0.1}), (1, 3, {'weight' : 0.2}), (2, 4, {'weight' : .2}), (3, 4, {'weight' : .3})]) "
   ]
  },
  {
   "cell_type": "code",
   "execution_count": 31,
   "metadata": {
    "collapsed": false
   },
   "outputs": [
    {
     "data": {
      "text/plain": [
       "1"
      ]
     },
     "execution_count": 31,
     "metadata": {},
     "output_type": "execute_result"
    }
   ],
   "source": [
    "toy.add_edge(1, 4, {'weight' : 0.05})\n",
    "toy.add_edge(1, 5, {'weight' : 0.01})\n",
    "toy.add_edge(5, 4, {'weight' : 0.02})\n",
    "r = {4, 5}\n",
    "n = find_next_node(r, toy)\n",
    "n"
   ]
  },
  {
   "cell_type": "code",
   "execution_count": 32,
   "metadata": {
    "collapsed": false
   },
   "outputs": [
    {
     "data": {
      "text/plain": [
       "[(1, 2, {'weight': 0.1}),\n",
       " (1, 3, {'weight': 0.2}),\n",
       " (1, 4, {'weight': 0.05}),\n",
       " (1, 5, {'weight': 0.01}),\n",
       " (2, 4, {'weight': 0.2}),\n",
       " (3, 4, {'weight': 0.3}),\n",
       " (4, 5, {'weight': 0.02})]"
      ]
     },
     "execution_count": 32,
     "metadata": {},
     "output_type": "execute_result"
    }
   ],
   "source": [
    "toy.edges(data=True)"
   ]
  },
  {
   "cell_type": "code",
   "execution_count": 41,
   "metadata": {
    "collapsed": false
   },
   "outputs": [
    {
     "data": {
      "text/plain": [
       "[(1, 2, {'weight': 0.1}),\n",
       " (1, 3, {'weight': 0.2}),\n",
       " (1, 4, {'weight': 0.05}),\n",
       " (1, 5, {'weight': 0.01}),\n",
       " (1, 6, {'weight': -0.5}),\n",
       " (2, 4, {'weight': 0.2}),\n",
       " (3, 4, {'weight': 0.3}),\n",
       " (4, 5, {'weight': 0.02})]"
      ]
     },
     "execution_count": 41,
     "metadata": {},
     "output_type": "execute_result"
    }
   ],
   "source": [
    "toy.add_edge(1, 6, {'weight' : -0.5})\n",
    "remove_neg_weight_edges(toy)\n",
    "toy.edges(data=True)"
   ]
  },
  {
   "cell_type": "code",
   "execution_count": 74,
   "metadata": {
    "collapsed": false
   },
   "outputs": [
    {
     "data": {
      "text/plain": [
       "[1, 2, 3, 4, 5]"
      ]
     },
     "execution_count": 74,
     "metadata": {},
     "output_type": "execute_result"
    }
   ],
   "source": [
    "toy.nodes()"
   ]
  },
  {
   "cell_type": "code",
   "execution_count": null,
   "metadata": {
    "collapsed": false
   },
   "outputs": [],
   "source": []
  },
  {
   "cell_type": "code",
   "execution_count": 48,
   "metadata": {
    "collapsed": false
   },
   "outputs": [
    {
     "data": {
      "text/plain": [
       "[(1, 2, {'weight': 0.1}),\n",
       " (1, 3, {'weight': 0.2}),\n",
       " (1, 4, {'weight': 0.05}),\n",
       " (1, 5, {'weight': 0.01}),\n",
       " (2, 4, {'weight': 0.2}),\n",
       " (3, 4, {'weight': 0.3}),\n",
       " (4, 5, {'weight': 0.02})]"
      ]
     },
     "execution_count": 48,
     "metadata": {},
     "output_type": "execute_result"
    }
   ],
   "source": [
    "remove_neg_weight_edges(toy)\n",
    "toy.edges(data=True)"
   ]
  },
  {
   "cell_type": "code",
   "execution_count": null,
   "metadata": {
    "collapsed": true
   },
   "outputs": [],
   "source": []
  }
 ],
 "metadata": {
  "kernelspec": {
   "display_name": "Python 2",
   "language": "python",
   "name": "python2"
  },
  "language_info": {
   "codemirror_mode": {
    "name": "ipython",
    "version": 2
   },
   "file_extension": ".py",
   "mimetype": "text/x-python",
   "name": "python",
   "nbconvert_exporter": "python",
   "pygments_lexer": "ipython2",
   "version": "2.7.10"
  }
 },
 "nbformat": 4,
 "nbformat_minor": 0
}
