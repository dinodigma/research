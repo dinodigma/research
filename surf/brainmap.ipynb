{
 "cells": [
  {
   "cell_type": "raw",
   "metadata": {},
   "source": [
    "Notes from meeting with Katie\n",
    "-For order vs. degree find individual correlations and then t-test the correlations\n",
    "-Order vs. Connection\n",
    "-How does correlation relate to overall PiB\n",
    "-Compare correlation to young group-level network (median-based)\n",
    "-Remove the one young subject that we have\n",
    "-Look at the slope of the small worldness\n",
    "-Do lesion simulation on young\n",
    "-Compare functional nets of young"
   ]
  },
  {
   "cell_type": "code",
   "execution_count": 2,
   "metadata": {
    "collapsed": true
   },
   "outputs": [],
   "source": [
    "import nibabel as ni\n",
    "import numpy as np\n",
    "import pandas as pd\n",
    "from scipy.spatial.distance import chebyshev as cheby\n",
    "import random\n",
    "import os\n",
    "os.chdir('/home/jagust/dino/surf/')\n",
    "from surf import *\n",
    "%matplotlib inline"
   ]
  },
  {
   "cell_type": "code",
   "execution_count": 3,
   "metadata": {
    "collapsed": false
   },
   "outputs": [
    {
     "name": "stdout",
     "output_type": "stream",
     "text": [
      "15585573\n"
     ]
    }
   ],
   "source": [
    "aparc = ni.load('/home/jagust/graph/data/mri1.5/rest/freesurfer/fsaverage_nii/aparc+aseg.nii.gz').get_data()\n",
    "roidat = pd.read_csv('/home/jagust/graph/scripts/fs_gm.csv', header=None)\n",
    "roi = np.zeros(shape=aparc.shape)\n",
    "roi[aparc==0]=1.0\n",
    "locs = np.where(roi==1)\n",
    "print len(locs[0])"
   ]
  },
  {
   "cell_type": "code",
   "execution_count": null,
   "metadata": {
    "collapsed": false
   },
   "outputs": [],
   "source": []
  },
  {
   "cell_type": "code",
   "execution_count": 14,
   "metadata": {
    "collapsed": false,
    "scrolled": true
   },
   "outputs": [
    {
     "name": "stdout",
     "output_type": "stream",
     "text": [
      "Reg: 8\n",
      "Found center: [181, 69, 91]\n",
      "Reg: 10\n",
      "Found center: [154, 95, 123]\n",
      "Reg: 11\n",
      "Found center: [150, 142, 142]\n",
      "Reg: 12\n",
      "Found center: [164, 127, 127]\n",
      "Reg: 13\n",
      "Found center: [156, 117, 126]\n",
      "Reg: 17\n",
      "Found center: [165, 112, 107]\n",
      "Reg: 18\n",
      "Found center: [161, 122, 105]\n",
      "Reg: 47\n",
      "Found center: [128, 78, 121]\n",
      "Reg: 49\n",
      "Found center: [127, 118, 128]\n",
      "Reg: 50\n",
      "Found center: [122, 131, 126]\n",
      "Reg: 51\n",
      "Found center: [116, 130, 117]\n",
      "Reg: 52\n",
      "Found center: [114, 132, 125]\n",
      "Reg: 53\n",
      "Found center: [114, 120, 107]\n",
      "Reg: 54\n",
      "Found center: [114, 122, 108]\n",
      "Reg: 1002\n",
      "Found center: [140, 159, 150]\n",
      "Reg: 1003\n",
      "Found center: [175, 151, 165]\n",
      "Reg: 1005\n",
      "Found center: [148, 62, 144]\n",
      "Reg: 1006\n",
      "Found center: [161, 122, 94]\n",
      "Reg: 1007\n",
      "Found center: [174, 69, 108]\n",
      "Reg: 1008\n",
      "Found center: [181, 73, 153]\n",
      "Reg: 1009\n",
      "Found center: [188, 85, 109]\n",
      "Reg: 1010\n",
      "Found center: [148, 77, 129]\n",
      "Reg: 1011\n",
      "Found center: [179, 53, 138]\n",
      "Reg: 1012\n",
      "Found center: [173, 154, 113]\n",
      "Reg: 1013\n",
      "Found center: [161, 84, 120]\n",
      "Reg: 1014\n",
      "Found center: [142, 176, 129]\n",
      "Reg: 1015\n",
      "Found center: [196, 106, 114]\n",
      "Reg: 1016\n",
      "Found center: [164, 106, 102]\n",
      "Reg: 1017\n",
      "Found center: [146, 98, 168]\n",
      "Reg: 1018\n",
      "Found center: [185, 150, 144]\n",
      "Reg: 1019\n",
      "Found center: [179, 163, 117]\n",
      "Reg: 1020\n",
      "Found center: [183, 158, 134]\n",
      "Reg: 1021\n",
      "Found center: [154, 61, 133]\n",
      "Reg: 1022\n",
      "Found center: [194, 118, 151]\n",
      "Reg: 1023\n",
      "Found center: [145, 102, 166]\n",
      "Reg: 1024\n",
      "Found center: [190, 134, 150]\n",
      "Reg: 1025\n",
      "Found center: [154, 67, 134]\n",
      "Reg: 1026\n",
      "Found center: [141, 170, 136]\n",
      "Reg: 1027\n",
      "Found center: [176, 155, 162]\n",
      "Reg: 1028\n",
      "Found center: [154, 154, 182]\n",
      "Reg: 1029\n",
      "Found center: [168, 80, 185]\n",
      "Reg: 1030\n",
      "Found center: [196, 105, 131]\n",
      "Reg: 1031\n",
      "Found center: [194, 97, 153]\n",
      "Reg: 1032\n",
      "Found center: [144, 195, 124]\n",
      "Reg: 1033\n",
      "Found center: [172, 145, 95]\n",
      "Reg: 1034\n",
      "Found center: [184, 113, 134]\n",
      "Reg: 1035\n",
      "Found center: [170, 137, 121]\n",
      "Reg: 2002\n",
      "Found center: [126, 139, 164]\n",
      "Reg: 2003\n",
      "Found center: [104, 129, 177]\n",
      "Reg: 2005\n",
      "Found center: [126, 59, 145]\n",
      "Reg: 2006\n",
      "Found center: [111, 117, 101]\n",
      "Reg: 2007\n",
      "Found center: [103, 85, 110]\n",
      "Reg: 2008\n",
      "Found center: [99, 65, 168]\n",
      "Reg: 2009\n",
      "Found center: [97, 135, 87]\n",
      "Reg: 2010\n",
      "Found center: [127, 84, 158]\n",
      "Reg: 2011\n",
      "Found center: [121, 29, 141]\n",
      "Reg: 2012\n",
      "Found center: [121, 186, 105]\n",
      "Reg: 2013\n",
      "Found center: [126, 55, 132]\n",
      "Reg: 2014\n",
      "Found center: [126, 169, 107]\n",
      "Reg: 2015\n",
      "Found center: [88, 137, 90]\n",
      "Reg: 2016\n",
      "Found center: [113, 91, 121]\n",
      "Reg: 2017\n",
      "Found center: [127, 98, 199]\n",
      "Reg: 2018\n",
      "Found center: [96, 145, 140]\n",
      "Reg: 2019\n",
      "Found center: [98, 177, 117]\n",
      "Reg: 2020\n",
      "Found center: [98, 154, 134]\n",
      "Reg: 2021\n",
      "Found center: [126, 50, 140]\n",
      "Reg: 2022\n",
      "Found center: [126, 91, 200]\n",
      "Reg: 2023\n",
      "Found center: [126, 135, 167]\n",
      "Reg: 2024\n",
      "Found center: [125, 99, 202]\n",
      "Reg: 2025\n",
      "Found center: [126, 72, 146]\n",
      "Reg: 2026\n",
      "Found center: [126, 163, 122]\n",
      "Reg: 2027\n",
      "Found center: [115, 188, 117]\n",
      "Reg: 2028\n",
      "Found center: [124, 184, 161]\n",
      "Reg: 2029\n",
      "Found center: [123, 43, 165]\n",
      "Reg: 2030\n",
      "Found center: [91, 139, 101]\n",
      "Reg: 2031\n",
      "Found center: [96, 93, 170]\n",
      "Reg: 2032\n",
      "Found center: [125, 189, 116]\n",
      "Reg: 2033\n",
      "Found center: [105, 138, 91]\n",
      "Reg: 2034\n",
      "Found center: [93, 100, 142]\n",
      "Reg: 2035\n",
      "Found center: [102, 139, 111]\n"
     ]
    }
   ],
   "source": [
    "aparc = ni.load('/home/jagust/graph/data/mri1.5/rest/freesurfer/fsaverage_nii/aparc+aseg.nii.gz').get_data()\n",
    "roidat = pd.read_csv('/home/jagust/graph/scripts/fs_gm.csv', header=None)\n",
    "points = []\n",
    "for reg in roidat[1].values:\n",
    "    roi = np.zeros(shape=aparc.shape)\n",
    "    roi[aparc==reg]=1.0\n",
    "    locs = np.where(roi==1)\n",
    "    if len(locs[0]) == 0:\n",
    "        count += 1\n",
    "    print \"Reg: \" + str(reg)\n",
    "    center = find_center(locs)\n",
    "    print \"Found center: \" + str(center)\n",
    "    points.append(center)"
   ]
  },
  {
   "cell_type": "code",
   "execution_count": 13,
   "metadata": {
    "collapsed": false
   },
   "outputs": [
    {
     "data": {
      "text/plain": [
       "array([   8,   10,   11,   12,   13,   17,   18,   47,   49,   50,   51,\n",
       "         52,   53,   54, 1002, 1003, 1005, 1006, 1007, 1008, 1009, 1010,\n",
       "       1011, 1012, 1013, 1014, 1015, 1016, 1017, 1018, 1019, 1020, 1021,\n",
       "       1022, 1023, 1024, 1025, 1026, 1027, 1028, 1029, 1030, 1031, 1032,\n",
       "       1033, 1034, 1035, 2002, 2003, 2005, 2006, 2007, 2008, 2009, 2010,\n",
       "       2011, 2012, 2013, 2014, 2015, 2016, 2017, 2018, 2019, 2020, 2021,\n",
       "       2022, 2023, 2024, 2025, 2026, 2027, 2028, 2029, 2030, 2031, 2032,\n",
       "       2033, 2034, 2035])"
      ]
     },
     "execution_count": 13,
     "metadata": {},
     "output_type": "execute_result"
    }
   ],
   "source": [
    "roidat[1].values"
   ]
  },
  {
   "cell_type": "code",
   "execution_count": 350,
   "metadata": {
    "collapsed": false
   },
   "outputs": [
    {
     "data": {
      "text/plain": [
       "[[181, 69, 91],\n",
       " [154, 95, 123],\n",
       " [150, 142, 142],\n",
       " [164, 127, 127],\n",
       " [156, 117, 126],\n",
       " [165, 112, 107],\n",
       " [161, 122, 105],\n",
       " [128, 78, 121],\n",
       " [127, 118, 128],\n",
       " [122, 131, 126],\n",
       " [116, 130, 117],\n",
       " [114, 132, 125],\n",
       " [114, 120, 107],\n",
       " [114, 122, 108],\n",
       " [140, 159, 150],\n",
       " [175, 151, 165],\n",
       " [148, 62, 144],\n",
       " [161, 122, 94],\n",
       " [174, 69, 108],\n",
       " [181, 73, 153],\n",
       " [188, 85, 109],\n",
       " [148, 77, 129],\n",
       " [179, 53, 138],\n",
       " [173, 154, 113],\n",
       " [161, 84, 120],\n",
       " [142, 176, 129],\n",
       " [196, 106, 114],\n",
       " [164, 106, 102],\n",
       " [146, 98, 168],\n",
       " [185, 150, 144],\n",
       " [179, 163, 117],\n",
       " [183, 158, 134],\n",
       " [154, 61, 133],\n",
       " [194, 118, 151],\n",
       " [145, 102, 166],\n",
       " [190, 134, 150],\n",
       " [154, 67, 134],\n",
       " [141, 170, 136],\n",
       " [176, 155, 162],\n",
       " [154, 154, 182],\n",
       " [168, 80, 185],\n",
       " [196, 105, 131],\n",
       " [194, 97, 153],\n",
       " [144, 195, 124],\n",
       " [172, 145, 95],\n",
       " [184, 113, 134],\n",
       " [170, 137, 121],\n",
       " [126, 139, 164],\n",
       " [104, 129, 177],\n",
       " [126, 59, 145],\n",
       " [111, 117, 101],\n",
       " [103, 85, 110],\n",
       " [99, 65, 168],\n",
       " [97, 135, 87],\n",
       " [127, 84, 158],\n",
       " [121, 29, 141],\n",
       " [121, 186, 105],\n",
       " [126, 55, 132],\n",
       " [126, 169, 107],\n",
       " [88, 137, 90],\n",
       " [113, 91, 121],\n",
       " [127, 98, 199],\n",
       " [96, 145, 140],\n",
       " [98, 177, 117],\n",
       " [98, 154, 134],\n",
       " [126, 50, 140],\n",
       " [126, 91, 200],\n",
       " [126, 135, 167],\n",
       " [125, 99, 202],\n",
       " [126, 72, 146],\n",
       " [126, 163, 122],\n",
       " [115, 188, 117],\n",
       " [124, 184, 161],\n",
       " [123, 43, 165],\n",
       " [91, 139, 101],\n",
       " [96, 93, 170],\n",
       " [125, 189, 116],\n",
       " [105, 138, 91],\n",
       " [93, 100, 142],\n",
       " [102, 139, 111]]"
      ]
     },
     "execution_count": 350,
     "metadata": {},
     "output_type": "execute_result"
    }
   ],
   "source": [
    "points"
   ]
  },
  {
   "cell_type": "code",
   "execution_count": 351,
   "metadata": {
    "collapsed": true
   },
   "outputs": [],
   "source": [
    "# np.save('/home/jagust/dino/surf/map_points.npy', np.array(points))"
   ]
  },
  {
   "cell_type": "code",
   "execution_count": 389,
   "metadata": {
    "collapsed": false
   },
   "outputs": [],
   "source": [
    "# points\n",
    "import random\n",
    "g = nx.Graph()\n",
    "g.add_nodes_from(range(80))\n",
    "pos = {}\n",
    "nc = range(80)\n",
    "nc = ['blue' for node in nc]\n",
    "for node in range(80):\n",
    "    pos[node] = points[node][1:]\n",
    "while len(g.edges()) < (.80 * 80):\n",
    "    s, t  = random.randrange(80), random.randrange(80)\n",
    "    if (s, t) in g.edges() or (t, s) in g.edges():\n",
    "        continue\n",
    "    else:\n",
    "        g.add_edge(s, t)\n",
    "# Set Colors:\n",
    "for node in range(80):\n",
    "    x, y = pos[node][0], pos[node][1]\n",
    "    if x > 130 and y > 140:\n",
    "        nc[node] = 'r'\n",
    "    elif x < 140 and y > 130:\n",
    "        nc[node] = 'g'\n",
    "    elif x > 140 and y < 140:\n",
    "        nc[node] = 'y'"
   ]
  },
  {
   "cell_type": "code",
   "execution_count": 390,
   "metadata": {
    "collapsed": false,
    "scrolled": false
   },
   "outputs": [
    {
     "data": {
      "image/png": "[encoded data removed]",
      "text/plain": [
       "<matplotlib.figure.Figure at 0x7fbd1d3c3650>"
      ]
     },
     "metadata": {},
     "output_type": "display_data"
    }
   ],
   "source": [
    "frame = 0\n",
    "g.add_edge(55, 22)\n",
    "nx.draw_networkx_nodes(g, pos=pos, node_color=nc)\n",
    "nx.draw_networkx_edges(g, pos=pos, width = 1.5)\n",
    "plt.xticks([])\n",
    "plt.yticks([])\n",
    "plt.ylabel(\"<--Ventral            Dorsal-->\", size='x-large', weight = 'bold')\n",
    "plt.xlabel(\"<--Posterior                      Anterior-->\", size='x-large', weight = 'bold')\n",
    "plt.savefig('/home/jagust/dino/surf/talk/grey.png', axisbg='black')\n",
    "frame += 1"
   ]
  },
  {
   "cell_type": "code",
   "execution_count": 286,
   "metadata": {
    "collapsed": false
   },
   "outputs": [],
   "source": [
    "# pos"
   ]
  },
  {
   "cell_type": "code",
   "execution_count": null,
   "metadata": {
    "collapsed": true
   },
   "outputs": [],
   "source": [
    "196 195 195 88 29 87"
   ]
  },
  {
   "cell_type": "code",
   "execution_count": 287,
   "metadata": {
    "collapsed": false
   },
   "outputs": [],
   "source": [
    "# points"
   ]
  },
  {
   "cell_type": "code",
   "execution_count": 93,
   "metadata": {
    "collapsed": false
   },
   "outputs": [
    {
     "name": "stdout",
     "output_type": "stream",
     "text": [
      "196 195 195 88 29 87\n"
     ]
    }
   ],
   "source": [
    "xmax, ymax, zmax, xmin, ymin, zmin = 0, 0, 0, 10000, 10000, 100000\n",
    "for i in points:\n",
    "    if i[0] > xmax:\n",
    "        xmax = i[0]\n",
    "    if i[1] > ymax:\n",
    "        ymax = i[1]\n",
    "    if i[2] > zmax:\n",
    "        zmax = i[2]\n",
    "    if i[0] < xmin:\n",
    "        xmin = i[0]\n",
    "    if i[1] < ymin:\n",
    "        ymin = i[1]\n",
    "    if i[2] < zmin:\n",
    "        zmin = i[2]\n",
    "print xmax, ymax, ymax, xmin, ymin, zmin"
   ]
  },
  {
   "cell_type": "code",
   "execution_count": 313,
   "metadata": {
    "collapsed": false
   },
   "outputs": [],
   "source": [
    "# points\n",
    "import random\n",
    "g = nx.Graph()\n",
    "g.add_nodes_from(range(80))\n",
    "pos = {}\n",
    "nc = range(80)\n",
    "nc = ['b' for node in nc]\n",
    "for node in range(80):\n",
    "    pos[node] = points[node]"
   ]
  },
  {
   "cell_type": "code",
   "execution_count": 314,
   "metadata": {
    "collapsed": true
   },
   "outputs": [],
   "source": [
    "class Arrow3D(FancyArrowPatch):\n",
    "    def __init__(self, xs, ys, zs, *args, **kwargs):\n",
    "        FancyArrowPatch.__init__(self, (0,0), (0,0), *args, **kwargs)\n",
    "        self._verts3d = xs, ys, zs\n",
    "\n",
    "    def draw(self, renderer):\n",
    "        xs3d, ys3d, zs3d = self._verts3d\n",
    "        xs, ys, zs = proj3d.proj_transform(xs3d, ys3d, zs3d, renderer.M)\n",
    "        self.set_positions((xs[0],ys[0]),(xs[1],ys[1]))\n",
    "        FancyArrowPatch.draw(self, renderer)"
   ]
  },
  {
   "cell_type": "code",
   "execution_count": 381,
   "metadata": {
    "collapsed": false
   },
   "outputs": [
    {
     "data": {
      "image/png": "[encoded data removed]",
      "text/plain": [
       "<matplotlib.figure.Figure at 0x7fbd1d2ceb50>"
      ]
     },
     "metadata": {},
     "output_type": "display_data"
    }
   ],
   "source": [
    "from mpl_toolkits.mplot3d import Axes3D\n",
    "import matplotlib.pyplot as plt\n",
    "from mpl_toolkits.mplot3d import proj3d\n",
    "fig = plt.figure()\n",
    "ax = fig.add_subplot(111, projection='3d')\n",
    "ax.set_ylabel('<--Posterior Anterior-->', size = 'medium', weight='extra bold')\n",
    "ax.set_xlabel('<--Left           Right-->', size = 'large', weight ='extra bold')\n",
    "ax.set_zlabel('<-Ventral Dorsal-->', size = 'medium', weight = 'extra bold')\n",
    "ax.set_xlim3d(80, 200)\n",
    "ax.set_ylim3d(20, 200)\n",
    "ax.set_zlim3d(80, 200)\n",
    "ax.set_xticks([])\n",
    "ax.set_yticks([])\n",
    "ax.set_zticks([])\n",
    "xs = [p[0] for p in points]\n",
    "ys = [p[1] for p in points]\n",
    "zs = [p[2] for p in points]\n",
    "prev = 55\n",
    "c = ['b' for i in range(80)]\n",
    "c[55] = 'r'\n",
    "prev = 55\n",
    "clip = 2\n",
    "for new in order[2:]:\n",
    "    c[new] = 'r'\n",
    "    ax.scatter(xs, ys, zs, c=c, marker='o', s=60)\n",
    "    from matplotlib.patches import FancyArrowPatch\n",
    "    a = Arrow3D([points[prev][0],points[new][0]],[points[prev][1],points[new][1]], [points[prev][2],points[new][2]], mutation_scale=20, lw=1, arrowstyle=\"-|>\", color=\"r\")\n",
    "    ax.add_artist(a)\n",
    "    plt.savefig('/home/jagust/dino/surf/talk/clip_%s.png' % (str(100 + clip)))\n",
    "    clip += 1\n",
    "    prev = new\n",
    "# plt.tick_params(axis = 'x', which='both', top='off', bottom='off')\n",
    "# plt.tick_params(axis = 'y', which='both', top='off', bottom='off', labelbottom='off')\n",
    "plt.show()"
   ]
  },
  {
   "cell_type": "code",
   "execution_count": 317,
   "metadata": {
    "collapsed": false
   },
   "outputs": [
    {
     "data": {
      "text/plain": [
       "[55,\n",
       " 22,\n",
       " 58,\n",
       " 27,\n",
       " 25,\n",
       " 60,\n",
       " 39,\n",
       " 72,\n",
       " 73,\n",
       " 66,\n",
       " 64,\n",
       " 40,\n",
       " 33,\n",
       " 31,\n",
       " 74,\n",
       " 41,\n",
       " 14,\n",
       " 15,\n",
       " 47,\n",
       " 65,\n",
       " 48,\n",
       " 32,\n",
       " 69,\n",
       " 36,\n",
       " 28,\n",
       " 54,\n",
       " 61,\n",
       " 43,\n",
       " 23,\n",
       " 44,\n",
       " 77,\n",
       " 56,\n",
       " 70,\n",
       " 76,\n",
       " 46,\n",
       " 1,\n",
       " 21,\n",
       " 71,\n",
       " 8,\n",
       " 12,\n",
       " 5,\n",
       " 52,\n",
       " 53,\n",
       " 38,\n",
       " 79,\n",
       " 68,\n",
       " 37,\n",
       " 35,\n",
       " 20,\n",
       " 63,\n",
       " 62,\n",
       " 19,\n",
       " 0,\n",
       " 30,\n",
       " 75,\n",
       " 42,\n",
       " 50,\n",
       " 29,\n",
       " 10,\n",
       " 18,\n",
       " 51,\n",
       " 13,\n",
       " 4,\n",
       " 17,\n",
       " 6,\n",
       " 11,\n",
       " 78,\n",
       " 3,\n",
       " 49,\n",
       " 59,\n",
       " 67,\n",
       " 7,\n",
       " 24,\n",
       " 45,\n",
       " 26,\n",
       " 57,\n",
       " 34,\n",
       " 16,\n",
       " 2,\n",
       " 9]"
      ]
     },
     "execution_count": 317,
     "metadata": {},
     "output_type": "execute_result"
    }
   ],
   "source": [
    "order"
   ]
  },
  {
   "cell_type": "code",
   "execution_count": 127,
   "metadata": {
    "collapsed": false
   },
   "outputs": [
    {
     "data": {
      "text/plain": [
       "[55,\n",
       " 22,\n",
       " 58,\n",
       " 27,\n",
       " 25,\n",
       " 60,\n",
       " 39,\n",
       " 72,\n",
       " 73,\n",
       " 66,\n",
       " 64,\n",
       " 40,\n",
       " 33,\n",
       " 31,\n",
       " 74,\n",
       " 41,\n",
       " 14,\n",
       " 15,\n",
       " 47,\n",
       " 65,\n",
       " 48,\n",
       " 32,\n",
       " 69,\n",
       " 36,\n",
       " 28,\n",
       " 54,\n",
       " 61,\n",
       " 43,\n",
       " 23,\n",
       " 44,\n",
       " 77,\n",
       " 56,\n",
       " 70,\n",
       " 76,\n",
       " 46,\n",
       " 1,\n",
       " 21,\n",
       " 71,\n",
       " 8,\n",
       " 12,\n",
       " 5,\n",
       " 52,\n",
       " 53,\n",
       " 38,\n",
       " 79,\n",
       " 68,\n",
       " 37,\n",
       " 35,\n",
       " 20,\n",
       " 63,\n",
       " 62,\n",
       " 19,\n",
       " 0,\n",
       " 30,\n",
       " 75,\n",
       " 42,\n",
       " 50,\n",
       " 29,\n",
       " 10,\n",
       " 18,\n",
       " 51,\n",
       " 13,\n",
       " 4,\n",
       " 17,\n",
       " 6,\n",
       " 11,\n",
       " 78,\n",
       " 3,\n",
       " 49,\n",
       " 59,\n",
       " 67,\n",
       " 7,\n",
       " 24,\n",
       " 45,\n",
       " 26,\n",
       " 57,\n",
       " 34,\n",
       " 16,\n",
       " 2,\n",
       " 9]"
      ]
     },
     "execution_count": 127,
     "metadata": {},
     "output_type": "execute_result"
    }
   ],
   "source": [
    "order"
   ]
  },
  {
   "cell_type": "code",
   "execution_count": 11,
   "metadata": {
    "collapsed": false
   },
   "outputs": [],
   "source": [
    "import random\n",
    "def find_center(locs):\n",
    "    ''' Finds the center of a region based on\n",
    "    minimizing the Chebyshev distance\n",
    "    \n",
    "    Parameters:\n",
    "    -----------\n",
    "    locs : Coordinates of regions\n",
    "    \n",
    "    Returns:\n",
    "    --------\n",
    "    center : x, y, z coordinates of center\n",
    "    '''\n",
    "    \n",
    "    # Seperate points by dimension\n",
    "    x_coor, y_coor, z_coor = locs[0], locs[1], locs[2]\n",
    "    \n",
    "    # Assert that we have an equal number of x, y, z coordinates\n",
    "    if len(x_coor) != len(y_coor) or len(x_coor) != len(z_coor):\n",
    "        print \"Error\"\n",
    "        \n",
    "    # Initialize center and running minimum distance\n",
    "    center, curr_min = [0, 0, 0], sys.float_info.max\n",
    "    \n",
    "    # Iterate through points\n",
    "    num_pts = len(x_coor)\n",
    "    for s in range(num_pts):\n",
    "        dist = 0.0\n",
    "        for t in range(len(x_coor)):\n",
    "            dist += 1.0 * cheby([x_coor[s], y_coor[s], z_coor[s]], [x_coor[t], y_coor[t], z_coor[t]])\n",
    "#         Update Center\n",
    "        if dist < curr_min:\n",
    "            center[0], center[1], center[2] = x_coor[s], y_coor[s], z_coor[s]\n",
    "    return center"
   ]
  },
  {
   "cell_type": "code",
   "execution_count": 15,
   "metadata": {
    "collapsed": false
   },
   "outputs": [
    {
     "data": {
      "text/plain": [
       "False"
      ]
     },
     "execution_count": 15,
     "metadata": {},
     "output_type": "execute_result"
    }
   ],
   "source": [
    "sys.float_info.max < 0.4"
   ]
  },
  {
   "cell_type": "code",
   "execution_count": 22,
   "metadata": {
    "collapsed": false
   },
   "outputs": [
    {
     "data": {
      "text/plain": [
       "9"
      ]
     },
     "execution_count": 22,
     "metadata": {},
     "output_type": "execute_result"
    }
   ],
   "source": [
    "cheby([0, 0, 0], [0 , 1, 9])"
   ]
  },
  {
   "cell_type": "code",
   "execution_count": null,
   "metadata": {
    "collapsed": true
   },
   "outputs": [],
   "source": [
    "    for s in range(num_pts):\n",
    "#         dist = 0.0\n",
    "#         sub_num_pts = int(num_pts * 0.1)\n",
    "#         for i in range(sub_num_pts):\n",
    "#             rand_ind = random.randrange(num_pts)\n",
    "#             dist += 1.0 * cheby([x_coor[s], y_coor[s], z_coor[s]], [x_coor[rand_ind], y_coor[rand_ind], z_coor[rand_ind]])\n"
   ]
  }
 ],
 "metadata": {
  "kernelspec": {
   "display_name": "Python 2",
   "language": "python",
   "name": "python2"
  },
  "language_info": {
   "codemirror_mode": {
    "name": "ipython",
    "version": 2
   },
   "file_extension": ".py",
   "mimetype": "text/x-python",
   "name": "python",
   "nbconvert_exporter": "python",
   "pygments_lexer": "ipython2",
   "version": "2.7.10"
  }
 },
 "nbformat": 4,
 "nbformat_minor": 0
}
