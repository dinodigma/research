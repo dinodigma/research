{
 "cells": [
  {
   "cell_type": "code",
   "execution_count": 2,
   "metadata": {
    "collapsed": false
   },
   "outputs": [],
   "source": [
    "import os\n",
    "os.chdir('/home/jagust/dino/surf')\n",
    "from surf import *\n",
    "% matplotlib inline"
   ]
  },
  {
   "cell_type": "code",
   "execution_count": 3,
   "metadata": {
    "collapsed": false
   },
   "outputs": [],
   "source": [
    "matches = np.load('/home/jagust/dino/surf/matches.npy')\n",
    "order = np.load('/home/jagust/dino/surf/simulation_trials/order_or_removals.npy')"
   ]
  },
  {
   "cell_type": "code",
   "execution_count": 4,
   "metadata": {
    "collapsed": false
   },
   "outputs": [],
   "source": [
    "def find_subsess(s):\n",
    "    ''' Given a path or string, finds the subuject's subsession'''\n",
    "\n",
    "    inds = re.search('B[0,1,9]\\d-\\d\\d\\d_\\d\\d\\d\\d-\\d\\d-\\d\\d', s)\n",
    "    if inds is None:\n",
    "        print 'Subject ID not found'\n",
    "        return None\n",
    "    else:\n",
    "        inds = inds.span()\n",
    "        return s[inds[0]: inds[1]]\n",
    "\n",
    "def dampen(g, nodes, cost = 0.5):\n",
    "    for node in nodes:\n",
    "        for edge in g.edges(node, data=True):\n",
    "            edge[2]['weight'] *= cost\n",
    "    add_distance_attr(g)\n",
    "    \n",
    "def run_simulation(fnet, order):\n",
    "    sp, mod = [], []\n",
    "    removed = set([])\n",
    "    for rem in order:\n",
    "        removed.add(rem)\n",
    "        dampen(fnet, removed, 0.50)\n",
    "        # Efficiency\n",
    "        sp.append(1.0 / nx.average_shortest_path_length(fnet, weight='distance'))\n",
    "        \n",
    "        # Modularity\n",
    "        l = wmd.LouvainCommunityDetection(fnet)\n",
    "        p = l.run()\n",
    "        mod.append(p[-1].modularity())\n",
    "    return sp, mod\n",
    "\n",
    "def load_graph(path):\n",
    "    if type(path) == str or type(path) == unicode:\n",
    "        g = nx.Graph(np.load(path))\n",
    "        add_distance_attr(g)\n",
    "    else:\n",
    "        g = nx.Graph(path)\n",
    "        add_distance_attr(g)\n",
    "    return g\n",
    "\n",
    "def find_modularity(fnet):\n",
    "    l = wmd.LouvainCommunityDetection(fnet)\n",
    "    p = l.run()\n",
    "    return p[-1].modularity()"
   ]
  },
  {
   "cell_type": "code",
   "execution_count": null,
   "metadata": {
    "collapsed": false
   },
   "outputs": [],
   "source": []
  },
  {
   "cell_type": "markdown",
   "metadata": {
    "collapsed": true
   },
   "source": [
    "Analysis\n",
    "=="
   ]
  },
  {
   "cell_type": "code",
   "execution_count": 5,
   "metadata": {
    "collapsed": false
   },
   "outputs": [],
   "source": [
    "results_dir = '/home/jagust/dino/surf/simulation_trials/ignore_pib_pos/dampening/percent75/*.npy'\n",
    "results = sorted(glob(results_dir))"
   ]
  },
  {
   "cell_type": "code",
   "execution_count": 12,
   "metadata": {
    "collapsed": false
   },
   "outputs": [
    {
     "data": {
      "text/plain": [
       "array([[ 1.20501571,  1.2028256 ,  1.19939969,  1.19573346,  1.19160304,\n",
       "         1.18654477,  1.18168375,  1.17694758,  1.17234811,  1.16778517,\n",
       "         1.16307003,  1.15822069,  1.15293005,  1.14782338,  1.14290474,\n",
       "         1.13767411,  1.13270107,  1.12797589,  1.12324688,  1.1184776 ,\n",
       "         1.11372653,  1.10968809,  1.10594036,  1.10245718,  1.09931123,\n",
       "         1.09577977,  1.09170276,  1.08779135,  1.08388818,  1.08043102,\n",
       "         1.07723503,  1.0741755 ,  1.0707571 ,  1.06718898,  1.06383737,\n",
       "         1.06060527,  1.05758372,  1.05433574,  1.05136386,  1.04863809,\n",
       "         1.04613216,  1.04390573,  1.04167107,  1.03942475,  1.03701642,\n",
       "         1.03456013,  1.03237773,  1.03009385,  1.0279295 ,  1.02609231,\n",
       "         1.0242777 ,  1.02266174,  1.021166  ,  1.01956012,  1.01818155,\n",
       "         1.01675966,  1.01547576,  1.01426658,  1.01315484,  1.01201144,\n",
       "         1.01081408,  1.00972331,  1.00867946,  1.0076798 ,  1.00671548,\n",
       "         1.00587307,  1.00513248,  1.00438378,  1.00366284,  1.00309469,\n",
       "         1.00262196,  1.00216313,  1.00176534,  1.00139964,  1.00108659,\n",
       "         1.00082807,  1.00060013,  1.00042227,  1.00027454,  1.00015441],\n",
       "       [ 0.19564107,  0.19934647,  0.19928519,  0.19702723,  0.20045915,\n",
       "         0.20215266,  0.20003837,  0.20035846,  0.20403768,  0.20511894,\n",
       "         0.20258332,  0.20331517,  0.20812862,  0.21058562,  0.21275157,\n",
       "         0.21363679,  0.21404352,  0.21738522,  0.21853812,  0.22035404,\n",
       "         0.21903515,  0.22254961,  0.22309816,  0.22509278,  0.22656313,\n",
       "         0.22905694,  0.23134909,  0.23432938,  0.23836296,  0.23817608,\n",
       "         0.24150586,  0.24126045,  0.24380771,  0.24312825,  0.25074555,\n",
       "         0.25380482,  0.25485336,  0.2594312 ,  0.26012561,  0.26699218,\n",
       "         0.26956854,  0.27350145,  0.2758243 ,  0.27890287,  0.28473815,\n",
       "         0.28787617,  0.29011446,  0.29613332,  0.30526654,  0.3119236 ,\n",
       "         0.32038781,  0.32500852,  0.33225947,  0.3389637 ,  0.34502918,\n",
       "         0.35064602,  0.35671277,  0.36387731,  0.36881017,  0.37593758,\n",
       "         0.3866156 ,  0.39601719,  0.40685867,  0.41917563,  0.43393916,\n",
       "         0.44498441,  0.4601452 ,  0.47900807,  0.49930745,  0.51525123,\n",
       "         0.52863765,  0.54626191,  0.56239372,  0.58331997,  0.60392783,\n",
       "         0.62173679,  0.6428516 ,  0.65886551,  0.6792245 ,  0.71750794]])"
      ]
     },
     "execution_count": 12,
     "metadata": {},
     "output_type": "execute_result"
    }
   ],
   "source": []
  },
  {
   "cell_type": "code",
   "execution_count": 21,
   "metadata": {
    "collapsed": false
   },
   "outputs": [
    {
     "name": "stdout",
     "output_type": "stream",
     "text": [
      "# Dampening rounds: 0\n",
      "E4 Positive: 1.24231605805+/- 0.0566054412041\n",
      "E4 Negative: 1.24173370908+/- 0.0398103358312\n",
      "\n",
      "\n",
      "# Dampening rounds: 5\n",
      "E4 Positive: 1.21783303271+/- 0.0504357204147\n",
      "E4 Negative: 1.21596526721+/- 0.0336273173613\n",
      "\n",
      "\n",
      "# Dampening rounds: 10\n",
      "E4 Positive: 1.18822694433+/- 0.0421461450763\n",
      "E4 Negative: 1.18615659407+/- 0.0270246929914\n",
      "\n",
      "\n",
      "# Dampening rounds: 15\n",
      "E4 Positive: 1.15947713651+/- 0.0344459379816\n",
      "E4 Negative: 1.15748015534+/- 0.0221551415755\n",
      "\n",
      "\n",
      "# Dampening rounds: 20\n",
      "E4 Positive: 1.13316143449+/- 0.0283892276063\n",
      "E4 Negative: 1.13161524185+/- 0.0188763643998\n",
      "\n",
      "\n",
      "# Dampening rounds: 25\n",
      "E4 Positive: 1.11101075567+/- 0.0234027978719\n",
      "E4 Negative: 1.10940695876+/- 0.0155861663897\n",
      "\n",
      "\n",
      "# Dampening rounds: 30\n",
      "E4 Positive: 1.09080079917+/- 0.0194940564378\n",
      "E4 Negative: 1.08894972305+/- 0.012530948119\n",
      "\n",
      "\n",
      "# Dampening rounds: 35\n",
      "E4 Positive: 1.07197498317+/- 0.0158913897448\n",
      "E4 Negative: 1.07063501856+/- 0.0101260448567\n",
      "\n",
      "\n",
      "# Dampening rounds: 40\n",
      "E4 Positive: 1.05560550207+/- 0.012898710288\n",
      "E4 Negative: 1.05477369101+/- 0.00773918058907\n",
      "\n",
      "\n",
      "# Dampening rounds: 45\n",
      "E4 Positive: 1.04187948762+/- 0.0104353555666\n",
      "E4 Negative: 1.04129318754+/- 0.00618284958947\n",
      "\n",
      "\n",
      "# Dampening rounds: 50\n",
      "E4 Positive: 1.03031299759+/- 0.00813802680809\n",
      "E4 Negative: 1.02968859018+/- 0.0047373841033\n",
      "\n",
      "\n",
      "# Dampening rounds: 55\n",
      "E4 Positive: 1.02112969212+/- 0.00604566585676\n",
      "E4 Negative: 1.02052617231+/- 0.00332622765125\n",
      "\n",
      "\n",
      "# Dampening rounds: 60\n",
      "E4 Positive: 1.01368383136+/- 0.00399806597487\n",
      "E4 Negative: 1.01329949993+/- 0.0020984480457\n",
      "\n",
      "\n",
      "# Dampening rounds: 65\n",
      "E4 Positive: 1.00799127027+/- 0.00244435230531\n",
      "E4 Negative: 1.00772605633+/- 0.00135147693496\n",
      "\n",
      "\n",
      "# Dampening rounds: 70\n",
      "E4 Positive: 1.00403901579+/- 0.00136463671381\n",
      "E4 Negative: 1.00395518879+/- 0.000799455470047\n",
      "\n",
      "\n",
      "# Dampening rounds: 75\n",
      "E4 Positive: 1.00133094463+/- 0.000528413067626\n",
      "E4 Negative: 1.00125598986+/- 0.000255072295235\n",
      "\n",
      "\n"
     ]
    },
    {
     "data": {
      "image/png": "[encoded data removed]",
      "text/plain": [
       "<matplotlib.figure.Figure at 0x7fe32e8f8490>"
      ]
     },
     "metadata": {},
     "output_type": "display_data"
    }
   ],
   "source": [
    "fig = plt.figure()\n",
    "ax = fig.add_subplot(111)\n",
    "checks = [0, 5, 10, 15, 20, 25, 30, 35, 40, 45, 50, 55, 60, 65, 70, 75]\n",
    "pos_checks, neg_checks = {}, {}\n",
    "for check in checks:\n",
    "    pos_checks[check] = []\n",
    "    neg_checks[check] = []\n",
    "\n",
    "plt.ylabel('Efficiency')\n",
    "plt.xlabel('# Dampening rounds')\n",
    "for res in results:\n",
    "    r = np.load(res)[0]\n",
    "    if is_geno_pos(find_id(res)):\n",
    "        for check in checks:\n",
    "            pos_checks[check].append(r[check])\n",
    "    if is_geno_neg(find_id(res)):\n",
    "        for check in checks:\n",
    "            neg_checks[check].append(r[check])\n",
    "for check in checks:\n",
    "    print \"# Dampening rounds: \" + str(check)\n",
    "    print \"E4 Positive: \" + str(np.mean(pos_checks[check])) + \"+/- \" + str(np.std(pos_checks[check]))\n",
    "    plt.scatter(check, np.mean(pos_checks[check]), c = 'b')\n",
    "    plt.errorbar(check, np.mean(pos_checks[check]), yerr = np.std(pos_checks[check]), c = 'b')\n",
    "    print \"E4 Negative: \" + str(np.mean(neg_checks[check])) + \"+/- \" + str(np.std(neg_checks[check]))\n",
    "    plt.scatter(check, np.mean(neg_checks[check]), c = 'r')\n",
    "    plt.errorbar(check, np.mean(neg_checks[check]), yerr = np.std(neg_checks[check]), c = 'r')\n",
    "    print \"\"\n",
    "    print \"\""
   ]
  },
  {
   "cell_type": "code",
   "execution_count": 6,
   "metadata": {
    "collapsed": false
   },
   "outputs": [
    {
     "name": "stdout",
     "output_type": "stream",
     "text": [
      "# Dampening rounds: 0\n",
      "E4 Positive: 0.186586119329+/- 0.0145580613607\n",
      "E4 Negative: 0.184859936979+/- 0.0147334856468\n",
      "\n",
      "\n",
      "# Dampening rounds: 5\n",
      "E4 Positive: 0.190175290474+/- 0.0160662816854\n",
      "E4 Negative: 0.187964081291+/- 0.0150593047795\n",
      "\n",
      "\n",
      "# Dampening rounds: 10\n",
      "E4 Positive: 0.195034923824+/- 0.016999001604\n",
      "E4 Negative: 0.194014855466+/- 0.0134707581966\n",
      "\n",
      "\n",
      "# Dampening rounds: 15\n",
      "E4 Positive: 0.200660485868+/- 0.0180788576171\n",
      "E4 Negative: 0.201996478685+/- 0.0148627949501\n",
      "\n",
      "\n",
      "# Dampening rounds: 20\n",
      "E4 Positive: 0.208047880917+/- 0.0194062595109\n",
      "E4 Negative: 0.208789311335+/- 0.0151427961321\n",
      "\n",
      "\n",
      "# Dampening rounds: 25\n",
      "E4 Positive: 0.214602457219+/- 0.021573832938\n",
      "E4 Negative: 0.215779612102+/- 0.0175522433729\n",
      "\n",
      "\n",
      "# Dampening rounds: 30\n",
      "E4 Positive: 0.224484079129+/- 0.024845722834\n",
      "E4 Negative: 0.226834874156+/- 0.017248957225\n",
      "\n",
      "\n",
      "# Dampening rounds: 35\n",
      "E4 Positive: 0.236801908524+/- 0.0273070735083\n",
      "E4 Negative: 0.238400785325+/- 0.0178928524534\n",
      "\n",
      "\n",
      "# Dampening rounds: 40\n",
      "E4 Positive: 0.252461742425+/- 0.0319836626641\n",
      "E4 Negative: 0.253064220444+/- 0.0183421916172\n",
      "\n",
      "\n",
      "# Dampening rounds: 45\n",
      "E4 Positive: 0.271830250218+/- 0.0366438258688\n",
      "E4 Negative: 0.27115307927+/- 0.0210571774836\n",
      "\n",
      "\n",
      "# Dampening rounds: 50\n",
      "E4 Positive: 0.293253743015+/- 0.0419507210241\n",
      "E4 Negative: 0.295754660584+/- 0.024588418044\n",
      "\n",
      "\n",
      "# Dampening rounds: 55\n",
      "E4 Positive: 0.319087412421+/- 0.0473350477932\n",
      "E4 Negative: 0.324127855721+/- 0.0278846272904\n",
      "\n",
      "\n",
      "# Dampening rounds: 60\n",
      "E4 Positive: 0.352870345496+/- 0.0519292632834\n",
      "E4 Negative: 0.356969484342+/- 0.0284840179567\n",
      "\n",
      "\n",
      "# Dampening rounds: 65\n",
      "E4 Positive: 0.394682272062+/- 0.0579517824331\n",
      "E4 Negative: 0.398692488232+/- 0.0342751441965\n",
      "\n",
      "\n",
      "# Dampening rounds: 70\n",
      "E4 Positive: 0.447370300838+/- 0.06400351447\n",
      "E4 Negative: 0.445238772214+/- 0.0435484493704\n",
      "\n",
      "\n",
      "# Dampening rounds: 75\n",
      "E4 Positive: 0.533502632789+/- 0.0743979843071\n",
      "E4 Negative: 0.539090602897+/- 0.0445695529843\n",
      "\n",
      "\n"
     ]
    },
    {
     "data": {
      "image/png": "[encoded data removed]",
      "text/plain": [
       "<matplotlib.figure.Figure at 0x7f782f9f0550>"
      ]
     },
     "metadata": {},
     "output_type": "display_data"
    }
   ],
   "source": [
    "fig = plt.figure()\n",
    "ax = fig.add_subplot(111)\n",
    "checks = [0, 5, 10, 15, 20, 25, 30, 35, 40, 45, 50, 55, 60, 65, 70, 75]\n",
    "pos_checks, neg_checks = {}, {}\n",
    "for check in checks:\n",
    "    pos_checks[check] = []\n",
    "    neg_checks[check] = []\n",
    "\n",
    "plt.ylabel('Modularity')\n",
    "plt.xlabel('# Dampening rounds')\n",
    "for res in results:\n",
    "    r = np.load(res)[1]\n",
    "    if is_geno_pos(find_id(res)):\n",
    "        for check in checks:\n",
    "            pos_checks[check].append(r[check])\n",
    "    if is_geno_neg(find_id(res)):\n",
    "        for check in checks:\n",
    "            neg_checks[check].append(r[check])\n",
    "for check in checks:\n",
    "    print \"# Dampening rounds: \" + str(check)\n",
    "    print \"E4 Positive: \" + str(np.mean(pos_checks[check])) + \"+/- \" + str(np.std(pos_checks[check]))\n",
    "    plt.scatter(check, np.mean(pos_checks[check]), c = 'b')\n",
    "    plt.errorbar(check, np.mean(pos_checks[check]), yerr = np.std(pos_checks[check]), c = 'b')\n",
    "    print \"E4 Negative: \" + str(np.mean(neg_checks[check])) + \"+/- \" + str(np.std(neg_checks[check]))\n",
    "    plt.scatter(check, np.mean(neg_checks[check]), c = 'r')\n",
    "    plt.errorbar(check, np.mean(neg_checks[check]), yerr = np.std(neg_checks[check]), c = 'r')\n",
    "    print \"\"\n",
    "    print \"\""
   ]
  },
  {
   "cell_type": "code",
   "execution_count": null,
   "metadata": {
    "collapsed": false
   },
   "outputs": [],
   "source": []
  },
  {
   "cell_type": "code",
   "execution_count": null,
   "metadata": {
    "collapsed": false
   },
   "outputs": [],
   "source": []
  },
  {
   "cell_type": "code",
   "execution_count": null,
   "metadata": {
    "collapsed": false
   },
   "outputs": [],
   "source": []
  },
  {
   "cell_type": "code",
   "execution_count": 46,
   "metadata": {
    "collapsed": false
   },
   "outputs": [
    {
     "name": "stdout",
     "output_type": "stream",
     "text": [
      "E4+     r: (0.12927870406827593, 0.54713463833334064)\n",
      "E4-     r: (-0.11169296330272731, 0.60334122822326441)\n"
     ]
    },
    {
     "data": {
      "image/png": "[encoded data removed]",
      "text/plain": [
       "<matplotlib.figure.Figure at 0x7f91995e5990>"
      ]
     },
     "metadata": {},
     "output_type": "display_data"
    }
   ],
   "source": [
    "fig = plt.figure()\n",
    "ax = fig.add_subplot(111)\n",
    "ax.scatter(pos_age, pos_met, c = 'b')\n",
    "ax.scatter(neg_age, neg_met, c = 'r')\n",
    "plt.ylabel('Shortest Path')\n",
    "plt.xlabel('Age')\n",
    "rp, rn = stats.pearsonr(pos_age, pos_met), stats.pearsonr(neg_age, neg_met)\n",
    "print \"E4+     r: \" + str(rp)\n",
    "print \"E4-     r: \" + str(rn)"
   ]
  },
  {
   "cell_type": "code",
   "execution_count": 50,
   "metadata": {
    "collapsed": false
   },
   "outputs": [
    {
     "name": "stdout",
     "output_type": "stream",
     "text": [
      "E4+     r: (0.109103379463706, 0.61181721061852246)\n",
      "E4-     r: (0.10049586748319971, 0.64033472137171565)\n"
     ]
    },
    {
     "data": {
      "image/png": "[encoded data removed]",
      "text/plain": [
       "<matplotlib.figure.Figure at 0x7f9199aa7c90>"
      ]
     },
     "metadata": {},
     "output_type": "display_data"
    }
   ],
   "source": [
    "fig = plt.figure()\n",
    "ax = fig.add_subplot(111)\n",
    "ax.scatter(pos_age, pos_met, c = 'b')\n",
    "ax.scatter(neg_age, neg_met, c = 'r')\n",
    "plt.ylabel('Clustering')\n",
    "plt.xlabel('Age')\n",
    "rp, rn = stats.pearsonr(pos_age, pos_met), stats.pearsonr(neg_age, neg_met)\n",
    "print \"E4+     r: \" + str(rp)\n",
    "print \"E4-     r: \" + str(rn)"
   ]
  },
  {
   "cell_type": "code",
   "execution_count": 52,
   "metadata": {
    "collapsed": false
   },
   "outputs": [
    {
     "name": "stdout",
     "output_type": "stream",
     "text": [
      "E4+     r: (0.10527424122509284, 0.62443920142711828)\n",
      "E4-     r: (0.090845467070606811, 0.67290349722358367)\n"
     ]
    },
    {
     "data": {
      "image/png": "[encoded data removed]",
      "text/plain": [
       "<matplotlib.figure.Figure at 0x7f9199e4ec50>"
      ]
     },
     "metadata": {},
     "output_type": "display_data"
    }
   ],
   "source": [
    "fig = plt.figure()\n",
    "ax = fig.add_subplot(111)\n",
    "ax.scatter(pos_age, pos_met, c = 'b')\n",
    "ax.scatter(neg_age, neg_met, c = 'r')\n",
    "plt.ylabel('Small World')\n",
    "plt.xlabel('Age')\n",
    "rp, rn = stats.pearsonr(pos_age, pos_met), stats.pearsonr(neg_age, neg_met)\n",
    "print \"E4+     r: \" + str(rp)\n",
    "print \"E4-     r: \" + str(rn)"
   ]
  },
  {
   "cell_type": "code",
   "execution_count": null,
   "metadata": {
    "collapsed": false
   },
   "outputs": [],
   "source": [
    "fig = plt.figure()\n",
    "ax = fig.add_subplot(111)\n",
    "ax.scatter(pos_age, pos_met, c = 'b')\n",
    "ax.scatter(neg_age, neg_met, c = 'r')\n",
    "plt.ylabel('Modularity')\n",
    "plt.xlabel('Age')\n",
    "rp, rn = stats.pearsonr(pos_age, pos_met), stats.pearsonr(neg_age, neg_met)\n",
    "print \"E4+     r: \" + str(rp)\n",
    "print \"E4-     r: \" + str(rn)"
   ]
  },
  {
   "cell_type": "code",
   "execution_count": 54,
   "metadata": {
    "collapsed": true
   },
   "outputs": [],
   "source": []
  },
  {
   "cell_type": "code",
   "execution_count": null,
   "metadata": {
    "collapsed": true
   },
   "outputs": [],
   "source": []
  }
 ],
 "metadata": {
  "kernelspec": {
   "display_name": "Python 2",
   "language": "python",
   "name": "python2"
  },
  "language_info": {
   "codemirror_mode": {
    "name": "ipython",
    "version": 2
   },
   "file_extension": ".py",
   "mimetype": "text/x-python",
   "name": "python",
   "nbconvert_exporter": "python",
   "pygments_lexer": "ipython2",
   "version": "2.7.10"
  }
 },
 "nbformat": 4,
 "nbformat_minor": 0
}
