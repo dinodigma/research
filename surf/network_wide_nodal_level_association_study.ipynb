{
 "cells": [
  {
   "cell_type": "code",
   "execution_count": 85,
   "metadata": {
    "collapsed": false
   },
   "outputs": [],
   "source": [
    "% matplotlib inline\n",
    "import os\n",
    "os.chdir('/home/jagust/dino/surf/')\n",
    "from surf import *"
   ]
  },
  {
   "cell_type": "code",
   "execution_count": 258,
   "metadata": {
    "collapsed": false
   },
   "outputs": [],
   "source": [
    "# Load PiB Data\n",
    "pos_pib_dat = np.load('/home/jagust/dino/surf/mats/pos_pib_mat.npy')\n",
    "neg_pib_dat = np.load('/home/jagust/dino/surf/mats/neg_pib_mat.npy')\n",
    "\n",
    "# Transform values to z-scores\n",
    "for r in range(len(pos_pib_dat)):\n",
    "    mean, std = np.mean(pos_pib_dat[r]), np.std(pos_pib_dat[r])\n",
    "#     print r, mean, std\n",
    "    pos_pib_dat[r] = [((val - mean) * 1.0 / std) for val in pos_pib_dat[r]]\n",
    "\n",
    "    \n",
    "for r in range(len(neg_pib_dat)):\n",
    "    mean, std = np.mean(neg_pib_dat[r]), np.std(neg_pib_dat[r])\n",
    "    neg_pib_dat[r] = [((val - mean) * 1.0 / std) for val in neg_pib_dat[r]]"
   ]
  },
  {
   "cell_type": "code",
   "execution_count": 157,
   "metadata": {
    "collapsed": false
   },
   "outputs": [
    {
     "data": {
      "text/plain": [
       "(38, 80)"
      ]
     },
     "execution_count": 157,
     "metadata": {},
     "output_type": "execute_result"
    }
   ],
   "source": [
    "pos_pib_dat.shape"
   ]
  },
  {
   "cell_type": "code",
   "execution_count": 106,
   "metadata": {
    "collapsed": false
   },
   "outputs": [],
   "source": [
    "reg_results = {}\n",
    "for reg in range(80):\n",
    "\n",
    "    pos_vals = pos_pib_dat[:,reg:reg+1]\n",
    "    neg_vals = neg_pib_dat[:,reg:reg+1]\n",
    "    \n",
    "    pos_list = [float(i[0]) for i in pos_vals if i == i]\n",
    "    neg_list = [float(i[0]) for i in neg_vals if i == i]\n",
    "    t, p = stats.ttest_ind(pos_list, neg_list)\n",
    "    \n",
    "    reg_results[reg] = (t, p)"
   ]
  },
  {
   "cell_type": "code",
   "execution_count": 130,
   "metadata": {
    "collapsed": false
   },
   "outputs": [
    {
     "data": {
      "text/plain": [
       "<matplotlib.text.Text at 0x7fdce83da1d0>"
      ]
     },
     "execution_count": 130,
     "metadata": {},
     "output_type": "execute_result"
    },
    {
     "data": {
      "image/png": "[encoded data removed]",
      "text/plain": [
       "<matplotlib.figure.Figure at 0x7fdce86a8c90>"
      ]
     },
     "metadata": {},
     "output_type": "display_data"
    }
   ],
   "source": [
    "import math\n",
    "\n",
    "reg_results\n",
    "\n",
    "fig = plt.figure()\n",
    "ax = fig.add_subplot(111)\n",
    "p_vals_pos_greater = [] \n",
    "p_vals_neg_greater = []\n",
    "for reg in range(80):\n",
    "    if reg_results[reg][0] > 0.0:\n",
    "        p_vals_pos_greater.append((reg, reg_results[reg][1]))\n",
    "    else:\n",
    "        p_vals_neg_greater.append((reg, reg_results[reg][1]))\n",
    "\n",
    "xp, yp = zip(*p_vals_pos_greater)\n",
    "ax.scatter(xp, [-1.0 * math.log(p) for p in yp], c = 'b')\n",
    "\n",
    "xn, yn = zip(*p_vals_neg_greater)\n",
    "ax.scatter(xn, [-1.0 * math.log(p) for p in yn], c = 'r')\n",
    "\n",
    "ax.plot([0, 80], [7.37, 7.37] , 'b--', label = '')\n",
    "\n",
    "plt.xlim(0, 80)\n",
    "plt.ylabel('-log(p-value)')\n",
    "plt.xlabel('Node')"
   ]
  },
  {
   "cell_type": "code",
   "execution_count": 271,
   "metadata": {
    "collapsed": false
   },
   "outputs": [],
   "source": [
    "reg_names = np.genfromtxt('/home/jagust/graph/scripts/fs_gm.csv', delimiter=',', dtype = str)\n",
    "reg_names = reg_names[:, 0:1]\n",
    "np.save('/home/jagust/dino/surf/reg_names.npy', reg_names)\n",
    "def reg_name(reg):\n",
    "    return reg_names[reg]"
   ]
  },
  {
   "cell_type": "code",
   "execution_count": 155,
   "metadata": {
    "collapsed": false
   },
   "outputs": [
    {
     "name": "stdout",
     "output_type": "stream",
     "text": [
      "Regions where E4 Carriers have more PiB\n",
      "27 0.000200918453279 ['ctx-lh-parahippocampal']\n",
      "31 0.000391750849981 ['ctx-lh-parstriangularis']\n",
      "33 0.000511848494801 ['ctx-lh-postcentral']\n",
      "39 8.10327882124e-05 ['ctx-lh-superiorfrontal']\n",
      "40 1.19463325497e-08 ['ctx-lh-superiorparietal']\n",
      "41 4.9311476117e-06 ['ctx-lh-superiortemporal']\n",
      "72 0.000171280546072 ['ctx-rh-superiorfrontal']\n",
      "73 7.88253336153e-07 ['ctx-rh-superiorparietal']\n",
      "74 0.00050929132736 ['ctx-rh-superiortemporal']\n",
      "\n",
      "\n"
     ]
    }
   ],
   "source": [
    "print \"Regions where E4 Carriers have more PiB\"\n",
    "for pair in p_vals_pos_greater:\n",
    "    if -1.0 * math.log(pair[1]) > -1.0 * math.log(0.05/80.0):\n",
    "        print pair[0], pair [1], reg_name(pair[0])\n",
    "print \"\"\n",
    "print \"\"\n",
    "# print \"Regions where E4 Negative subjects have more PiB\"\n",
    "# for pair in p_vals_neg_greater:\n",
    "#     if -1.0 * math.log(pair[1]) > -1.0 * math.log(0.05/80.0):\n",
    "#         print pair[0], pair [1], reg_name(pair[0])"
   ]
  },
  {
   "cell_type": "code",
   "execution_count": 156,
   "metadata": {
    "collapsed": false
   },
   "outputs": [],
   "source": [
    "incl_paths = np.load('/home/jagust/dino/surf/inclusion_mat_paths.npy')"
   ]
  },
  {
   "cell_type": "code",
   "execution_count": 160,
   "metadata": {
    "collapsed": false
   },
   "outputs": [],
   "source": [
    "pos_mat = np.load('/home/jagust/dino/surf/mats/pos_group_mat_med.npy')\n",
    "neg_mat = np.load('/home/jagust/dino/surf/mats/neg_group_mat_med.npy')\n",
    "\n",
    "pos_thr_mat, cost = util.threshold_adjacency_matrix(pos_mat, cost=0.20)\n",
    "neg_thr_mat, cost = util.threshold_adjacency_matrix(neg_mat, cost=0.20)"
   ]
  },
  {
   "cell_type": "code",
   "execution_count": 235,
   "metadata": {
    "collapsed": false
   },
   "outputs": [],
   "source": [
    "pos_bin_g, pos_wg = nx.Graph(pos_thr_mat), nx.Graph(pos_mat)\n",
    "neg_bin_g, neg_wg = nx.Graph(neg_thr_mat), nx.Graph(neg_mat)\n"
   ]
  },
  {
   "cell_type": "code",
   "execution_count": 263,
   "metadata": {
    "collapsed": true
   },
   "outputs": [],
   "source": [
    "neg_bc_pts, neg_deg_pts, neg_cc_pts, pos_bc_pts, pos_deg_pts, pos_cc_pts = [], [], [], [], [], []\n",
    "neg_bc, pos_bc = nx.betweenness_centrality(neg_bin_g), nx.betweenness_centrality(pos_bin_g)\n",
    "neg_deg, pos_deg = neg_bin_g.degree().values(), pos_bin_g.degree().values()\n",
    "neg_cc, pos_cc = nx.clustering(neg_bin_g), nx.clustering(pos_bin_g)\n",
    "for reg in range(80):\n",
    "    pos_vals = pos_pib_dat[:,reg:reg+1]\n",
    "    neg_vals = neg_pib_dat[:,reg:reg+1]\n",
    "    \n",
    "    pos_list = [float(i[0]) for i in pos_vals if i == i]\n",
    "    neg_list = [float(i[0]) for i in neg_vals if i == i]\n",
    "    \n",
    "    pos_mean = np.mean(pos_list)\n",
    "    neg_mean = np.mean(neg_list)\n",
    "    \n",
    "    neg_bc_pts.append((neg_mean, neg_bc[reg]))\n",
    "    pos_bc_pts.append((pos_mean, pos_bc[reg]))\n",
    "    \n",
    "    neg_deg_pts.append((neg_mean, neg_deg[reg]))\n",
    "    pos_deg_pts.append((pos_mean, pos_deg[reg]))\n",
    "    \n",
    "    neg_cc_pts.append((neg_mean, neg_cc[reg]))\n",
    "    pos_cc_pts.append((pos_mean, pos_cc[reg]))"
   ]
  },
  {
   "cell_type": "code",
   "execution_count": 264,
   "metadata": {
    "collapsed": false
   },
   "outputs": [
    {
     "name": "stdout",
     "output_type": "stream",
     "text": [
      "Positive - r: -0.0734870575566\n",
      "Negative - r: 0.00204336323067\n"
     ]
    },
    {
     "data": {
      "text/plain": [
       "<matplotlib.text.Text at 0x7fdce1fb0450>"
      ]
     },
     "execution_count": 264,
     "metadata": {},
     "output_type": "execute_result"
    },
    {
     "data": {
      "image/png": "[encoded data removed]",
      "text/plain": [
       "<matplotlib.figure.Figure at 0x7fdce1dca250>"
      ]
     },
     "metadata": {},
     "output_type": "display_data"
    }
   ],
   "source": [
    "fig = plt.figure()\n",
    "ax = fig.add_subplot(111)\n",
    "\n",
    "xp, yp = zip(*pos_bc_pts)\n",
    "ax.scatter(xp, yp, c = 'b')\n",
    "print 'Positive - r: ' + str(stats.stats.pearsonr(xp, yp)[0])\n",
    "\n",
    "xn, yn = zip(*neg_bc_pts)\n",
    "ax.scatter(xn, yn, c = 'r')\n",
    "print 'Negative - r: ' + str(stats.stats.pearsonr(xn, yn)[0])\n",
    "\n",
    "plt.xlabel('Mean PiB')\n",
    "plt.ylabel('Betweenness Centrality')"
   ]
  },
  {
   "cell_type": "code",
   "execution_count": 265,
   "metadata": {
    "collapsed": false
   },
   "outputs": [
    {
     "name": "stdout",
     "output_type": "stream",
     "text": [
      "Positive - r: -0.10432202208\n",
      "Negative - r: -0.0103212892753\n"
     ]
    },
    {
     "data": {
      "text/plain": [
       "<matplotlib.text.Text at 0x7fdce1dd3f90>"
      ]
     },
     "execution_count": 265,
     "metadata": {},
     "output_type": "execute_result"
    },
    {
     "data": {
      "image/png": "[encoded data removed]",
      "text/plain": [
       "<matplotlib.figure.Figure at 0x7fdce1d0f710>"
      ]
     },
     "metadata": {},
     "output_type": "display_data"
    }
   ],
   "source": [
    "fig = plt.figure()\n",
    "ax = fig.add_subplot(111)\n",
    "\n",
    "xp, yp = zip(*neg_deg_pts)\n",
    "ax.scatter(xp, yp, c = 'b')\n",
    "print 'Positive - r: ' + str(stats.stats.pearsonr(xp, yp)[0])\n",
    "\n",
    "xn, yn = zip(*pos_deg_pts)\n",
    "ax.scatter(xn, yn, c = 'r')\n",
    "print 'Negative - r: ' + str(stats.stats.pearsonr(xn, yn)[0])\n",
    "\n",
    "\n",
    "plt.xlabel('Mean PiB')\n",
    "plt.ylabel('Degree')"
   ]
  },
  {
   "cell_type": "code",
   "execution_count": 269,
   "metadata": {
    "collapsed": false
   },
   "outputs": [
    {
     "name": "stdout",
     "output_type": "stream",
     "text": [
      "Positive - r: 0.224426506129\n",
      "Negative - r: 0.12675841708\n",
      "Overal correlation - r: 0.173331418066\n"
     ]
    },
    {
     "data": {
      "text/plain": [
       "<matplotlib.text.Text at 0x7fdce1be5a10>"
      ]
     },
     "execution_count": 269,
     "metadata": {},
     "output_type": "execute_result"
    },
    {
     "data": {
      "image/png": "[encoded data removed]",
      "text/plain": [
       "<matplotlib.figure.Figure at 0x7fdce1a5b8d0>"
      ]
     },
     "metadata": {},
     "output_type": "display_data"
    }
   ],
   "source": [
    "fig = plt.figure()\n",
    "ax = fig.add_subplot(111)\n",
    "\n",
    "xp, yp = zip(*pos_cc_pts)\n",
    "ax.scatter(xp, yp, c = 'b')\n",
    "print 'Positive - r: ' + str(stats.stats.pearsonr(xp, yp)[0])\n",
    "\n",
    "xn, yn = zip(*neg_cc_pts)\n",
    "ax.scatter(xn, yn, c = 'r')\n",
    "print 'Negative - r: ' + str(stats.stats.pearsonr(xn, yn)[0])\n",
    "\n",
    "print 'Overal correlation - r: ' + str(stats.stats.pearsonr(xn + xp, yn + yp)[0])\n",
    "\n",
    "plt.xlabel('Mean PiB')\n",
    "plt.ylabel('Clustering Coefficient')"
   ]
  },
  {
   "cell_type": "code",
   "execution_count": null,
   "metadata": {
    "collapsed": true
   },
   "outputs": [],
   "source": []
  },
  {
   "cell_type": "code",
   "execution_count": null,
   "metadata": {
    "collapsed": true
   },
   "outputs": [],
   "source": []
  }
 ],
 "metadata": {
  "kernelspec": {
   "display_name": "Python 2",
   "language": "python",
   "name": "python2"
  },
  "language_info": {
   "codemirror_mode": {
    "name": "ipython",
    "version": 2
   },
   "file_extension": ".py",
   "mimetype": "text/x-python",
   "name": "python",
   "nbconvert_exporter": "python",
   "pygments_lexer": "ipython2",
   "version": "2.7.10"
  }
 },
 "nbformat": 4,
 "nbformat_minor": 0
}
