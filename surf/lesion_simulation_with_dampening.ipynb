{
 "cells": [
  {
   "cell_type": "code",
   "execution_count": 2,
   "metadata": {
    "collapsed": true
   },
   "outputs": [],
   "source": [
    "% matplotlib inline\n",
    "import pylab as plt\n",
    "import numpy as np\n",
    "import networkx as nx\n",
    "import pandas as pd\n",
    "import operator\n",
    "import os\n",
    "import re\n",
    "from glob import glob\n",
    "import os\n",
    "os.chdir('/home/jagust/dino/surf/')\n",
    "import util as util\n",
    "import modularity as md\n",
    "from scipy import stats\n",
    "import operator\n",
    "\n",
    "def sort_by_val(d):\n",
    "    return sorted(d.items(), key = operator.itemgetter(1))\n",
    "\n",
    "def find_next_node(r, g):\n",
    "    \"\"\" Find the next node to be removed in the simulation\n",
    "    \n",
    "    Parameters\n",
    "    ----------\n",
    "        r : set of removed nodes\n",
    "        \n",
    "    Returns\n",
    "    -------\n",
    "        node : next node to be removed\n",
    "    \"\"\"\n",
    "    nodes = g.nodes()\n",
    "    distance = {}\n",
    "    for node in nodes:\n",
    "        if node in r:\n",
    "            continue\n",
    "        distance[node] = 0.0\n",
    "        for removed in r:\n",
    "            distance[node] += nx.shortest_path_length(g, node, removed, 'weight') \n",
    "        sorted_distances = sort_by_val(distance)\n",
    "    return sorted_distances[0][0]\n",
    "\n",
    "def run_simulation_dampening(fmat, pnet, seed, stop):\n",
    "    ''' Run lesion simulation\n",
    "    Parameters\n",
    "    ----------\n",
    "    fnet : functional network\n",
    "    pnet : PiB correlation network\n",
    "    seed : beginning of simulated lesioning\n",
    "    stop : terminate simulation after removing stop number of nodes\n",
    "    \n",
    "    Returns\n",
    "    -------\n",
    "    mods : tracks modularity of functional network as nodes are removed\n",
    "    effs : tracks efficiencies of functional network as nodes are removed\n",
    "    \n",
    "    Notes:\n",
    "        -Partition of functional network is found using Newman Spectral\n",
    "        -Efficiency is defined as the inverse of the average shortest path length\n",
    "            of the functional network\n",
    "    '''\n",
    "    # Create Graph\n",
    "    fnet, c = util.threshold_adjacency_matrix(fmat, cost=0.20)\n",
    "    \n",
    "    # Find partition\n",
    "    ind = md.newman_partition(fnet, max_div=np.inf).index\n",
    "    \n",
    "    # Initial global metrics\n",
    "    mods, effs = [], []\n",
    "    part = md.GraphPartition(fnet, index=ind)\n",
    "    mods.append(part.modularity())\n",
    "    effs.append(find_eff(fnet))\n",
    "    \n",
    "    \n",
    "    #removed = {seed}\n",
    "    \n",
    "    while len(removed) < stop:\n",
    "        rem = find_next_node(removed, pnet)\n",
    "        removed.add(rem)\n",
    "        fnet.remove_edges_from(fnet.edges(rem))\n",
    "        \n",
    "        mods.append(md.GraphPartition(fnet, index=ind).modularity())\n",
    "        effs.append(find_eff(fnet))\n",
    "    \n",
    "    return mods, effs"
   ]
  },
  {
   "cell_type": "code",
   "execution_count": 16,
   "metadata": {
    "collapsed": true
   },
   "outputs": [],
   "source": [
    "ll = [[1.0, 2.0, 3.0], [4.0, 5.0, 6.0], [7.0, 8.0, 9.0]]\n",
    "arr = np.array(ll)"
   ]
  },
  {
   "cell_type": "code",
   "execution_count": 17,
   "metadata": {
    "collapsed": false
   },
   "outputs": [],
   "source": [
    "arr[0] = arr[0] * 0.25"
   ]
  },
  {
   "cell_type": "code",
   "execution_count": 18,
   "metadata": {
    "collapsed": false
   },
   "outputs": [
    {
     "data": {
      "text/plain": [
       "array([[ 0.25,  0.5 ,  0.75],\n",
       "       [ 4.  ,  5.  ,  6.  ],\n",
       "       [ 7.  ,  8.  ,  9.  ]])"
      ]
     },
     "execution_count": 18,
     "metadata": {},
     "output_type": "execute_result"
    }
   ],
   "source": [
    "arr"
   ]
  },
  {
   "cell_type": "code",
   "execution_count": null,
   "metadata": {
    "collapsed": true
   },
   "outputs": [],
   "source": []
  }
 ],
 "metadata": {
  "kernelspec": {
   "display_name": "Python 2",
   "language": "python",
   "name": "python2"
  },
  "language_info": {
   "codemirror_mode": {
    "name": "ipython",
    "version": 2
   },
   "file_extension": ".py",
   "mimetype": "text/x-python",
   "name": "python",
   "nbconvert_exporter": "python",
   "pygments_lexer": "ipython2",
   "version": "2.7.10"
  }
 },
 "nbformat": 4,
 "nbformat_minor": 0
}
