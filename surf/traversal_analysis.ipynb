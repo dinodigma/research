{
 "cells": [
  {
   "cell_type": "raw",
   "metadata": {},
   "source": [
    "-Look at functional networks of young\n",
    "-Do simulation on young networks?"
   ]
  },
  {
   "cell_type": "code",
   "execution_count": 36,
   "metadata": {
    "collapsed": false
   },
   "outputs": [],
   "source": [
    "import os\n",
    "os.chdir('/home/jagust/dino/surf')\n",
    "from surf import *\n",
    "%matplotlib inline"
   ]
  },
  {
   "cell_type": "code",
   "execution_count": 37,
   "metadata": {
    "collapsed": false
   },
   "outputs": [],
   "source": [
    "trav_glob = '/home/jagust/dino/surf/simulation_trials/ignore_pib_pos/*traversal.npy'\n",
    "trav_paths = sorted(glob(trav_glob))\n",
    "order = list(np.load('/home/jagust/dino/surf/simulation_trials/order_or_removals.npy'))\n",
    "young_neg = np.load('/home/jagust/dino/surf/mats/young_geno_neg.npy')\n",
    "young_pos = np.load('/home/jagust/dino/surf/mats/young_geno_pos.npy')"
   ]
  },
  {
   "cell_type": "code",
   "execution_count": 38,
   "metadata": {
    "collapsed": false
   },
   "outputs": [],
   "source": [
    "neg_degs, pos_degs = [], []\n",
    "for path in young_neg:\n",
    "    path = str(path)\n",
    "    mat = np.load(path)\n",
    "    neg_degs.append(np.mean(nx.Graph(mat).degree(weight='weight').values()))\n",
    "for path in young_pos:\n",
    "    path = str(path)\n",
    "    mat = np.load(path)\n",
    "    pos_degs.append(np.mean(nx.Graph(mat).degree(weight='weight').values()))"
   ]
  },
  {
   "cell_type": "code",
   "execution_count": 39,
   "metadata": {
    "collapsed": false
   },
   "outputs": [],
   "source": [
    "neg_degs=[deg for deg in neg_degs if deg == deg]\n",
    "pos_degs=[deg for deg in pos_degs if deg == deg]"
   ]
  },
  {
   "cell_type": "code",
   "execution_count": 40,
   "metadata": {
    "collapsed": false
   },
   "outputs": [
    {
     "data": {
      "text/plain": [
       "(0.24468030360763585, 0.80802043685858471)"
      ]
     },
     "execution_count": 40,
     "metadata": {},
     "output_type": "execute_result"
    }
   ],
   "source": [
    "stats.ttest_ind(neg_degs, pos_degs)"
   ]
  },
  {
   "cell_type": "code",
   "execution_count": 41,
   "metadata": {
    "collapsed": true
   },
   "outputs": [],
   "source": [
    "def is_young_neg(subid):\n",
    "    for path in young_neg:\n",
    "        if find_id(path) == subid:\n",
    "            return True\n",
    "def is_young_pos(subid):\n",
    "    for path in young_pos:\n",
    "        if find_id(path) == subid:\n",
    "            return True"
   ]
  },
  {
   "cell_type": "code",
   "execution_count": 52,
   "metadata": {
    "collapsed": false
   },
   "outputs": [],
   "source": [
    "young_neg_corr, young_pos_corr, old_neg_corr, old_pos_corr = [], [], [], []\n",
    "for path in trav_paths:\n",
    "    trav = list(np.load(path))\n",
    "    subid = find_id(path)\n",
    "    trav_vals, order_vals = [], []\n",
    "    for reg in range(80):\n",
    "        order_vals.append(order.index(reg))\n",
    "        trav_vals.append(trav.index(reg))\n",
    "    r, p = stats.pearsonr(trav_vals, order_vals)\n",
    "    if is_young_neg(subid):\n",
    "        young_neg_corr.append(r)\n",
    "    elif is_young_pos(subid):\n",
    "        young_pos_corr.append(r)\n",
    "    elif is_geno_neg(subid):\n",
    "        old_neg_corr.append(r)\n",
    "    else:\n",
    "        old_pos_corr.append(r)"
   ]
  },
  {
   "cell_type": "code",
   "execution_count": 55,
   "metadata": {
    "collapsed": false
   },
   "outputs": [
    {
     "data": {
      "text/plain": [
       "(0.6025928373434144, 0.54887619955642486)"
      ]
     },
     "execution_count": 55,
     "metadata": {},
     "output_type": "execute_result"
    }
   ],
   "source": [
    "stats.ttest_ind(young_neg_corr + old_neg_corr,  young_pos_corr + old_pos_corr)"
   ]
  },
  {
   "cell_type": "code",
   "execution_count": 58,
   "metadata": {
    "collapsed": false
   },
   "outputs": [
    {
     "data": {
      "text/plain": [
       "(0.47043100472581267, 0.63962186039922875)"
      ]
     },
     "execution_count": 58,
     "metadata": {},
     "output_type": "execute_result"
    }
   ],
   "source": [
    "stats.ttest_ind(young_neg_corr + young_pos_corr,  old_neg_corr + old_pos_corr)"
   ]
  },
  {
   "cell_type": "code",
   "execution_count": 59,
   "metadata": {
    "collapsed": false
   },
   "outputs": [
    {
     "data": {
      "text/plain": [
       "(0.61929548862186801, 0.54024681064755953)"
      ]
     },
     "execution_count": 59,
     "metadata": {},
     "output_type": "execute_result"
    }
   ],
   "source": [
    "stats.ttest_ind(young_pos_corr, old_pos_corr)"
   ]
  },
  {
   "cell_type": "code",
   "execution_count": 60,
   "metadata": {
    "collapsed": false
   },
   "outputs": [
    {
     "data": {
      "text/plain": [
       "(0.013064168189405638, 0.98965771001278036)"
      ]
     },
     "execution_count": 60,
     "metadata": {},
     "output_type": "execute_result"
    }
   ],
   "source": [
    "stats.ttest_ind(young_neg_corr, old_neg_corr)"
   ]
  },
  {
   "cell_type": "code",
   "execution_count": 77,
   "metadata": {
    "collapsed": true
   },
   "outputs": [],
   "source": [
    "young_neg_mat = np.load('/home/jagust/dino/surf/mats/young_neg_med_mat.npy')\n",
    "young_pos_mat = np.load('/home/jagust/dino/surf/mats/young_pos_med_mat.npy')\n",
    "young_mat = np.load('/home/jagust/dino/surf/mats/young_med_mat.npy')\n",
    "old_neg_mat = np.load('/home/jagust/dino/surf/mats/ignore_pib_pos/neg_med_mat.npy')\n",
    "old_pos_mat = np.load('/home/jagust/dino/surf/mats/ignore_pib_pos/pos_med_mat.npy')\n",
    "matches = np.load('/home/jagust/dino/surf/matches.npy')\n",
    "young_neg_vis, young_pos_vis, old_neg_vis, old_pos_vis = [], [], [], []"
   ]
  },
  {
   "cell_type": "code",
   "execution_count": 78,
   "metadata": {
    "collapsed": false
   },
   "outputs": [
    {
     "data": {
      "text/plain": [
       "74"
      ]
     },
     "execution_count": 78,
     "metadata": {},
     "output_type": "execute_result"
    }
   ],
   "source": [
    "os.chdir('/home/jagust/dino/surf/mats/ignore_pib_pos/')\n",
    "pos_pib, neg_pib = np.load('pos_pib_dat.npy'), np.load('neg_pib_dat.npy')\n",
    "group_pib = np.vstack((pos_pib, neg_pib))\n",
    "pib_vals = pd.DataFrame(group_pib, dtype = float)\n",
    "corr_mat = np.array(pib_vals.corr())\n",
    "np.fill_diagonal(corr_mat, 0.0)\n",
    "pib_g = nx.Graph(corr_mat)\n",
    "# Find seed\n",
    "add_distance_attr(pib_g)\n",
    "pib_degs = pib_g.degree(weight='weight')\n",
    "sorted_degs = sort_by_val(pib_degs)[::-1]\n",
    "seed = sorted_degs[0][0]\n",
    "seed"
   ]
  },
  {
   "cell_type": "code",
   "execution_count": 96,
   "metadata": {
    "collapsed": false
   },
   "outputs": [],
   "source": [
    "pib_g = nx.Graph(corr_mat)\n",
    "add_distance_attr(pib_g)\n",
    "order = [seed]\n",
    "while len(order) < 80:\n",
    "#     print len(old_neg_vis)\n",
    "    rem = find_next_node(order, pib_g)\n",
    "    order.append(rem)"
   ]
  },
  {
   "cell_type": "code",
   "execution_count": 88,
   "metadata": {
    "collapsed": true
   },
   "outputs": [],
   "source": [
    "def find_next_node(r, g):\n",
    "    \"\"\" Slight variation of Prim's Algorithm; instead of minimizing the total \n",
    "    \"\"\"\n",
    "    nodes = g.nodes()\n",
    "    distance = {}\n",
    "    for node in nodes:\n",
    "        if node in r:\n",
    "            continue\n",
    "        distance[node] = 0.0\n",
    "        for removed in r:\n",
    "            distance[node] += nx.shortest_path_length(g, node, removed, weight='distance')\n",
    "        sorted_distances = sort_by_val(distance)\n",
    "    return sorted_distances[0][0]"
   ]
  },
  {
   "cell_type": "code",
   "execution_count": 91,
   "metadata": {
    "collapsed": false,
    "scrolled": true
   },
   "outputs": [],
   "source": [
    "old_neg_g = nx.Graph(old_neg_mat)\n",
    "add_distance_attr(old_neg_g)\n",
    "old_neg_vis = [seed]\n",
    "while len(old_neg_vis) < 80:\n",
    "#     print len(old_neg_vis)\n",
    "    rem = find_next_node(old_neg_vis, old_neg_g)\n",
    "    old_neg_vis.append(rem)"
   ]
  },
  {
   "cell_type": "code",
   "execution_count": 92,
   "metadata": {
    "collapsed": true
   },
   "outputs": [],
   "source": [
    "old_pos_g = nx.Graph(old_pos_mat)\n",
    "add_distance_attr(old_pos_g)\n",
    "old_pos_vis = [seed]\n",
    "while len(old_pos_vis) < 80:\n",
    "#     print len(old_pos_vis)\n",
    "    rem = find_next_node(old_pos_vis, old_pos_g)\n",
    "    old_pos_vis.append(rem)"
   ]
  },
  {
   "cell_type": "code",
   "execution_count": 93,
   "metadata": {
    "collapsed": true
   },
   "outputs": [],
   "source": [
    "young_neg_g = nx.Graph(young_neg_mat)\n",
    "add_distance_attr(young_neg_g)\n",
    "young_neg_vis = [seed]\n",
    "while len(young_neg_vis) < 80:\n",
    "#     print len(young_neg_vis)\n",
    "    rem = find_next_node(young_neg_vis, young_neg_g)\n",
    "    young_neg_vis.append(rem)"
   ]
  },
  {
   "cell_type": "code",
   "execution_count": 94,
   "metadata": {
    "collapsed": true
   },
   "outputs": [],
   "source": [
    "young_pos_g = nx.Graph(young_pos_mat)\n",
    "add_distance_attr(young_pos_g)\n",
    "young_pos_vis = [seed]\n",
    "while len(young_pos_vis) < 80:\n",
    "#     print len(young_pos_vis)\n",
    "    rem = find_next_node(young_pos_vis, young_pos_g)\n",
    "    young_pos_vis.append(rem)"
   ]
  },
  {
   "cell_type": "code",
   "execution_count": null,
   "metadata": {
    "collapsed": true
   },
   "outputs": [],
   "source": []
  },
  {
   "cell_type": "code",
   "execution_count": 102,
   "metadata": {
    "collapsed": false
   },
   "outputs": [
    {
     "name": "stdout",
     "output_type": "stream",
     "text": [
      "Old Negative\n",
      "r: 0.331715893108\n",
      "p: 0.00264828570004\n",
      "Old Positive\n",
      "r: -0.301758087201\n",
      "p: 0.0065232458986\n"
     ]
    },
    {
     "data": {
      "text/plain": [
       "<matplotlib.figure.Figure at 0x7f91ffebb750>"
      ]
     },
     "metadata": {},
     "output_type": "display_data"
    },
    {
     "data": {
      "image/png": "[encoded data removed]",
      "text/plain": [
       "<matplotlib.figure.Figure at 0x7f91ffebbe10>"
      ]
     },
     "metadata": {},
     "output_type": "display_data"
    }
   ],
   "source": [
    "plt.figure()\n",
    "fig = plt.figure()\n",
    "ax = fig.add_subplot(111)\n",
    "xlist, ylist = [], []\n",
    "visited = old_neg_vis\n",
    "for reg in range(80):\n",
    "    x, y = visited.index(reg), order.index(reg)\n",
    "    xlist.append(x)\n",
    "    ylist.append(y)\n",
    "    plt.scatter(x, y)\n",
    "    \n",
    "fit = np.polyfit(xlist,ylist,1)\n",
    "fit_fn = np.poly1d(fit) \n",
    "plt.plot(xlist, ylist, 'ro', xlist, fit_fn(xlist), '--k')\n",
    "r, p = stats.pearsonr(xlist, ylist)\n",
    "print 'Old Negative'\n",
    "print 'r: ' + str(r)\n",
    "print 'p: ' + str(p)\n",
    "# ax.annotate('r: ' + str(r), xy=(79, 40))\n",
    "# ax.annotate('r: ' + str(stats.pearsonr(xlist, ylist)[0]), xy=(79, 50))\n",
    "\n",
    "xlist, ylist = [], []\n",
    "visited = old_pos_vis\n",
    "for reg in range(80):\n",
    "    x, y = visited.index(reg), order.index(reg)\n",
    "    xlist.append(x)\n",
    "    ylist.append(y)\n",
    "    plt.scatter(x, y)\n",
    "    \n",
    "fit = np.polyfit(xlist,ylist,1)\n",
    "fit_fn = np.poly1d(fit) \n",
    "plt.plot(xlist, ylist, 'bo', xlist, fit_fn(xlist), '--k')\n",
    "r, p = stats.pearsonr(xlist, ylist)\n",
    "plt.xlabel('Order in Functional Network')\n",
    "plt.ylabel('Order in PiB Network Traversal')\n",
    "print 'Old Positive'\n",
    "print 'r: ' + str(r)\n",
    "print 'p: ' + str(p)"
   ]
  },
  {
   "cell_type": "code",
   "execution_count": 103,
   "metadata": {
    "collapsed": false
   },
   "outputs": [
    {
     "name": "stdout",
     "output_type": "stream",
     "text": [
      "Young Negative\n",
      "r: 0.15131270511\n",
      "p: 0.180306972285\n",
      "Young Positive\n",
      "r: 0.2290201594\n",
      "p: 0.04101043126\n"
     ]
    },
    {
     "data": {
      "text/plain": [
       "<matplotlib.figure.Figure at 0x7f91fff22250>"
      ]
     },
     "metadata": {},
     "output_type": "display_data"
    },
    {
     "data": {
      "image/png": "[encoded data removed]",
      "text/plain": [
       "<matplotlib.figure.Figure at 0x7f91fff221d0>"
      ]
     },
     "metadata": {},
     "output_type": "display_data"
    }
   ],
   "source": [
    "plt.figure()\n",
    "fig = plt.figure()\n",
    "ax = fig.add_subplot(111)\n",
    "xlist, ylist = [], []\n",
    "visited = young_neg_vis\n",
    "for reg in range(80):\n",
    "    x, y = visited.index(reg), order.index(reg)\n",
    "    xlist.append(x)\n",
    "    ylist.append(y)\n",
    "    plt.scatter(x, y)\n",
    "    \n",
    "fit = np.polyfit(xlist,ylist,1)\n",
    "fit_fn = np.poly1d(fit) \n",
    "plt.plot(xlist, ylist, 'ro', xlist, fit_fn(xlist), '--k')\n",
    "r, p = stats.pearsonr(xlist, ylist)\n",
    "print 'Young Negative'\n",
    "print 'r: ' + str(r)\n",
    "print 'p: ' + str(p)\n",
    "# ax.annotate('r: ' + str(r), xy=(79, 40))\n",
    "# ax.annotate('r: ' + str(stats.pearsonr(xlist, ylist)[0]), xy=(79, 50))\n",
    "\n",
    "xlist, ylist = [], []\n",
    "visited = young_pos_vis\n",
    "for reg in range(80):\n",
    "    x, y = visited.index(reg), order.index(reg)\n",
    "    xlist.append(x)\n",
    "    ylist.append(y)\n",
    "    plt.scatter(x, y)\n",
    "    \n",
    "fit = np.polyfit(xlist,ylist,1)\n",
    "fit_fn = np.poly1d(fit) \n",
    "plt.plot(xlist, ylist, 'bo', xlist, fit_fn(xlist), '--k')\n",
    "r, p = stats.pearsonr(xlist, ylist)\n",
    "plt.xlabel('Order in Functional Network')\n",
    "plt.ylabel('Order in PiB Network Traversal')\n",
    "print 'Young Positive'\n",
    "print 'r: ' + str(r)\n",
    "print 'p: ' + str(p)"
   ]
  },
  {
   "cell_type": "code",
   "execution_count": null,
   "metadata": {
    "collapsed": true
   },
   "outputs": [],
   "source": [
    "# Consider using all PiB data"
   ]
  }
 ],
 "metadata": {
  "kernelspec": {
   "display_name": "Python 2",
   "language": "python",
   "name": "python2"
  },
  "language_info": {
   "codemirror_mode": {
    "name": "ipython",
    "version": 2
   },
   "file_extension": ".py",
   "mimetype": "text/x-python",
   "name": "python",
   "nbconvert_exporter": "python",
   "pygments_lexer": "ipython2",
   "version": "2.7.10"
  }
 },
 "nbformat": 4,
 "nbformat_minor": 0
}
