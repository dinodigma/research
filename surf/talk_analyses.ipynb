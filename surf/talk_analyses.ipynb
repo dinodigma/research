{
 "cells": [
  {
   "cell_type": "code",
   "execution_count": 1,
   "metadata": {
    "collapsed": true
   },
   "outputs": [],
   "source": [
    "import os\n",
    "os.chdir('/home/jagust/dino/surf')\n",
    "from surf import *\n",
    "%matplotlib inline"
   ]
  },
  {
   "cell_type": "code",
   "execution_count": 48,
   "metadata": {
    "collapsed": false
   },
   "outputs": [],
   "source": [
    "matches = np.load('/home/jagust/dino/surf/matches.npy')\n",
    "pos_degs, neg_degs = [], []\n",
    "for match in matches:\n",
    "    pos_mat, neg_mat = np.load(str(match[0])), np.load(str(match[1]))\n",
    "    pos_g, neg_g = nx.Graph(pos_mat), nx.Graph(neg_mat)\n",
    "    add_distance_attr(pos_g)\n",
    "    add_distance_attr(neg_g)\n",
    "    pos_degs.append(sum(pos_g.degree(weight='weight').values()))\n",
    "    neg_degs.append(sum(neg_g.degree(weight='weight').values()))"
   ]
  },
  {
   "cell_type": "code",
   "execution_count": null,
   "metadata": {
    "collapsed": false
   },
   "outputs": [],
   "source": []
  },
  {
   "cell_type": "code",
   "execution_count": 69,
   "metadata": {
    "collapsed": false
   },
   "outputs": [
    {
     "name": "stdout",
     "output_type": "stream",
     "text": [
      "(-1.9445483900857856, 0.057958589184994073)\n"
     ]
    },
    {
     "data": {
      "image/png": "[encoded data removed]",
      "text/plain": [
       "<matplotlib.figure.Figure at 0x7f6541ff5f50>"
      ]
     },
     "metadata": {},
     "output_type": "display_data"
    }
   ],
   "source": [
    "plt.hist(pos_degs, color = 'r')\n",
    "plt.hist(neg_degs, color = 'b', alpha = 0.75)\n",
    "plt.xlabel('Total Degree')\n",
    "plt.ylabel('# of Subjects')\n",
    "print stats.ttest_ind(pos_degs, neg_degs)\n",
    "plt.xlim(100, 400)\n",
    "plt.ylim(0, 7)\n",
    "plt.savefig('/home/jagust/dino/surf/talk/degree_results.png')"
   ]
  },
  {
   "cell_type": "code",
   "execution_count": 50,
   "metadata": {
    "collapsed": false
   },
   "outputs": [
    {
     "name": "stdout",
     "output_type": "stream",
     "text": [
      "(1.8314012761237251, 0.073521282226008386)\n"
     ]
    }
   ],
   "source": [
    "matches = np.load('/home/jagust/dino/surf/matches.npy')\n",
    "pos_sp, neg_sp = [], []\n",
    "for match in matches:\n",
    "    pos_mat, neg_mat = np.load(str(match[0])), np.load(str(match[1]))\n",
    "    pos_g, neg_g = nx.Graph(pos_mat), nx.Graph(neg_mat)\n",
    "    add_distance_attr(pos_g)\n",
    "    add_distance_attr(neg_g)\n",
    "    pos_sp.append(nx.average_shortest_path_length(pos_g, weight='distance'))\n",
    "    neg_sp.append(nx.average_shortest_path_length(neg_g, weight='distance'))\n",
    "    \n",
    "print stats.ttest_ind(pos_sp, neg_sp)"
   ]
  },
  {
   "cell_type": "code",
   "execution_count": 65,
   "metadata": {
    "collapsed": false
   },
   "outputs": [
    {
     "data": {
      "image/png": "[encoded data removed]",
      "text/plain": [
       "<matplotlib.figure.Figure at 0x7f6542174c90>"
      ]
     },
     "metadata": {},
     "output_type": "display_data"
    }
   ],
   "source": [
    "plt.hist(pos_sp, color = 'r', bins = 10)\n",
    "plt.hist(neg_sp, color = 'b', alpha = 0.75, bins = 10)\n",
    "plt.xlabel('Average Shortest Path Length')\n",
    "plt.ylabel('# of Subjects')\n",
    "plt.ylim(0, 7)\n",
    "plt.xlim(0.95, 1.01)\n",
    "plt.savefig('/home/jagust/dino/surf/talk/sp_results.png')"
   ]
  },
  {
   "cell_type": "code",
   "execution_count": 44,
   "metadata": {
    "collapsed": false
   },
   "outputs": [
    {
     "name": "stdout",
     "output_type": "stream",
     "text": [
      "(0.023859232007976603, 0.98106809515828119)\n"
     ]
    }
   ],
   "source": [
    "matches = np.load('/home/jagust/dino/surf/matches.npy')\n",
    "pos_cc, neg_cc = [], []\n",
    "for match in matches:\n",
    "    pos_mat, neg_mat = np.load(str(match[0])), np.load(str(match[1]))\n",
    "#     pos_mat, neg_mat = util.threshold_adjacency_matrix(pos_mat, cost = 0.20)[0], util.threshold_adjacency_matrix(neg_mat, cost = 0.20)[0]\n",
    "    pos_g, neg_g = nx.Graph(pos_mat), nx.Graph(neg_mat)\n",
    "    remove_neg_weights(pos_g)\n",
    "    remove_neg_weights(neg_g)\n",
    "    add_distance_attr(pos_g)\n",
    "    add_distance_attr(neg_g)\n",
    "    pos_cc.append(nx.average_clustering(pos_g, weight='weight'))\n",
    "    neg_cc.append(nx.average_clustering(neg_g, weight='weight'))\n",
    "    \n",
    "print stats.ttest_ind(pos_cc, neg_cc)"
   ]
  },
  {
   "cell_type": "code",
   "execution_count": 47,
   "metadata": {
    "collapsed": false
   },
   "outputs": [
    {
     "name": "stdout",
     "output_type": "stream",
     "text": [
      "(1.1691357961275066, 0.2483717702617867)\n"
     ]
    }
   ],
   "source": [
    "matches = np.load('/home/jagust/dino/surf/matches.npy')\n",
    "pos_mods, neg_mods = [], []\n",
    "for match in matches:\n",
    "    pos_mat, neg_mat = np.load(str(match[0])), np.load(str(match[1]))\n",
    "    pos_mat, neg_mat = util.threshold_adjacency_matrix(pos_mat, cost = 0.20)[0], util.threshold_adjacency_matrix(neg_mat, cost = 0.20)[0]\n",
    "    pos_g, neg_g = nx.Graph(pos_mat), nx.Graph(neg_mat)\n",
    "    \n",
    "    ind = md.newman_partition(pos_g, max_div=np.inf).index\n",
    "    part = md.GraphPartition(pos_g, index=ind)\n",
    "    pos_mods.append(part.modularity())\n",
    "\n",
    "    ind = md.newman_partition(neg_g, max_div=np.inf).index\n",
    "    part = md.GraphPartition(neg_g, index=ind)\n",
    "    neg_mods.append(part.modularity())\n",
    "    \n",
    "print stats.ttest_ind(pos_mods, neg_mods)"
   ]
  },
  {
   "cell_type": "code",
   "execution_count": null,
   "metadata": {
    "collapsed": true
   },
   "outputs": [],
   "source": []
  }
 ],
 "metadata": {
  "kernelspec": {
   "display_name": "Python 2",
   "language": "python",
   "name": "python2"
  },
  "language_info": {
   "codemirror_mode": {
    "name": "ipython",
    "version": 2
   },
   "file_extension": ".py",
   "mimetype": "text/x-python",
   "name": "python",
   "nbconvert_exporter": "python",
   "pygments_lexer": "ipython2",
   "version": "2.7.10"
  }
 },
 "nbformat": 4,
 "nbformat_minor": 0
}
