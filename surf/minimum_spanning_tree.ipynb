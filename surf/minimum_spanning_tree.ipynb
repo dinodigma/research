{
 "cells": [
  {
   "cell_type": "code",
   "execution_count": 1,
   "metadata": {
    "collapsed": true
   },
   "outputs": [],
   "source": [
    "import os\n",
    "os.chdir('/home/jagust/dino/surf/')\n",
    "from surf import *\n",
    "%matplotlib inline"
   ]
  },
  {
   "cell_type": "code",
   "execution_count": 3,
   "metadata": {
    "collapsed": true
   },
   "outputs": [],
   "source": [
    "young_neg_mat = np.load('/home/jagust/dino/surf/mats/young_neg_med_mat.npy')\n",
    "young_pos_mat = np.load('/home/jagust/dino/surf/mats/young_pos_med_mat.npy')\n",
    "young_mat = np.load('/home/jagust/dino/surf/mats/young_med_mat.npy')\n",
    "old_neg_mat = np.load('/home/jagust/dino/surf/mats/ignore_pib_pos/neg_med_mat.npy')\n",
    "old_pos_mat = np.load('/home/jagust/dino/surf/mats/ignore_pib_pos/pos_med_mat.npy')\n",
    "matches = np.load('/home/jagust/dino/surf/matches.npy')"
   ]
  },
  {
   "cell_type": "code",
   "execution_count": 21,
   "metadata": {
    "collapsed": false
   },
   "outputs": [],
   "source": [
    "old_neg_g, old_pos_g = nx.Graph(old_neg_mat), nx.Graph(old_pos_mat)\n",
    "add_distance_attr(old_neg_g)\n",
    "add_distance_attr(old_pos_g)\n",
    "old_neg_mst, old_pos_mst = nx.minimum_spanning_tree(old_neg_g, weight='distance'), nx.minimum_spanning_tree(old_pos_g, weight='distance')\n",
    "old_neg_edges, old_pos_edges = set(old_neg_mst.edges()), set(old_pos_mst.edges())\n",
    "old_diff = neg_edges.difference(pos_edges)"
   ]
  },
  {
   "cell_type": "code",
   "execution_count": 22,
   "metadata": {
    "collapsed": false
   },
   "outputs": [],
   "source": [
    "young_neg_g, young_pos_g = nx.Graph(young_neg_mat), nx.Graph(young_pos_mat)\n",
    "add_distance_attr(young_neg_g)\n",
    "add_distance_attr(young_pos_g)\n",
    "young_neg_mst, young_pos_mst = nx.minimum_spanning_tree(young_neg_g, weight='distance'), nx.minimum_spanning_tree(young_pos_g, weight='distance')\n",
    "young_neg_edges, young_pos_edges = set(young_neg_mst.edges()), set(young_pos_mst.edges())\n",
    "young_diff = neg_edges.difference(pos_edges)"
   ]
  },
  {
   "cell_type": "code",
   "execution_count": 35,
   "metadata": {
    "collapsed": true
   },
   "outputs": [],
   "source": [
    "pos_pib_dat = np.load('/home/jagust/dino/surf/mats/ignore_pib_pos/pos_pib_dat.npy')\n",
    "neg_pib_dat = np.load('/home/jagust/dino/surf/mats/ignore_pib_pos/neg_pib_dat.npy')\n",
    "pib_dat = np.vstack((pos_pib_dat, neg_pib_dat))\n",
    "\n",
    "pib_vals = pd.DataFrame(pib_dat, dtype = float)\n",
    "corr_mat = np.array(pib_vals.corr())\n",
    "np.fill_diagonal(corr_mat, 0.0)\n",
    "pib_g = nx.Graph(corr_mat)"
   ]
  },
  {
   "cell_type": "code",
   "execution_count": null,
   "metadata": {
    "collapsed": false
   },
   "outputs": [],
   "source": []
  },
  {
   "cell_type": "code",
   "execution_count": 39,
   "metadata": {
    "collapsed": false
   },
   "outputs": [],
   "source": [
    "add_distance_attr(pib_g)\n",
    "pib_mst = nx.minimum_spanning_tree(pib_g, weight='distance')\n",
    "pib_edges = set(pib_mst.edges())"
   ]
  },
  {
   "cell_type": "code",
   "execution_count": 23,
   "metadata": {
    "collapsed": false
   },
   "outputs": [
    {
     "data": {
      "text/plain": [
       "(58, 58)"
      ]
     },
     "execution_count": 23,
     "metadata": {},
     "output_type": "execute_result"
    }
   ],
   "source": [
    "len(young_diff), len(old_diff)"
   ]
  },
  {
   "cell_type": "code",
   "execution_count": 24,
   "metadata": {
    "collapsed": false
   },
   "outputs": [
    {
     "data": {
      "text/plain": [
       "set()"
      ]
     },
     "execution_count": 24,
     "metadata": {},
     "output_type": "execute_result"
    }
   ],
   "source": [
    "diff_diff = young_diff.difference(old_diff)\n",
    "diff_diff"
   ]
  },
  {
   "cell_type": "code",
   "execution_count": 25,
   "metadata": {
    "collapsed": true
   },
   "outputs": [],
   "source": [
    "neg_diff = old_neg_edges.difference(young_neg_edges)\n",
    "pos_diff = old_pos_edges.difference(young_pos_edges)"
   ]
  },
  {
   "cell_type": "code",
   "execution_count": 27,
   "metadata": {
    "collapsed": false
   },
   "outputs": [
    {
     "data": {
      "text/plain": [
       "(57, 50)"
      ]
     },
     "execution_count": 27,
     "metadata": {},
     "output_type": "execute_result"
    }
   ],
   "source": [
    "len(neg_diff), len(pos_diff)"
   ]
  },
  {
   "cell_type": "code",
   "execution_count": 30,
   "metadata": {
    "collapsed": false
   },
   "outputs": [
    {
     "data": {
      "text/plain": [
       "51"
      ]
     },
     "execution_count": 30,
     "metadata": {},
     "output_type": "execute_result"
    }
   ],
   "source": [
    "diff_diff_diff = neg_diff.difference(pos_diff)\n",
    "len(diff_diff_diff)"
   ]
  },
  {
   "cell_type": "code",
   "execution_count": 41,
   "metadata": {
    "collapsed": false
   },
   "outputs": [
    {
     "data": {
      "text/plain": [
       "70"
      ]
     },
     "execution_count": 41,
     "metadata": {},
     "output_type": "execute_result"
    }
   ],
   "source": [
    "len(pib_edges.difference(old_neg_edges))"
   ]
  },
  {
   "cell_type": "code",
   "execution_count": 42,
   "metadata": {
    "collapsed": false
   },
   "outputs": [
    {
     "data": {
      "text/plain": [
       "71"
      ]
     },
     "execution_count": 42,
     "metadata": {},
     "output_type": "execute_result"
    }
   ],
   "source": [
    "len(pib_edges.difference(old_pos_edges))"
   ]
  },
  {
   "cell_type": "code",
   "execution_count": null,
   "metadata": {
    "collapsed": true
   },
   "outputs": [],
   "source": []
  },
  {
   "cell_type": "code",
   "execution_count": 2,
   "metadata": {
    "collapsed": true
   },
   "outputs": [],
   "source": [
    "def median(l):\n",
    "    return np.median(np.array(l))\n",
    "\n",
    "def make_median_mat(paths):\n",
    "    group_mat = np.zeros((80, 80))\n",
    "    mats = [np.load(path) for path in paths]\n",
    "    for r in range(80):\n",
    "        for c in range(80)[r:80]:\n",
    "            vals = []\n",
    "            for mat in mats:\n",
    "                vals.append(mat[r][c])\n",
    "            vals = sorted(vals)\n",
    "            group_mat[r][c] = median(vals)\n",
    "            group_mat[c][r] = median(vals)\n",
    "    return group_mat\n",
    "def load_graph(path):\n",
    "    if type(path) == str or type(path) == unicode:\n",
    "        g = nx.Graph(np.load(path))\n",
    "        add_distance_attr(g)\n",
    "    else:\n",
    "        g = nx.Graph(path)\n",
    "        add_distance_attr(g)\n",
    "    return g"
   ]
  },
  {
   "cell_type": "code",
   "execution_count": null,
   "metadata": {
    "collapsed": true
   },
   "outputs": [],
   "source": []
  },
  {
   "cell_type": "code",
   "execution_count": null,
   "metadata": {
    "collapsed": true
   },
   "outputs": [],
   "source": []
  },
  {
   "cell_type": "code",
   "execution_count": null,
   "metadata": {
    "collapsed": true
   },
   "outputs": [],
   "source": []
  }
 ],
 "metadata": {
  "kernelspec": {
   "display_name": "Python 2",
   "language": "python",
   "name": "python2"
  },
  "language_info": {
   "codemirror_mode": {
    "name": "ipython",
    "version": 2
   },
   "file_extension": ".py",
   "mimetype": "text/x-python",
   "name": "python",
   "nbconvert_exporter": "python",
   "pygments_lexer": "ipython2",
   "version": "2.7.10"
  }
 },
 "nbformat": 4,
 "nbformat_minor": 0
}
