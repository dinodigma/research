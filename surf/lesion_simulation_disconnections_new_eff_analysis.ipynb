{
 "cells": [
  {
   "cell_type": "code",
   "execution_count": 97,
   "metadata": {
    "collapsed": true
   },
   "outputs": [],
   "source": [
    "% matplotlib inline\n",
    "import os\n",
    "os.chdir('/home/jagust/dino/surf')\n",
    "from surf import *"
   ]
  },
  {
   "cell_type": "code",
   "execution_count": 98,
   "metadata": {
    "collapsed": false
   },
   "outputs": [],
   "source": [
    "res_dir = '/home/jagust/dino/surf/simulation_trials/new_efficiency/individuals/'\n",
    "weight_globstr = res_dir + '*_weighted.npy'\n",
    "bin_globstr = res_dir + '*_binary.npy'\n",
    "abs_globstr = res_dir + '*_absolute.npy'\n",
    "\n",
    "weight_res = sorted(glob(weight_globstr))\n",
    "bin_res = sorted(glob(bin_globstr))\n",
    "abs_res = sorted(glob(abs_globstr))\n",
    "all_res = sorted(glob(res_dir + '*.npy'))"
   ]
  },
  {
   "cell_type": "code",
   "execution_count": 99,
   "metadata": {
    "collapsed": true
   },
   "outputs": [],
   "source": [
    "def create_points_eff(checkpoint, func_net_type):\n",
    "    x_vals_pos, y_vals_pos, x_vals_neg, y_vals_neg = [], [], [], []\n",
    "    for p in func_net_type:\n",
    "        results = np.load(p)\n",
    "        subid = find_id(p)\n",
    "        res = results[1][checkpoint]\n",
    "        if res != res:\n",
    "            continue\n",
    "        if is_geno_pos(subid):\n",
    "            x_vals_pos.append(checkpoint)\n",
    "            y_vals_pos.append(results[1][checkpoint])\n",
    "        elif is_geno_neg(subid):\n",
    "            x_vals_neg.append(checkpoint)\n",
    "            y_vals_neg.append(results[1][checkpoint])\n",
    "    return x_vals_pos, y_vals_pos, x_vals_neg, y_vals_neg\n",
    "\n",
    "def create_points_deg(checkpoint, func_net_type):\n",
    "    x_vals_pos, y_vals_pos, x_vals_neg, y_vals_neg = [], [], [], []\n",
    "    for p in func_net_type:\n",
    "        results = np.load(p)\n",
    "        subid = find_id(p)\n",
    "        res = results[1][checkpoint]\n",
    "        if res != res:\n",
    "            continue\n",
    "        if is_geno_pos(subid):\n",
    "            x_vals_pos.append(checkpoint)\n",
    "            y_vals_pos.append(results[2][checkpoint])\n",
    "        elif is_geno_neg(subid):\n",
    "            x_vals_neg.append(checkpoint)\n",
    "            y_vals_neg.append(results[2][checkpoint])\n",
    "    return x_vals_pos, y_vals_pos, x_vals_neg, y_vals_neg\n",
    "\n",
    "def create_points_disc(checkpoint, func_net_type):\n",
    "    x_vals_pos, y_vals_pos, x_vals_neg, y_vals_neg = [], [], [], []\n",
    "    for p in func_net_type:\n",
    "        results = np.load(p)\n",
    "        subid = find_id(p)\n",
    "        res = results[1][checkpoint]\n",
    "        if res != res:\n",
    "            continue\n",
    "        if is_geno_pos(subid):\n",
    "            x_vals_pos.append(checkpoint)\n",
    "            y_vals_pos.append(results[4][checkpoint])\n",
    "        elif is_geno_neg(subid):\n",
    "            x_vals_neg.append(checkpoint)\n",
    "            y_vals_neg.append(results[4][checkpoint])\n",
    "    return x_vals_pos, y_vals_pos, x_vals_neg, y_vals_neg"
   ]
  },
  {
   "cell_type": "markdown",
   "metadata": {
    "collapsed": false
   },
   "source": [
    "Binary Functional Network Results\n",
    "=="
   ]
  },
  {
   "cell_type": "code",
   "execution_count": null,
   "metadata": {
    "collapsed": false
   },
   "outputs": [],
   "source": []
  },
  {
   "cell_type": "code",
   "execution_count": 100,
   "metadata": {
    "collapsed": false
   },
   "outputs": [
    {
     "name": "stdout",
     "output_type": "stream",
     "text": [
      "E4 Negative Efficiency Results\n",
      "# Nodes Removed : Mean , Std\n",
      "0 - Mean: 0.170151611004 Std: 0.0056236498537\n",
      "10 - Mean: 0.128899060336 Std: 0.00428688196245\n",
      "20 - Mean: 0.0930580208203 Std: 0.00371371990144\n",
      "30 - Mean: 0.0634183370554 Std: 0.00267085339235\n",
      "40 - Mean: 0.039542638624 Std: 0.00215360552088\n",
      "50 - Mean: 0.0212184371507 Std: 0.00210483697915\n",
      "60 - Mean: 0.00813535628895 Std: 0.00160699841168\n",
      "70 - Mean: 0.0013064420103 Std: 0.000574930785224\n",
      "\n",
      "\n",
      "E4 Positive Efficiency Results\n",
      "# Nodes Removed : Mean , Std\n",
      "0 - Mean: 0.170462781137 Std: 0.00540376966872\n",
      "10 - Mean: 0.128838775555 Std: 0.00431659956655\n",
      "20 - Mean: 0.0931292617917 Std: 0.0034842806793\n",
      "30 - Mean: 0.0634753511988 Std: 0.00270028394615\n",
      "40 - Mean: 0.0397135809097 Std: 0.00223466408902\n",
      "50 - Mean: 0.021497729399 Std: 0.00179375659426\n",
      "60 - Mean: 0.00792944300411 Std: 0.00138143387903\n",
      "70 - Mean: 0.00126363302441 Std: 0.00056174493189\n",
      "Plot Efficiencies\n"
     ]
    },
    {
     "data": {
      "text/plain": [
       "<matplotlib.text.Text at 0x7fa467943c10>"
      ]
     },
     "execution_count": 100,
     "metadata": {},
     "output_type": "execute_result"
    },
    {
     "data": {
      "image/png": "[encoded data removed]",
      "text/plain": [
       "<matplotlib.figure.Figure at 0x7fa467982410>"
      ]
     },
     "metadata": {},
     "output_type": "display_data"
    }
   ],
   "source": [
    "xpos0, ypos0, xneg0, yneg0 = create_points_eff(0, bin_res)\n",
    "xpos10, ypos10, xneg10, yneg10 = create_points_eff(10, bin_res)\n",
    "xpos20, ypos20, xneg20, yneg20 = create_points_eff(20, bin_res)\n",
    "xpos30, ypos30, xneg30, yneg30 = create_points_eff(30, bin_res)\n",
    "xpos40, ypos40, xneg40, yneg40 = create_points_eff(40, bin_res)\n",
    "xpos50, ypos50, xneg50, yneg50 = create_points_eff(50, bin_res)\n",
    "xpos60, ypos60, xneg60, yneg60 = create_points_eff(60, bin_res)\n",
    "xpos70, ypos70, xneg70, yneg70 = create_points_eff(70, bin_res)\n",
    "\n",
    "print \"E4 Negative Efficiency Results\"\n",
    "print \"# Nodes Removed : Mean , Std\"\n",
    "print \"0 - Mean: \" + str(np.mean(yneg0)) + \" Std: \" + str(np.std(yneg0))\n",
    "print \"10 - Mean: \" + str(np.mean(yneg10)) + \" Std: \" + str(np.std(yneg10))\n",
    "print \"20 - Mean: \" + str(np.mean(yneg20)) + \" Std: \" + str(np.std(yneg20))\n",
    "print \"30 - Mean: \" + str(np.mean(yneg30)) + \" Std: \" + str(np.std(yneg30))\n",
    "print \"40 - Mean: \" + str(np.mean(yneg40)) + \" Std: \" + str(np.std(yneg40))\n",
    "print \"50 - Mean: \" + str(np.mean(yneg50)) + \" Std: \" + str(np.std(yneg50))\n",
    "print \"60 - Mean: \" + str(np.mean(yneg60)) + \" Std: \" + str(np.std(yneg60))\n",
    "print \"70 - Mean: \" + str(np.mean(yneg70)) + \" Std: \" + str(np.std(yneg70))\n",
    "print \"\"\n",
    "print \"\"\n",
    "print \"E4 Positive Efficiency Results\"\n",
    "print \"# Nodes Removed : Mean , Std\"\n",
    "print \"0 - Mean: \" + str(np.mean(ypos0)) + \" Std: \" + str(np.std(ypos0))\n",
    "print \"10 - Mean: \" + str(np.mean(ypos10)) + \" Std: \" + str(np.std(ypos10))\n",
    "print \"20 - Mean: \" + str(np.mean(ypos20)) + \" Std: \" + str(np.std(ypos20))\n",
    "print \"30 - Mean: \" + str(np.mean(ypos30)) + \" Std: \" + str(np.std(ypos30))\n",
    "print \"40 - Mean: \" + str(np.mean(ypos40)) + \" Std: \" + str(np.std(ypos40))\n",
    "print \"50 - Mean: \" + str(np.mean(ypos50)) + \" Std: \" + str(np.std(ypos50))\n",
    "print \"60 - Mean: \" + str(np.mean(ypos60)) + \" Std: \" + str(np.std(ypos60))\n",
    "print \"70 - Mean: \" + str(np.mean(ypos70)) + \" Std: \" + str(np.std(ypos70))\n",
    "\n",
    "print \"Plot Efficiencies\"\n",
    "plt.figure()\n",
    "\n",
    "plt.scatter(0, np.mean(ypos0), c = 'b')\n",
    "plt.errorbar(0, np.mean(ypos0), yerr = np.std(ypos0), c = 'b')\n",
    "plt.scatter(0, np.mean(yneg0), c = 'r')\n",
    "plt.errorbar(0, np.mean(yneg0), yerr = np.std(yneg0), c = 'r')\n",
    "\n",
    "plt.scatter(10, np.mean(ypos10), c = 'b')\n",
    "plt.errorbar(10, np.mean(ypos10), yerr = np.std(ypos10), c = 'b')\n",
    "plt.scatter(10, np.mean(yneg10), c = 'r')\n",
    "plt.errorbar(10, np.mean(yneg10), yerr = np.std(yneg10), c = 'r')\n",
    "\n",
    "plt.scatter(20, np.mean(ypos20), c = 'b')\n",
    "plt.errorbar(20, np.mean(ypos20), yerr = np.std(ypos20), c = 'b')\n",
    "plt.scatter(20, np.mean(yneg20), c = 'r')\n",
    "plt.errorbar(20, np.mean(yneg20), yerr = np.std(yneg20), c = 'r')\n",
    "\n",
    "plt.scatter(30, np.mean(ypos30), c = 'b')\n",
    "plt.errorbar(30, np.mean(ypos30), yerr = np.std(ypos30), c = 'b')\n",
    "plt.scatter(30, np.mean(yneg30), c = 'r')\n",
    "plt.errorbar(30, np.mean(yneg30), yerr = np.std(yneg30), c = 'r')\n",
    "\n",
    "plt.scatter(40, np.mean(ypos40), c = 'b')\n",
    "plt.errorbar(40, np.mean(ypos40), yerr = np.std(ypos40), c = 'b')\n",
    "plt.scatter(40, np.mean(yneg40), c = 'r')\n",
    "plt.errorbar(40, np.mean(yneg40), yerr = np.std(yneg40), c = 'r')\n",
    "\n",
    "plt.scatter(50, np.mean(ypos50), c = 'b')\n",
    "plt.errorbar(50, np.mean(ypos50), yerr = np.std(ypos50), c = 'b')\n",
    "plt.scatter(50, np.mean(yneg50), c = 'r')\n",
    "plt.errorbar(50, np.mean(yneg50), yerr = np.std(yneg50), c = 'r')\n",
    "\n",
    "plt.scatter(60, np.mean(ypos60), c = 'b')\n",
    "plt.errorbar(60, np.mean(ypos60), yerr = np.std(ypos60), c = 'b')\n",
    "plt.scatter(60, np.mean(yneg60), c = 'r')\n",
    "plt.errorbar(60, np.mean(yneg60), yerr = np.std(yneg60), c = 'r')\n",
    "\n",
    "plt.xlabel(\"# Nodes Removed\")\n",
    "plt.ylabel(\"Efficiency\")"
   ]
  },
  {
   "cell_type": "code",
   "execution_count": 101,
   "metadata": {
    "collapsed": false,
    "scrolled": true
   },
   "outputs": [
    {
     "name": "stdout",
     "output_type": "stream",
     "text": [
      "E4 Negative Total Degree Results\n",
      "# Nodes Removed : Mean , Std\n",
      "0 - Mean: 1264.0 Std: 0.0\n",
      "10 - Mean: 957.879781421 Std: 29.4103579382\n",
      "20 - Mean: 686.360655738 Std: 32.7951246478\n",
      "30 - Mean: 469.158469945 Std: 33.5696327425\n",
      "40 - Mean: 300.273224044 Std: 30.7706427045\n",
      "50 - Mean: 175.420765027 Std: 25.5311447106\n",
      "60 - Mean: 75.0273224044 Std: 15.2499867218\n",
      "70 - Mean: 18.218579235 Std: 6.08467430266\n",
      "\n",
      "\n",
      "E4 Positive Total Degree Results\n",
      "# Nodes Removed : Mean , Std\n",
      "0 - Mean: 1264.0 Std: 0.0\n",
      "10 - Mean: 953.875 Std: 30.693121515\n",
      "20 - Mean: 689.708333333 Std: 39.0469580192\n",
      "30 - Mean: 478.5 Std: 42.1139327697\n",
      "40 - Mean: 317.958333333 Std: 38.0886894483\n",
      "50 - Mean: 184.0 Std: 29.7012906566\n",
      "60 - Mean: 72.875 Std: 16.9553641954\n",
      "70 - Mean: 19.125 Std: 6.46666129725\n",
      "Plot Total Degree\n"
     ]
    },
    {
     "data": {
      "text/plain": [
       "<matplotlib.text.Text at 0x7fa46777f250>"
      ]
     },
     "execution_count": 101,
     "metadata": {},
     "output_type": "execute_result"
    },
    {
     "data": {
      "image/png": "[encoded data removed]",
      "text/plain": [
       "<matplotlib.figure.Figure at 0x7fa4677ee150>"
      ]
     },
     "metadata": {},
     "output_type": "display_data"
    }
   ],
   "source": [
    "xpos0, ypos0, xneg0, yneg0 = create_points_deg(0, bin_res)\n",
    "xpos10, ypos10, xneg10, yneg10 = create_points_deg(10, bin_res)\n",
    "xpos20, ypos20, xneg20, yneg20 = create_points_deg(20, bin_res)\n",
    "xpos30, ypos30, xneg30, yneg30 = create_points_deg(30, bin_res)\n",
    "xpos40, ypos40, xneg40, yneg40 = create_points_deg(40, bin_res)\n",
    "xpos50, ypos50, xneg50, yneg50 = create_points_deg(50, bin_res)\n",
    "xpos60, ypos60, xneg60, yneg60 = create_points_deg(60, bin_res)\n",
    "xpos70, ypos70, xneg70, yneg70 = create_points_deg(70, bin_res)\n",
    "\n",
    "print \"E4 Negative Total Degree Results\"\n",
    "print \"# Nodes Removed : Mean , Std\"\n",
    "print \"0 - Mean: \" + str(np.mean(yneg0)) + \" Std: \" + str(np.std(yneg0))\n",
    "print \"10 - Mean: \" + str(np.mean(yneg10)) + \" Std: \" + str(np.std(yneg10))\n",
    "print \"20 - Mean: \" + str(np.mean(yneg20)) + \" Std: \" + str(np.std(yneg20))\n",
    "print \"30 - Mean: \" + str(np.mean(yneg30)) + \" Std: \" + str(np.std(yneg30))\n",
    "print \"40 - Mean: \" + str(np.mean(yneg40)) + \" Std: \" + str(np.std(yneg40))\n",
    "print \"50 - Mean: \" + str(np.mean(yneg50)) + \" Std: \" + str(np.std(yneg50))\n",
    "print \"60 - Mean: \" + str(np.mean(yneg60)) + \" Std: \" + str(np.std(yneg60))\n",
    "print \"70 - Mean: \" + str(np.mean(yneg70)) + \" Std: \" + str(np.std(yneg70))\n",
    "print \"\"\n",
    "print \"\"\n",
    "print \"E4 Positive Total Degree Results\"\n",
    "print \"# Nodes Removed : Mean , Std\"\n",
    "print \"0 - Mean: \" + str(np.mean(ypos0)) + \" Std: \" + str(np.std(ypos0))\n",
    "print \"10 - Mean: \" + str(np.mean(ypos10)) + \" Std: \" + str(np.std(ypos10))\n",
    "print \"20 - Mean: \" + str(np.mean(ypos20)) + \" Std: \" + str(np.std(ypos20))\n",
    "print \"30 - Mean: \" + str(np.mean(ypos30)) + \" Std: \" + str(np.std(ypos30))\n",
    "print \"40 - Mean: \" + str(np.mean(ypos40)) + \" Std: \" + str(np.std(ypos40))\n",
    "print \"50 - Mean: \" + str(np.mean(ypos50)) + \" Std: \" + str(np.std(ypos50))\n",
    "print \"60 - Mean: \" + str(np.mean(ypos60)) + \" Std: \" + str(np.std(ypos60))\n",
    "print \"70 - Mean: \" + str(np.mean(ypos70)) + \" Std: \" + str(np.std(ypos70))\n",
    "\n",
    "print \"Plot Total Degree\"\n",
    "plt.figure()\n",
    "\n",
    "plt.scatter(0, np.mean(ypos0), c = 'b')\n",
    "plt.errorbar(0, np.mean(ypos0), yerr = np.std(ypos0), c = 'b')\n",
    "plt.scatter(0, np.mean(yneg0), c = 'r')\n",
    "plt.errorbar(0, np.mean(yneg0), yerr = np.std(yneg0), c = 'r')\n",
    "\n",
    "plt.scatter(10, np.mean(ypos10), c = 'b')\n",
    "plt.errorbar(10, np.mean(ypos10), yerr = np.std(ypos10), c = 'b')\n",
    "plt.scatter(10, np.mean(yneg10), c = 'r')\n",
    "plt.errorbar(10, np.mean(yneg10), yerr = np.std(yneg10), c = 'r')\n",
    "\n",
    "plt.scatter(20, np.mean(ypos20), c = 'b')\n",
    "plt.errorbar(20, np.mean(ypos20), yerr = np.std(ypos20), c = 'b')\n",
    "plt.scatter(20, np.mean(yneg20), c = 'r')\n",
    "plt.errorbar(20, np.mean(yneg20), yerr = np.std(yneg20), c = 'r')\n",
    "\n",
    "plt.scatter(30, np.mean(ypos30), c = 'b')\n",
    "plt.errorbar(30, np.mean(ypos30), yerr = np.std(ypos30), c = 'b')\n",
    "plt.scatter(30, np.mean(yneg30), c = 'r')\n",
    "plt.errorbar(30, np.mean(yneg30), yerr = np.std(yneg30), c = 'r')\n",
    "\n",
    "plt.scatter(40, np.mean(ypos40), c = 'b')\n",
    "plt.errorbar(40, np.mean(ypos40), yerr = np.std(ypos40), c = 'b')\n",
    "plt.scatter(40, np.mean(yneg40), c = 'r')\n",
    "plt.errorbar(40, np.mean(yneg40), yerr = np.std(yneg40), c = 'r')\n",
    "\n",
    "plt.scatter(50, np.mean(ypos50), c = 'b')\n",
    "plt.errorbar(50, np.mean(ypos50), yerr = np.std(ypos50), c = 'b')\n",
    "plt.scatter(50, np.mean(yneg50), c = 'r')\n",
    "plt.errorbar(50, np.mean(yneg50), yerr = np.std(yneg50), c = 'r')\n",
    "\n",
    "plt.scatter(60, np.mean(ypos60), c = 'b')\n",
    "plt.errorbar(60, np.mean(ypos60), yerr = np.std(ypos60), c = 'b')\n",
    "plt.scatter(60, np.mean(yneg60), c = 'r')\n",
    "plt.errorbar(60, np.mean(yneg60), yerr = np.std(yneg60), c = 'r')\n",
    "\n",
    "plt.xlabel(\"# Nodes Removed\")\n",
    "plt.ylabel(\"Degree\")"
   ]
  },
  {
   "cell_type": "code",
   "execution_count": 102,
   "metadata": {
    "collapsed": false,
    "scrolled": true
   },
   "outputs": [
    {
     "name": "stdout",
     "output_type": "stream",
     "text": [
      "E4 Negative Disconnected Components Results\n",
      "# Nodes Removed : Mean , Std\n",
      "0 - Mean: 0.0819672131148 Std: 0.328687502553\n",
      "10 - Mean: 10.0765027322 Std: 0.32161615234\n",
      "20 - Mean: 20.0983606557 Std: 0.348529370909\n",
      "30 - Mean: 30.1256830601 Std: 0.405624995845\n",
      "40 - Mean: 40.2076502732 Std: 0.501959491636\n",
      "50 - Mean: 50.3442622951 Std: 0.658328216387\n",
      "60 - Mean: 60.7049180328 Std: 0.893405022521\n",
      "70 - Mean: 71.5519125683 Std: 1.2264320961\n",
      "\n",
      "\n",
      "E4 Positive Disconnected Components Results\n",
      "# Nodes Removed : Mean , Std\n",
      "0 - Mean: 0.0416666666667 Std: 0.199826313471\n",
      "10 - Mean: 10.0625 Std: 0.242061459138\n",
      "20 - Mean: 20.1041666667 Std: 0.305476631221\n",
      "30 - Mean: 30.1666666667 Std: 0.37267799625\n",
      "40 - Mean: 40.2708333333 Std: 0.489028941429\n",
      "50 - Mean: 50.375 Std: 0.633278506399\n",
      "60 - Mean: 60.8333333333 Std: 1.0069204978\n",
      "70 - Mean: 71.4166666667 Std: 1.15168958009\n",
      "Plot Disconnected Components\n"
     ]
    },
    {
     "data": {
      "text/plain": [
       "<matplotlib.text.Text at 0x7fa467500d10>"
      ]
     },
     "execution_count": 102,
     "metadata": {},
     "output_type": "execute_result"
    },
    {
     "data": {
      "image/png": "[encoded data removed]",
      "text/plain": [
       "<matplotlib.figure.Figure at 0x7fa4675407d0>"
      ]
     },
     "metadata": {},
     "output_type": "display_data"
    }
   ],
   "source": [
    "xpos0, ypos0, xneg0, yneg0 = create_points_disc(0, bin_res)\n",
    "xpos10, ypos10, xneg10, yneg10 = create_points_disc(10, bin_res)\n",
    "xpos20, ypos20, xneg20, yneg20 = create_points_disc(20, bin_res)\n",
    "xpos30, ypos30, xneg30, yneg30 = create_points_disc(30, bin_res)\n",
    "xpos40, ypos40, xneg40, yneg40 = create_points_disc(40, bin_res)\n",
    "xpos50, ypos50, xneg50, yneg50 = create_points_disc(50, bin_res)\n",
    "xpos60, ypos60, xneg60, yneg60 = create_points_disc(60, bin_res)\n",
    "xpos70, ypos70, xneg70, yneg70 = create_points_disc(70, bin_res)\n",
    "\n",
    "print \"E4 Negative Disconnected Components Results\"\n",
    "print \"# Nodes Removed : Mean , Std\"\n",
    "print \"0 - Mean: \" + str(np.mean(yneg0)) + \" Std: \" + str(np.std(yneg0))\n",
    "print \"10 - Mean: \" + str(np.mean(yneg10)) + \" Std: \" + str(np.std(yneg10))\n",
    "print \"20 - Mean: \" + str(np.mean(yneg20)) + \" Std: \" + str(np.std(yneg20))\n",
    "print \"30 - Mean: \" + str(np.mean(yneg30)) + \" Std: \" + str(np.std(yneg30))\n",
    "print \"40 - Mean: \" + str(np.mean(yneg40)) + \" Std: \" + str(np.std(yneg40))\n",
    "print \"50 - Mean: \" + str(np.mean(yneg50)) + \" Std: \" + str(np.std(yneg50))\n",
    "print \"60 - Mean: \" + str(np.mean(yneg60)) + \" Std: \" + str(np.std(yneg60))\n",
    "print \"70 - Mean: \" + str(np.mean(yneg70)) + \" Std: \" + str(np.std(yneg70))\n",
    "print \"\"\n",
    "print \"\"\n",
    "print \"E4 Positive Disconnected Components Results\"\n",
    "print \"# Nodes Removed : Mean , Std\"\n",
    "print \"0 - Mean: \" + str(np.mean(ypos0)) + \" Std: \" + str(np.std(ypos0))\n",
    "print \"10 - Mean: \" + str(np.mean(ypos10)) + \" Std: \" + str(np.std(ypos10))\n",
    "print \"20 - Mean: \" + str(np.mean(ypos20)) + \" Std: \" + str(np.std(ypos20))\n",
    "print \"30 - Mean: \" + str(np.mean(ypos30)) + \" Std: \" + str(np.std(ypos30))\n",
    "print \"40 - Mean: \" + str(np.mean(ypos40)) + \" Std: \" + str(np.std(ypos40))\n",
    "print \"50 - Mean: \" + str(np.mean(ypos50)) + \" Std: \" + str(np.std(ypos50))\n",
    "print \"60 - Mean: \" + str(np.mean(ypos60)) + \" Std: \" + str(np.std(ypos60))\n",
    "print \"70 - Mean: \" + str(np.mean(ypos70)) + \" Std: \" + str(np.std(ypos70))\n",
    "\n",
    "print \"Plot Disconnected Components\"\n",
    "plt.figure()\n",
    "\n",
    "plt.scatter(0, np.mean(ypos0), c = 'b')\n",
    "plt.errorbar(0, np.mean(ypos0), yerr = np.std(ypos0), c = 'b')\n",
    "plt.scatter(0, np.mean(yneg0), c = 'r')\n",
    "plt.errorbar(0, np.mean(yneg0), yerr = np.std(yneg0), c = 'r')\n",
    "\n",
    "plt.scatter(10, np.mean(ypos10), c = 'b')\n",
    "plt.errorbar(10, np.mean(ypos10), yerr = np.std(ypos10), c = 'b')\n",
    "plt.scatter(10, np.mean(yneg10), c = 'r')\n",
    "plt.errorbar(10, np.mean(yneg10), yerr = np.std(yneg10), c = 'r')\n",
    "\n",
    "plt.scatter(20, np.mean(ypos20), c = 'b')\n",
    "plt.errorbar(20, np.mean(ypos20), yerr = np.std(ypos20), c = 'b')\n",
    "plt.scatter(20, np.mean(yneg20), c = 'r')\n",
    "plt.errorbar(20, np.mean(yneg20), yerr = np.std(yneg20), c = 'r')\n",
    "\n",
    "plt.scatter(30, np.mean(ypos30), c = 'b')\n",
    "plt.errorbar(30, np.mean(ypos30), yerr = np.std(ypos30), c = 'b')\n",
    "plt.scatter(30, np.mean(yneg30), c = 'r')\n",
    "plt.errorbar(30, np.mean(yneg30), yerr = np.std(yneg30), c = 'r')\n",
    "\n",
    "plt.scatter(40, np.mean(ypos40), c = 'b')\n",
    "plt.errorbar(40, np.mean(ypos40), yerr = np.std(ypos40), c = 'b')\n",
    "plt.scatter(40, np.mean(yneg40), c = 'r')\n",
    "plt.errorbar(40, np.mean(yneg40), yerr = np.std(yneg40), c = 'r')\n",
    "\n",
    "plt.scatter(50, np.mean(ypos50), c = 'b')\n",
    "plt.errorbar(50, np.mean(ypos50), yerr = np.std(ypos50), c = 'b')\n",
    "plt.scatter(50, np.mean(yneg50), c = 'r')\n",
    "plt.errorbar(50, np.mean(yneg50), yerr = np.std(yneg50), c = 'r')\n",
    "\n",
    "plt.scatter(60, np.mean(ypos60), c = 'b')\n",
    "plt.errorbar(60, np.mean(ypos60), yerr = np.std(ypos60), c = 'b')\n",
    "plt.scatter(60, np.mean(yneg60), c = 'r')\n",
    "plt.errorbar(60, np.mean(yneg60), yerr = np.std(yneg60), c = 'r')\n",
    "\n",
    "plt.xlabel(\"# Nodes Removed\")\n",
    "plt.ylabel(\"Disconnected Component\")"
   ]
  },
  {
   "cell_type": "markdown",
   "metadata": {},
   "source": [
    "Weighted Functional Network Results\n",
    "=="
   ]
  },
  {
   "cell_type": "code",
   "execution_count": 103,
   "metadata": {
    "collapsed": false,
    "scrolled": false
   },
   "outputs": [
    {
     "name": "stdout",
     "output_type": "stream",
     "text": [
      "E4 Negative Efficiency Results\n",
      "# Nodes Removed : Mean , Std\n",
      "0 - Mean: 0.25 Std: 0.0\n",
      "10 - Mean: 0.417736890111 Std: 0.0185373604454\n",
      "20 - Mean: 0.305262130352 Std: 0.0143573898094\n",
      "30 - Mean: 0.211029012801 Std: 0.00850425690361\n",
      "40 - Mean: 0.134322776184 Std: 0.00554832383797\n",
      "50 - Mean: 0.0760697325096 Std: 0.00362947944833\n",
      "60 - Mean: 0.0333039061806 Std: 0.0017777674721\n",
      "70 - Mean: 0.00782510327823 Std: 0.000482469991307\n",
      "\n",
      "\n",
      "E4 Positive Efficiency Results\n",
      "# Nodes Removed : Mean , Std\n",
      "0 - Mean: 0.25 Std: 0.0\n",
      "10 - Mean: 0.414539376545 Std: 0.0162123758588\n",
      "20 - Mean: 0.303139939192 Std: 0.0125492668848\n",
      "30 - Mean: 0.210280896657 Std: 0.00937854746309\n",
      "40 - Mean: 0.135535882224 Std: 0.00724840749368\n",
      "50 - Mean: 0.0764963316303 Std: 0.00480346579986\n",
      "60 - Mean: 0.0329962466612 Std: 0.00215877522742\n",
      "70 - Mean: 0.00786518397104 Std: 0.000514865307716\n",
      "Plot Efficiencies\n"
     ]
    },
    {
     "data": {
      "text/plain": [
       "<matplotlib.text.Text at 0x7fa46755d590>"
      ]
     },
     "execution_count": 103,
     "metadata": {},
     "output_type": "execute_result"
    },
    {
     "data": {
      "image/png": "[encoded data removed]",
      "text/plain": [
       "<matplotlib.figure.Figure at 0x7fa467376450>"
      ]
     },
     "metadata": {},
     "output_type": "display_data"
    }
   ],
   "source": [
    "xpos0, ypos0, xneg0, yneg0 = create_points_eff(0, weight_res)\n",
    "xpos10, ypos10, xneg10, yneg10 = create_points_eff(10, weight_res)\n",
    "xpos20, ypos20, xneg20, yneg20 = create_points_eff(20, weight_res)\n",
    "xpos30, ypos30, xneg30, yneg30 = create_points_eff(30, weight_res)\n",
    "xpos40, ypos40, xneg40, yneg40 = create_points_eff(40, weight_res)\n",
    "xpos50, ypos50, xneg50, yneg50 = create_points_eff(50, weight_res)\n",
    "xpos60, ypos60, xneg60, yneg60 = create_points_eff(60, weight_res)\n",
    "xpos70, ypos70, xneg70, yneg70 = create_points_eff(70, weight_res)\n",
    "\n",
    "print \"E4 Negative Efficiency Results\"\n",
    "print \"# Nodes Removed : Mean , Std\"\n",
    "print \"0 - Mean: \" + str(np.mean(yneg0)) + \" Std: \" + str(np.std(yneg0))\n",
    "print \"10 - Mean: \" + str(np.mean(yneg10)) + \" Std: \" + str(np.std(yneg10))\n",
    "print \"20 - Mean: \" + str(np.mean(yneg20)) + \" Std: \" + str(np.std(yneg20))\n",
    "print \"30 - Mean: \" + str(np.mean(yneg30)) + \" Std: \" + str(np.std(yneg30))\n",
    "print \"40 - Mean: \" + str(np.mean(yneg40)) + \" Std: \" + str(np.std(yneg40))\n",
    "print \"50 - Mean: \" + str(np.mean(yneg50)) + \" Std: \" + str(np.std(yneg50))\n",
    "print \"60 - Mean: \" + str(np.mean(yneg60)) + \" Std: \" + str(np.std(yneg60))\n",
    "print \"70 - Mean: \" + str(np.mean(yneg70)) + \" Std: \" + str(np.std(yneg70))\n",
    "print \"\"\n",
    "print \"\"\n",
    "print \"E4 Positive Efficiency Results\"\n",
    "print \"# Nodes Removed : Mean , Std\"\n",
    "print \"0 - Mean: \" + str(np.mean(ypos0)) + \" Std: \" + str(np.std(ypos0))\n",
    "print \"10 - Mean: \" + str(np.mean(ypos10)) + \" Std: \" + str(np.std(ypos10))\n",
    "print \"20 - Mean: \" + str(np.mean(ypos20)) + \" Std: \" + str(np.std(ypos20))\n",
    "print \"30 - Mean: \" + str(np.mean(ypos30)) + \" Std: \" + str(np.std(ypos30))\n",
    "print \"40 - Mean: \" + str(np.mean(ypos40)) + \" Std: \" + str(np.std(ypos40))\n",
    "print \"50 - Mean: \" + str(np.mean(ypos50)) + \" Std: \" + str(np.std(ypos50))\n",
    "print \"60 - Mean: \" + str(np.mean(ypos60)) + \" Std: \" + str(np.std(ypos60))\n",
    "print \"70 - Mean: \" + str(np.mean(ypos70)) + \" Std: \" + str(np.std(ypos70))\n",
    "\n",
    "print \"Plot Efficiencies\"\n",
    "plt.figure()\n",
    "\n",
    "plt.scatter(0, np.mean(ypos0), c = 'b')\n",
    "plt.errorbar(0, np.mean(ypos0), yerr = np.std(ypos0), c = 'b')\n",
    "plt.scatter(0, np.mean(yneg0), c = 'r')\n",
    "plt.errorbar(0, np.mean(yneg0), yerr = np.std(yneg0), c = 'r')\n",
    "\n",
    "plt.scatter(10, np.mean(ypos10), c = 'b')\n",
    "plt.errorbar(10, np.mean(ypos10), yerr = np.std(ypos10), c = 'b')\n",
    "plt.scatter(10, np.mean(yneg10), c = 'r')\n",
    "plt.errorbar(10, np.mean(yneg10), yerr = np.std(yneg10), c = 'r')\n",
    "\n",
    "plt.scatter(20, np.mean(ypos20), c = 'b')\n",
    "plt.errorbar(20, np.mean(ypos20), yerr = np.std(ypos20), c = 'b')\n",
    "plt.scatter(20, np.mean(yneg20), c = 'r')\n",
    "plt.errorbar(20, np.mean(yneg20), yerr = np.std(yneg20), c = 'r')\n",
    "\n",
    "plt.scatter(30, np.mean(ypos30), c = 'b')\n",
    "plt.errorbar(30, np.mean(ypos30), yerr = np.std(ypos30), c = 'b')\n",
    "plt.scatter(30, np.mean(yneg30), c = 'r')\n",
    "plt.errorbar(30, np.mean(yneg30), yerr = np.std(yneg30), c = 'r')\n",
    "\n",
    "plt.scatter(40, np.mean(ypos40), c = 'b')\n",
    "plt.errorbar(40, np.mean(ypos40), yerr = np.std(ypos40), c = 'b')\n",
    "plt.scatter(40, np.mean(yneg40), c = 'r')\n",
    "plt.errorbar(40, np.mean(yneg40), yerr = np.std(yneg40), c = 'r')\n",
    "\n",
    "plt.scatter(50, np.mean(ypos50), c = 'b')\n",
    "plt.errorbar(50, np.mean(ypos50), yerr = np.std(ypos50), c = 'b')\n",
    "plt.scatter(50, np.mean(yneg50), c = 'r')\n",
    "plt.errorbar(50, np.mean(yneg50), yerr = np.std(yneg50), c = 'r')\n",
    "\n",
    "plt.scatter(60, np.mean(ypos60), c = 'b')\n",
    "plt.errorbar(60, np.mean(ypos60), yerr = np.std(ypos60), c = 'b')\n",
    "plt.scatter(60, np.mean(yneg60), c = 'r')\n",
    "plt.errorbar(60, np.mean(yneg60), yerr = np.std(yneg60), c = 'r')\n",
    "\n",
    "plt.xlabel(\"# Nodes Removed\")\n",
    "plt.ylabel(\"Efficiency\")"
   ]
  },
  {
   "cell_type": "code",
   "execution_count": 104,
   "metadata": {
    "collapsed": false,
    "scrolled": true
   },
   "outputs": [
    {
     "name": "stdout",
     "output_type": "stream",
     "text": [
      "E4 Negative Total Degree Results\n",
      "# Nodes Removed : Mean , Std\n",
      "0 - Mean: nan Std: nan\n",
      "10 - Mean: 159.828889345 Std: 41.7078689184\n",
      "20 - Mean: 136.257380304 Std: 30.1164850924\n",
      "30 - Mean: 113.988048591 Std: 31.5500276592\n",
      "40 - Mean: 96.3655419706 Std: 21.8886572805\n",
      "50 - Mean: 78.2137440227 Std: 19.4898232628\n",
      "60 - Mean: 50.3944161805 Std: 10.2884581285\n",
      "70 - Mean: 22.6011595846 Std: 3.65298158445\n",
      "\n",
      "\n",
      "E4 Positive Total Degree Results\n",
      "# Nodes Removed : Mean , Std\n",
      "0 - Mean: nan Std: nan\n",
      "10 - Mean: 150.216419327 Std: 28.4327752719\n",
      "20 - Mean: 129.205457615 Std: 23.5287630532\n",
      "30 - Mean: 111.608926061 Std: 20.3262332211\n",
      "40 - Mean: 102.383035793 Std: 22.7698858634\n",
      "50 - Mean: 78.5251930905 Std: 18.1160186999\n",
      "60 - Mean: 46.510344469 Std: 8.53552051021\n",
      "70 - Mean: 22.261094929 Std: 3.06879294381\n",
      "Plot Total Degree\n"
     ]
    },
    {
     "data": {
      "text/plain": [
       "<matplotlib.text.Text at 0x7fa46713e650>"
      ]
     },
     "execution_count": 104,
     "metadata": {},
     "output_type": "execute_result"
    },
    {
     "data": {
      "image/png": "[encoded data removed]",
      "text/plain": [
       "<matplotlib.figure.Figure at 0x7fa46712b4d0>"
      ]
     },
     "metadata": {},
     "output_type": "display_data"
    }
   ],
   "source": [
    "xpos0, ypos0, xneg0, yneg0 = create_points_deg(0, weight_res)\n",
    "xpos10, ypos10, xneg10, yneg10 = create_points_deg(10, weight_res)\n",
    "xpos20, ypos20, xneg20, yneg20 = create_points_deg(20, weight_res)\n",
    "xpos30, ypos30, xneg30, yneg30 = create_points_deg(30, weight_res)\n",
    "xpos40, ypos40, xneg40, yneg40 = create_points_deg(40, weight_res)\n",
    "xpos50, ypos50, xneg50, yneg50 = create_points_deg(50, weight_res)\n",
    "xpos60, ypos60, xneg60, yneg60 = create_points_deg(60, weight_res)\n",
    "xpos70, ypos70, xneg70, yneg70 = create_points_deg(70, weight_res)\n",
    "\n",
    "print \"E4 Negative Total Degree Results\"\n",
    "print \"# Nodes Removed : Mean , Std\"\n",
    "print \"0 - Mean: \" + str(np.mean(yneg0)) + \" Std: \" + str(np.std(yneg0))\n",
    "print \"10 - Mean: \" + str(np.mean(yneg10)) + \" Std: \" + str(np.std(yneg10))\n",
    "print \"20 - Mean: \" + str(np.mean(yneg20)) + \" Std: \" + str(np.std(yneg20))\n",
    "print \"30 - Mean: \" + str(np.mean(yneg30)) + \" Std: \" + str(np.std(yneg30))\n",
    "print \"40 - Mean: \" + str(np.mean(yneg40)) + \" Std: \" + str(np.std(yneg40))\n",
    "print \"50 - Mean: \" + str(np.mean(yneg50)) + \" Std: \" + str(np.std(yneg50))\n",
    "print \"60 - Mean: \" + str(np.mean(yneg60)) + \" Std: \" + str(np.std(yneg60))\n",
    "print \"70 - Mean: \" + str(np.mean(yneg70)) + \" Std: \" + str(np.std(yneg70))\n",
    "print \"\"\n",
    "print \"\"\n",
    "print \"E4 Positive Total Degree Results\"\n",
    "print \"# Nodes Removed : Mean , Std\"\n",
    "print \"0 - Mean: \" + str(np.mean(ypos0)) + \" Std: \" + str(np.std(ypos0))\n",
    "print \"10 - Mean: \" + str(np.mean(ypos10)) + \" Std: \" + str(np.std(ypos10))\n",
    "print \"20 - Mean: \" + str(np.mean(ypos20)) + \" Std: \" + str(np.std(ypos20))\n",
    "print \"30 - Mean: \" + str(np.mean(ypos30)) + \" Std: \" + str(np.std(ypos30))\n",
    "print \"40 - Mean: \" + str(np.mean(ypos40)) + \" Std: \" + str(np.std(ypos40))\n",
    "print \"50 - Mean: \" + str(np.mean(ypos50)) + \" Std: \" + str(np.std(ypos50))\n",
    "print \"60 - Mean: \" + str(np.mean(ypos60)) + \" Std: \" + str(np.std(ypos60))\n",
    "print \"70 - Mean: \" + str(np.mean(ypos70)) + \" Std: \" + str(np.std(ypos70))\n",
    "\n",
    "print \"Plot Total Degree\"\n",
    "plt.figure()\n",
    "\n",
    "plt.scatter(0, np.mean(ypos0), c = 'b')\n",
    "plt.errorbar(0, np.mean(ypos0), yerr = np.std(ypos0), c = 'b')\n",
    "plt.scatter(0, np.mean(yneg0), c = 'r')\n",
    "plt.errorbar(0, np.mean(yneg0), yerr = np.std(yneg0), c = 'r')\n",
    "\n",
    "plt.scatter(10, np.mean(ypos10), c = 'b')\n",
    "plt.errorbar(10, np.mean(ypos10), yerr = np.std(ypos10), c = 'b')\n",
    "plt.scatter(10, np.mean(yneg10), c = 'r')\n",
    "plt.errorbar(10, np.mean(yneg10), yerr = np.std(yneg10), c = 'r')\n",
    "\n",
    "plt.scatter(20, np.mean(ypos20), c = 'b')\n",
    "plt.errorbar(20, np.mean(ypos20), yerr = np.std(ypos20), c = 'b')\n",
    "plt.scatter(20, np.mean(yneg20), c = 'r')\n",
    "plt.errorbar(20, np.mean(yneg20), yerr = np.std(yneg20), c = 'r')\n",
    "\n",
    "plt.scatter(30, np.mean(ypos30), c = 'b')\n",
    "plt.errorbar(30, np.mean(ypos30), yerr = np.std(ypos30), c = 'b')\n",
    "plt.scatter(30, np.mean(yneg30), c = 'r')\n",
    "plt.errorbar(30, np.mean(yneg30), yerr = np.std(yneg30), c = 'r')\n",
    "\n",
    "plt.scatter(40, np.mean(ypos40), c = 'b')\n",
    "plt.errorbar(40, np.mean(ypos40), yerr = np.std(ypos40), c = 'b')\n",
    "plt.scatter(40, np.mean(yneg40), c = 'r')\n",
    "plt.errorbar(40, np.mean(yneg40), yerr = np.std(yneg40), c = 'r')\n",
    "\n",
    "plt.scatter(50, np.mean(ypos50), c = 'b')\n",
    "plt.errorbar(50, np.mean(ypos50), yerr = np.std(ypos50), c = 'b')\n",
    "plt.scatter(50, np.mean(yneg50), c = 'r')\n",
    "plt.errorbar(50, np.mean(yneg50), yerr = np.std(yneg50), c = 'r')\n",
    "\n",
    "plt.scatter(60, np.mean(ypos60), c = 'b')\n",
    "plt.errorbar(60, np.mean(ypos60), yerr = np.std(ypos60), c = 'b')\n",
    "plt.scatter(60, np.mean(yneg60), c = 'r')\n",
    "plt.errorbar(60, np.mean(yneg60), yerr = np.std(yneg60), c = 'r')\n",
    "\n",
    "plt.xlabel(\"# Nodes Removed\")\n",
    "plt.ylabel(\"Degree\")"
   ]
  },
  {
   "cell_type": "markdown",
   "metadata": {},
   "source": [
    "Absolute Value Functional Network Results\n",
    "=="
   ]
  },
  {
   "cell_type": "markdown",
   "metadata": {},
   "source": [
    "Note to self (7/20): Need to rerun simulation on absolute value networks!!! You put the wrong input to binary parameter during initial simulation \\/\\/\\/\\/\n",
    "=="
   ]
  },
  {
   "cell_type": "code",
   "execution_count": 105,
   "metadata": {
    "collapsed": false
   },
   "outputs": [
    {
     "name": "stdout",
     "output_type": "stream",
     "text": [
      "E4 Negative Efficiency Results\n",
      "# Nodes Removed : Mean , Std\n",
      "0 - Mean: 0.25 Std: 0.0\n",
      "10 - Mean: 0.191060126582 Std: 5.55111512313e-17\n",
      "20 - Mean: 0.14003164557 Std: 2.77555756156e-17\n",
      "30 - Mean: 0.096914556962 Std: 1.38777878078e-17\n",
      "40 - Mean: 0.0617088607595 Std: 1.38777878078e-17\n",
      "50 - Mean: 0.034414556962 Std: 1.38777878078e-17\n",
      "60 - Mean: 0.0150316455696 Std: 3.46944695195e-18\n",
      "70 - Mean: 0.00356012658228 Std: 4.33680868994e-19\n",
      "\n",
      "\n",
      "E4 Positive Efficiency Results\n",
      "# Nodes Removed : Mean , Std\n",
      "0 - Mean: 0.25 Std: 0.0\n",
      "10 - Mean: 0.191060126582 Std: 0.0\n",
      "20 - Mean: 0.14003164557 Std: 2.77555756156e-17\n",
      "30 - Mean: 0.096914556962 Std: 0.0\n",
      "40 - Mean: 0.0617088607595 Std: 0.0\n",
      "50 - Mean: 0.034414556962 Std: 6.93889390391e-18\n",
      "60 - Mean: 0.0150316455696 Std: 1.73472347598e-18\n",
      "70 - Mean: 0.00356012658228 Std: 4.33680868994e-19\n",
      "Plot Efficiencies\n"
     ]
    },
    {
     "data": {
      "text/plain": [
       "<matplotlib.text.Text at 0x7fa466f70c50>"
      ]
     },
     "execution_count": 105,
     "metadata": {},
     "output_type": "execute_result"
    },
    {
     "data": {
      "image/png": "[encoded data removed]",
      "text/plain": [
       "<matplotlib.figure.Figure at 0x7fa466f14790>"
      ]
     },
     "metadata": {},
     "output_type": "display_data"
    }
   ],
   "source": [
    "xpos0, ypos0, xneg0, yneg0 = create_points_eff(0, abs_res)\n",
    "xpos10, ypos10, xneg10, yneg10 = create_points_eff(10, abs_res)\n",
    "xpos20, ypos20, xneg20, yneg20 = create_points_eff(20, abs_res)\n",
    "xpos30, ypos30, xneg30, yneg30 = create_points_eff(30, abs_res)\n",
    "xpos40, ypos40, xneg40, yneg40 = create_points_eff(40, abs_res)\n",
    "xpos50, ypos50, xneg50, yneg50 = create_points_eff(50, abs_res)\n",
    "xpos60, ypos60, xneg60, yneg60 = create_points_eff(60, abs_res)\n",
    "xpos70, ypos70, xneg70, yneg70 = create_points_eff(70, abs_res)\n",
    "\n",
    "print \"E4 Negative Efficiency Results\"\n",
    "print \"# Nodes Removed : Mean , Std\"\n",
    "print \"0 - Mean: \" + str(np.mean(yneg0)) + \" Std: \" + str(np.std(yneg0))\n",
    "print \"10 - Mean: \" + str(np.mean(yneg10)) + \" Std: \" + str(np.std(yneg10))\n",
    "print \"20 - Mean: \" + str(np.mean(yneg20)) + \" Std: \" + str(np.std(yneg20))\n",
    "print \"30 - Mean: \" + str(np.mean(yneg30)) + \" Std: \" + str(np.std(yneg30))\n",
    "print \"40 - Mean: \" + str(np.mean(yneg40)) + \" Std: \" + str(np.std(yneg40))\n",
    "print \"50 - Mean: \" + str(np.mean(yneg50)) + \" Std: \" + str(np.std(yneg50))\n",
    "print \"60 - Mean: \" + str(np.mean(yneg60)) + \" Std: \" + str(np.std(yneg60))\n",
    "print \"70 - Mean: \" + str(np.mean(yneg70)) + \" Std: \" + str(np.std(yneg70))\n",
    "print \"\"\n",
    "print \"\"\n",
    "print \"E4 Positive Efficiency Results\"\n",
    "print \"# Nodes Removed : Mean , Std\"\n",
    "print \"0 - Mean: \" + str(np.mean(ypos0)) + \" Std: \" + str(np.std(ypos0))\n",
    "print \"10 - Mean: \" + str(np.mean(ypos10)) + \" Std: \" + str(np.std(ypos10))\n",
    "print \"20 - Mean: \" + str(np.mean(ypos20)) + \" Std: \" + str(np.std(ypos20))\n",
    "print \"30 - Mean: \" + str(np.mean(ypos30)) + \" Std: \" + str(np.std(ypos30))\n",
    "print \"40 - Mean: \" + str(np.mean(ypos40)) + \" Std: \" + str(np.std(ypos40))\n",
    "print \"50 - Mean: \" + str(np.mean(ypos50)) + \" Std: \" + str(np.std(ypos50))\n",
    "print \"60 - Mean: \" + str(np.mean(ypos60)) + \" Std: \" + str(np.std(ypos60))\n",
    "print \"70 - Mean: \" + str(np.mean(ypos70)) + \" Std: \" + str(np.std(ypos70))\n",
    "\n",
    "print \"Plot Efficiencies\"\n",
    "plt.figure()\n",
    "\n",
    "plt.scatter(0, np.mean(ypos0), c = 'b')\n",
    "plt.errorbar(0, np.mean(ypos0), yerr = np.std(ypos0), c = 'b')\n",
    "plt.scatter(0, np.mean(yneg0), c = 'r')\n",
    "plt.errorbar(0, np.mean(yneg0), yerr = np.std(yneg0), c = 'r')\n",
    "\n",
    "plt.scatter(10, np.mean(ypos10), c = 'b')\n",
    "plt.errorbar(10, np.mean(ypos10), yerr = np.std(ypos10), c = 'b')\n",
    "plt.scatter(10, np.mean(yneg10), c = 'r')\n",
    "plt.errorbar(10, np.mean(yneg10), yerr = np.std(yneg10), c = 'r')\n",
    "\n",
    "plt.scatter(20, np.mean(ypos20), c = 'b')\n",
    "plt.errorbar(20, np.mean(ypos20), yerr = np.std(ypos20), c = 'b')\n",
    "plt.scatter(20, np.mean(yneg20), c = 'r')\n",
    "plt.errorbar(20, np.mean(yneg20), yerr = np.std(yneg20), c = 'r')\n",
    "\n",
    "plt.scatter(30, np.mean(ypos30), c = 'b')\n",
    "plt.errorbar(30, np.mean(ypos30), yerr = np.std(ypos30), c = 'b')\n",
    "plt.scatter(30, np.mean(yneg30), c = 'r')\n",
    "plt.errorbar(30, np.mean(yneg30), yerr = np.std(yneg30), c = 'r')\n",
    "\n",
    "plt.scatter(40, np.mean(ypos40), c = 'b')\n",
    "plt.errorbar(40, np.mean(ypos40), yerr = np.std(ypos40), c = 'b')\n",
    "plt.scatter(40, np.mean(yneg40), c = 'r')\n",
    "plt.errorbar(40, np.mean(yneg40), yerr = np.std(yneg40), c = 'r')\n",
    "\n",
    "plt.scatter(50, np.mean(ypos50), c = 'b')\n",
    "plt.errorbar(50, np.mean(ypos50), yerr = np.std(ypos50), c = 'b')\n",
    "plt.scatter(50, np.mean(yneg50), c = 'r')\n",
    "plt.errorbar(50, np.mean(yneg50), yerr = np.std(yneg50), c = 'r')\n",
    "\n",
    "plt.scatter(60, np.mean(ypos60), c = 'b')\n",
    "plt.errorbar(60, np.mean(ypos60), yerr = np.std(ypos60), c = 'b')\n",
    "plt.scatter(60, np.mean(yneg60), c = 'r')\n",
    "plt.errorbar(60, np.mean(yneg60), yerr = np.std(yneg60), c = 'r')\n",
    "\n",
    "plt.xlabel(\"# Nodes Removed\")\n",
    "plt.ylabel(\"Efficiency\")"
   ]
  },
  {
   "cell_type": "code",
   "execution_count": 106,
   "metadata": {
    "collapsed": false
   },
   "outputs": [
    {
     "name": "stdout",
     "output_type": "stream",
     "text": [
      "E4 Negative Total Degree Results\n",
      "# Nodes Removed : Mean , Std\n",
      "0 - Mean: 6480.0 Std: 0.0\n",
      "10 - Mean: 4970.0 Std: 0.0\n",
      "20 - Mean: 3660.0 Std: 0.0\n",
      "30 - Mean: 2550.0 Std: 0.0\n",
      "40 - Mean: 1640.0 Std: 0.0\n",
      "50 - Mean: 930.0 Std: 0.0\n",
      "60 - Mean: 420.0 Std: 0.0\n",
      "70 - Mean: 110.0 Std: 0.0\n",
      "\n",
      "\n",
      "E4 Positive Total Degree Results\n",
      "# Nodes Removed : Mean , Std\n",
      "0 - Mean: 6480.0 Std: 0.0\n",
      "10 - Mean: 4970.0 Std: 0.0\n",
      "20 - Mean: 3660.0 Std: 0.0\n",
      "30 - Mean: 2550.0 Std: 0.0\n",
      "40 - Mean: 1640.0 Std: 0.0\n",
      "50 - Mean: 930.0 Std: 0.0\n",
      "60 - Mean: 420.0 Std: 0.0\n",
      "70 - Mean: 110.0 Std: 0.0\n",
      "Plot Total Degree\n"
     ]
    },
    {
     "data": {
      "text/plain": [
       "<matplotlib.text.Text at 0x7fa466cf8410>"
      ]
     },
     "execution_count": 106,
     "metadata": {},
     "output_type": "execute_result"
    },
    {
     "data": {
      "image/png": "[encoded data removed]",
      "text/plain": [
       "<matplotlib.figure.Figure at 0x7fa4671089d0>"
      ]
     },
     "metadata": {},
     "output_type": "display_data"
    }
   ],
   "source": [
    "xpos0, ypos0, xneg0, yneg0 = create_points_deg(0, abs_res)\n",
    "xpos10, ypos10, xneg10, yneg10 = create_points_deg(10, abs_res)\n",
    "xpos20, ypos20, xneg20, yneg20 = create_points_deg(20, abs_res)\n",
    "xpos30, ypos30, xneg30, yneg30 = create_points_deg(30, abs_res)\n",
    "xpos40, ypos40, xneg40, yneg40 = create_points_deg(40, abs_res)\n",
    "xpos50, ypos50, xneg50, yneg50 = create_points_deg(50, abs_res)\n",
    "xpos60, ypos60, xneg60, yneg60 = create_points_deg(60, abs_res)\n",
    "xpos70, ypos70, xneg70, yneg70 = create_points_deg(70, abs_res)\n",
    "\n",
    "print \"E4 Negative Total Degree Results\"\n",
    "print \"# Nodes Removed : Mean , Std\"\n",
    "print \"0 - Mean: \" + str(np.mean(yneg0)) + \" Std: \" + str(np.std(yneg0))\n",
    "print \"10 - Mean: \" + str(np.mean(yneg10)) + \" Std: \" + str(np.std(yneg10))\n",
    "print \"20 - Mean: \" + str(np.mean(yneg20)) + \" Std: \" + str(np.std(yneg20))\n",
    "print \"30 - Mean: \" + str(np.mean(yneg30)) + \" Std: \" + str(np.std(yneg30))\n",
    "print \"40 - Mean: \" + str(np.mean(yneg40)) + \" Std: \" + str(np.std(yneg40))\n",
    "print \"50 - Mean: \" + str(np.mean(yneg50)) + \" Std: \" + str(np.std(yneg50))\n",
    "print \"60 - Mean: \" + str(np.mean(yneg60)) + \" Std: \" + str(np.std(yneg60))\n",
    "print \"70 - Mean: \" + str(np.mean(yneg70)) + \" Std: \" + str(np.std(yneg70))\n",
    "print \"\"\n",
    "print \"\"\n",
    "print \"E4 Positive Total Degree Results\"\n",
    "print \"# Nodes Removed : Mean , Std\"\n",
    "print \"0 - Mean: \" + str(np.mean(ypos0)) + \" Std: \" + str(np.std(ypos0))\n",
    "print \"10 - Mean: \" + str(np.mean(ypos10)) + \" Std: \" + str(np.std(ypos10))\n",
    "print \"20 - Mean: \" + str(np.mean(ypos20)) + \" Std: \" + str(np.std(ypos20))\n",
    "print \"30 - Mean: \" + str(np.mean(ypos30)) + \" Std: \" + str(np.std(ypos30))\n",
    "print \"40 - Mean: \" + str(np.mean(ypos40)) + \" Std: \" + str(np.std(ypos40))\n",
    "print \"50 - Mean: \" + str(np.mean(ypos50)) + \" Std: \" + str(np.std(ypos50))\n",
    "print \"60 - Mean: \" + str(np.mean(ypos60)) + \" Std: \" + str(np.std(ypos60))\n",
    "print \"70 - Mean: \" + str(np.mean(ypos70)) + \" Std: \" + str(np.std(ypos70))\n",
    "\n",
    "print \"Plot Total Degree\"\n",
    "plt.figure()\n",
    "\n",
    "plt.scatter(0, np.mean(ypos0), c = 'b')\n",
    "plt.errorbar(0, np.mean(ypos0), yerr = np.std(ypos0), c = 'b')\n",
    "plt.scatter(0, np.mean(yneg0), c = 'r')\n",
    "plt.errorbar(0, np.mean(yneg0), yerr = np.std(yneg0), c = 'r')\n",
    "\n",
    "plt.scatter(10, np.mean(ypos10), c = 'b')\n",
    "plt.errorbar(10, np.mean(ypos10), yerr = np.std(ypos10), c = 'b')\n",
    "plt.scatter(10, np.mean(yneg10), c = 'r')\n",
    "plt.errorbar(10, np.mean(yneg10), yerr = np.std(yneg10), c = 'r')\n",
    "\n",
    "plt.scatter(20, np.mean(ypos20), c = 'b')\n",
    "plt.errorbar(20, np.mean(ypos20), yerr = np.std(ypos20), c = 'b')\n",
    "plt.scatter(20, np.mean(yneg20), c = 'r')\n",
    "plt.errorbar(20, np.mean(yneg20), yerr = np.std(yneg20), c = 'r')\n",
    "\n",
    "plt.scatter(30, np.mean(ypos30), c = 'b')\n",
    "plt.errorbar(30, np.mean(ypos30), yerr = np.std(ypos30), c = 'b')\n",
    "plt.scatter(30, np.mean(yneg30), c = 'r')\n",
    "plt.errorbar(30, np.mean(yneg30), yerr = np.std(yneg30), c = 'r')\n",
    "\n",
    "plt.scatter(40, np.mean(ypos40), c = 'b')\n",
    "plt.errorbar(40, np.mean(ypos40), yerr = np.std(ypos40), c = 'b')\n",
    "plt.scatter(40, np.mean(yneg40), c = 'r')\n",
    "plt.errorbar(40, np.mean(yneg40), yerr = np.std(yneg40), c = 'r')\n",
    "\n",
    "plt.scatter(50, np.mean(ypos50), c = 'b')\n",
    "plt.errorbar(50, np.mean(ypos50), yerr = np.std(ypos50), c = 'b')\n",
    "plt.scatter(50, np.mean(yneg50), c = 'r')\n",
    "plt.errorbar(50, np.mean(yneg50), yerr = np.std(yneg50), c = 'r')\n",
    "\n",
    "plt.scatter(60, np.mean(ypos60), c = 'b')\n",
    "plt.errorbar(60, np.mean(ypos60), yerr = np.std(ypos60), c = 'b')\n",
    "plt.scatter(60, np.mean(yneg60), c = 'r')\n",
    "plt.errorbar(60, np.mean(yneg60), yerr = np.std(yneg60), c = 'r')\n",
    "\n",
    "plt.xlabel(\"# Nodes Removed\")\n",
    "plt.ylabel(\"Degree\")"
   ]
  },
  {
   "cell_type": "code",
   "execution_count": null,
   "metadata": {
    "collapsed": true
   },
   "outputs": [],
   "source": []
  },
  {
   "cell_type": "code",
   "execution_count": null,
   "metadata": {
    "collapsed": true
   },
   "outputs": [],
   "source": []
  },
  {
   "cell_type": "code",
   "execution_count": null,
   "metadata": {
    "collapsed": true
   },
   "outputs": [],
   "source": []
  },
  {
   "cell_type": "code",
   "execution_count": null,
   "metadata": {
    "collapsed": true
   },
   "outputs": [],
   "source": []
  },
  {
   "cell_type": "code",
   "execution_count": null,
   "metadata": {
    "collapsed": false
   },
   "outputs": [],
   "source": []
  },
  {
   "cell_type": "code",
   "execution_count": null,
   "metadata": {
    "collapsed": true
   },
   "outputs": [],
   "source": []
  },
  {
   "cell_type": "code",
   "execution_count": null,
   "metadata": {
    "collapsed": true
   },
   "outputs": [],
   "source": []
  },
  {
   "cell_type": "code",
   "execution_count": null,
   "metadata": {
    "collapsed": true
   },
   "outputs": [],
   "source": []
  },
  {
   "cell_type": "code",
   "execution_count": null,
   "metadata": {
    "collapsed": true
   },
   "outputs": [],
   "source": []
  },
  {
   "cell_type": "code",
   "execution_count": null,
   "metadata": {
    "collapsed": true
   },
   "outputs": [],
   "source": []
  },
  {
   "cell_type": "code",
   "execution_count": null,
   "metadata": {
    "collapsed": true
   },
   "outputs": [],
   "source": []
  },
  {
   "cell_type": "code",
   "execution_count": null,
   "metadata": {
    "collapsed": true
   },
   "outputs": [],
   "source": []
  },
  {
   "cell_type": "code",
   "execution_count": null,
   "metadata": {
    "collapsed": true
   },
   "outputs": [],
   "source": []
  },
  {
   "cell_type": "code",
   "execution_count": null,
   "metadata": {
    "collapsed": true
   },
   "outputs": [],
   "source": []
  },
  {
   "cell_type": "code",
   "execution_count": null,
   "metadata": {
    "collapsed": true
   },
   "outputs": [],
   "source": []
  },
  {
   "cell_type": "code",
   "execution_count": null,
   "metadata": {
    "collapsed": true
   },
   "outputs": [],
   "source": []
  },
  {
   "cell_type": "code",
   "execution_count": null,
   "metadata": {
    "collapsed": true
   },
   "outputs": [],
   "source": []
  },
  {
   "cell_type": "code",
   "execution_count": null,
   "metadata": {
    "collapsed": true
   },
   "outputs": [],
   "source": []
  },
  {
   "cell_type": "code",
   "execution_count": null,
   "metadata": {
    "collapsed": true
   },
   "outputs": [],
   "source": []
  },
  {
   "cell_type": "code",
   "execution_count": null,
   "metadata": {
    "collapsed": true
   },
   "outputs": [],
   "source": []
  },
  {
   "cell_type": "code",
   "execution_count": null,
   "metadata": {
    "collapsed": true
   },
   "outputs": [],
   "source": []
  },
  {
   "cell_type": "code",
   "execution_count": null,
   "metadata": {
    "collapsed": true
   },
   "outputs": [],
   "source": []
  },
  {
   "cell_type": "code",
   "execution_count": 15,
   "metadata": {
    "collapsed": true
   },
   "outputs": [],
   "source": [
    "def get_subsess(path):\n",
    "    ''' Given a path or string, finds the subuject's subsession'''\n",
    "    if 'desikan/adjmat_gsr/' in path:\n",
    "        direc = \"/home/jagust/graph/data/mri1.5/analysis/roi_networks/desikan/adjmat_gsr/\"\n",
    "        ind1 = len(direc)\n",
    "        ind2 = ind1 + 18\n",
    "    elif '/surf/simulation_trials/new_efficiency/individuals' in path:\n",
    "        direc = '/home/jagust/dino/surf/simulation_trials/new_efficiency/individuals/'\n",
    "        ind1 = len(direc)\n",
    "        ind2 = ind1 + 18\n",
    "        return path[ind1:ind2]"
   ]
  },
  {
   "cell_type": "code",
   "execution_count": null,
   "metadata": {
    "collapsed": true
   },
   "outputs": [],
   "source": []
  }
 ],
 "metadata": {
  "kernelspec": {
   "display_name": "Python 2",
   "language": "python",
   "name": "python2"
  },
  "language_info": {
   "codemirror_mode": {
    "name": "ipython",
    "version": 2
   },
   "file_extension": ".py",
   "mimetype": "text/x-python",
   "name": "python",
   "nbconvert_exporter": "python",
   "pygments_lexer": "ipython2",
   "version": "2.7.10"
  }
 },
 "nbformat": 4,
 "nbformat_minor": 0
}
