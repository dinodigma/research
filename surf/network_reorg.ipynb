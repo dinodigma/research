{
 "cells": [
  {
   "cell_type": "markdown",
   "metadata": {},
   "source": [
    "How edge properties change with pathology"
   ]
  },
  {
   "cell_type": "code",
   "execution_count": 1,
   "metadata": {
    "collapsed": true
   },
   "outputs": [],
   "source": [
    "import os\n",
    "os.chdir('/home/jagust/dino/surf')\n",
    "from surf import *\n",
    "%matplotlib inline"
   ]
  },
  {
   "cell_type": "code",
   "execution_count": 2,
   "metadata": {
    "collapsed": true
   },
   "outputs": [],
   "source": [
    "matches = np.load('/home/jagust/dino/surf/matches.npy')"
   ]
  },
  {
   "cell_type": "code",
   "execution_count": 40,
   "metadata": {
    "collapsed": false
   },
   "outputs": [],
   "source": [
    "pos_edge_w, neg_edge_w = {}, {}\n",
    "for i in range(80):\n",
    "    for j in range(80)[i:]:\n",
    "        pos_edge_w[(i, j)] = []\n",
    "        neg_edge_w[(i, j)] = []\n",
    "\n",
    "for m in matches:\n",
    "    pos_g, neg_g = nx.Graph(np.load(m[0])), nx.Graph(np.load(m[1]))\n",
    "    for i in range(80):\n",
    "        for j in range(80)[i:]:\n",
    "            pos_edge_w[(i, j)].append(pos_g.edge[i][j]['weight'])\n",
    "            neg_edge_w[(i, j)].append(neg_g.edge[i][j]['weight'])"
   ]
  },
  {
   "cell_type": "code",
   "execution_count": 41,
   "metadata": {
    "collapsed": false
   },
   "outputs": [],
   "source": [
    "edge_ttest = {}\n",
    "for i in range(80):\n",
    "    for j in range(80)[i:]:\n",
    "        edge_ttest[(i, j)] = stats.ttest_ind(neg_edge_w[(i, j)], pos_edge_w[(i, j)])"
   ]
  },
  {
   "cell_type": "code",
   "execution_count": 42,
   "metadata": {
    "collapsed": false
   },
   "outputs": [
    {
     "name": "stdout",
     "output_type": "stream",
     "text": [
      "(26, 52) (4.5321142094943028, 4.1454853256807447e-05)\n",
      "(16, 44) (4.0289140094865914, 0.00020814263861885593)\n"
     ]
    }
   ],
   "source": [
    "for res in edge_ttest:\n",
    "    if edge_ttest[res][1] < 0.001:\n",
    "        print res, edge_ttest[res]"
   ]
  },
  {
   "cell_type": "code",
   "execution_count": 46,
   "metadata": {
    "collapsed": false
   },
   "outputs": [
    {
     "ename": "KeyError",
     "evalue": "(1, 0)",
     "output_type": "error",
     "traceback": [
      "\u001b[1;31m---------------------------------------------------------------------------\u001b[0m",
      "\u001b[1;31mKeyError\u001b[0m                                  Traceback (most recent call last)",
      "\u001b[1;32m<ipython-input-46-06d7a6c2d86d>\u001b[0m in \u001b[0;36m<module>\u001b[1;34m()\u001b[0m\n\u001b[1;32m----> 1\u001b[1;33m \u001b[0mnx\u001b[0m\u001b[1;33m.\u001b[0m\u001b[0medge_betweenness_centrality\u001b[0m\u001b[1;33m(\u001b[0m\u001b[0mpos_g\u001b[0m\u001b[1;33m,\u001b[0m \u001b[0mweight\u001b[0m\u001b[1;33m=\u001b[0m\u001b[1;34m'weight'\u001b[0m\u001b[1;33m)\u001b[0m\u001b[1;33m[\u001b[0m\u001b[1;33m(\u001b[0m\u001b[1;36m1\u001b[0m\u001b[1;33m,\u001b[0m\u001b[1;36m0\u001b[0m\u001b[1;33m)\u001b[0m\u001b[1;33m]\u001b[0m\u001b[1;33m\u001b[0m\u001b[0m\n\u001b[0m",
      "\u001b[1;31mKeyError\u001b[0m: (1, 0)"
     ]
    }
   ],
   "source": [
    "nx.edge_betweenness_centrality(pos_g, weight='weight')[(i,j)]"
   ]
  },
  {
   "cell_type": "code",
   "execution_count": null,
   "metadata": {
    "collapsed": true
   },
   "outputs": [],
   "source": []
  },
  {
   "cell_type": "code",
   "execution_count": 51,
   "metadata": {
    "collapsed": false
   },
   "outputs": [],
   "source": [
    "pos_edge_bc, neg_edge_bc = {}, {}\n",
    "for i in range(80):\n",
    "    for j in range(80)[i:]:\n",
    "        pos_edge_bc[(i, j)] = []\n",
    "        neg_edge_bc[(i, j)] = []\n",
    "\n",
    "for m in matches:\n",
    "    pos_g, neg_g = nx.Graph(np.load(m[0])), nx.Graph(np.load(m[1]))\n",
    "    pos_bc, neg_bc = nx.edge_current_flow_betweenness_centrality(pos_g, weight='weight'), nx.edge_current_flow_betweenness_centrality(neg_g, weight='weight')\n",
    "    for i in range(80):\n",
    "        for j in range(80)[i:]:\n",
    "            try:\n",
    "                pos_edge_bc[(i, j)].append(pos_bc[(i, j)])\n",
    "                neg_edge_bc[(i, j)].append(neg_bc[(i, j)])\n",
    "            except:\n",
    "                continue\n",
    "edge_ttest = {}\n",
    "for i in range(80):\n",
    "    for j in range(80)[i:]:\n",
    "        edge_ttest[(i, j)] = stats.ttest_ind(neg_edge_bc[(i, j)], pos_edge_bc[(i, j)])"
   ]
  },
  {
   "cell_type": "code",
   "execution_count": 52,
   "metadata": {
    "collapsed": false
   },
   "outputs": [],
   "source": [
    "for res in edge_ttest:\n",
    "    if edge_ttest[res][1] < 0.01:\n",
    "        print res, edge_ttest[res]"
   ]
  },
  {
   "cell_type": "code",
   "execution_count": null,
   "metadata": {
    "collapsed": true
   },
   "outputs": [],
   "source": []
  }
 ],
 "metadata": {
  "kernelspec": {
   "display_name": "Python 2",
   "language": "python",
   "name": "python2"
  },
  "language_info": {
   "codemirror_mode": {
    "name": "ipython",
    "version": 2
   },
   "file_extension": ".py",
   "mimetype": "text/x-python",
   "name": "python",
   "nbconvert_exporter": "python",
   "pygments_lexer": "ipython2",
   "version": "2.7.10"
  }
 },
 "nbformat": 4,
 "nbformat_minor": 0
}
