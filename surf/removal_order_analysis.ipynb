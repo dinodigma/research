{
 "cells": [
  {
   "cell_type": "code",
   "execution_count": 32,
   "metadata": {
    "collapsed": true
   },
   "outputs": [],
   "source": [
    "import os\n",
    "os.chdir('/home/jagust/dino/surf/')\n",
    "from surf import *\n",
    "%matplotlib inline"
   ]
  },
  {
   "cell_type": "code",
   "execution_count": 33,
   "metadata": {
    "collapsed": true
   },
   "outputs": [],
   "source": [
    "order = np.load('/home/jagust/dino/surf/simulation_trials/order_or_removals.npy')\n",
    "matches = np.load('/home/jagust/dino/surf/matches.npy')\n",
    "def load_graph(path):\n",
    "    if type(path) == str or type(path) == unicode:\n",
    "        g = nx.Graph(np.load(path))\n",
    "        add_distance_attr(g)\n",
    "    else:\n",
    "        g = nx.Graph(path)\n",
    "        add_distance_attr(g)\n",
    "    return g\n",
    "def binarize(mat):\n",
    "    return util.threshold_adjacency_matrix(mat, cost = 0.20)[0]"
   ]
  },
  {
   "cell_type": "code",
   "execution_count": 36,
   "metadata": {
    "collapsed": false
   },
   "outputs": [],
   "source": [
    "# fig = plt.figure()\n",
    "# ax = fig.add_subplot(111)\n",
    "# plt.ylabel(\"Degree\")\n",
    "# plt.xlabel(\"# In Removal Order\")\n",
    "\n",
    "pos_corrs, neg_corrs = [], []\n",
    "for match in matches:\n",
    "    pos_g = load_graph(str(match[0]))\n",
    "    neg_g = load_graph(str(match[1]))\n",
    "\n",
    "    pos_deg = pos_g.degree(weight='weight').values()\n",
    "    neg_deg = neg_g.degree(weight='weight').values()\n",
    "\n",
    "    pos_xvals, pos_yvals, neg_xvals, neg_yvals = [], [], [], []\n",
    "    for ind in range(len(order)):\n",
    "        reg = order[ind]\n",
    "        pos_xvals.append(ind)\n",
    "        pos_yvals.append(pos_deg[reg])\n",
    "        neg_xvals.append(ind)\n",
    "        neg_yvals.append(neg_deg[reg])\n",
    "        \n",
    "    rp, rn = stats.pearsonr(pos_xvals, pos_yvals)[0], stats.pearsonr(neg_xvals, neg_yvals)[0]\n",
    "\n",
    "    pos_corrs.append(rp)\n",
    "    neg_corrs.append(rn)\n",
    "# plt.scatter(pos_xvals, pos_yvals, c = 'b')\n",
    "# plt.scatter(neg_xvals, neg_yvals, c = 'r', alpha = 0.50)\n",
    "# rp, rn = stats.pearsonr(pos_xvals, pos_yvals), stats.pearsonr(neg_xvals, neg_yvals)\n",
    "# print \"E4+  :  \" + str(rp)\n",
    "# print \"E4-  :  \" + str(rn)\n",
    "#     plt.errorbar(ind, np.mean(pos_vals), yerr = np.std(pos_vals), c = 'b')\n",
    "#     plt.errorbar(ind, np.mean(neg_vals), yerr = np.std(neg_vals), c = 'r')"
   ]
  },
  {
   "cell_type": "code",
   "execution_count": 39,
   "metadata": {
    "collapsed": false
   },
   "outputs": [
    {
     "name": "stdout",
     "output_type": "stream",
     "text": [
      "1.05172351929 0.298192487615\n"
     ]
    }
   ],
   "source": [
    "t, p = stats.ttest_ind(pos_corrs, neg_corrs)\n",
    "print t, p"
   ]
  },
  {
   "cell_type": "code",
   "execution_count": 44,
   "metadata": {
    "collapsed": false
   },
   "outputs": [],
   "source": [
    "# fig = plt.figure()\n",
    "# ax = fig.add_subplot(111)\n",
    "# plt.ylabel(\"Degree\")\n",
    "# plt.xlabel(\"# In Removal Order\")\n",
    "\n",
    "pos_corrs, neg_corrs = [], []\n",
    "for match in matches:\n",
    "    pos_g = load_graph(binarize(np.load(match[0])))\n",
    "    neg_g = load_graph(binarize(np.load(match[1])))\n",
    "\n",
    "    pos_deg = nx.communicability_centrality_exp(pos_g).values()\n",
    "    neg_deg = nx.communicability_centrality_exp(neg_g).values()\n",
    "\n",
    "    pos_xvals, pos_yvals, neg_xvals, neg_yvals = [], [], [], []\n",
    "    for ind in range(len(order)):\n",
    "        reg = order[ind]\n",
    "        pos_xvals.append(ind)\n",
    "        pos_yvals.append(pos_deg[reg])\n",
    "        neg_xvals.append(ind)\n",
    "        neg_yvals.append(neg_deg[reg])\n",
    "        \n",
    "    rp, rn = stats.pearsonr(pos_xvals, pos_yvals)[0], stats.pearsonr(neg_xvals, neg_yvals)[0]\n",
    "\n",
    "    pos_corrs.append(rp)\n",
    "    neg_corrs.append(rn)\n",
    "# plt.scatter(pos_xvals, pos_yvals, c = 'b')\n",
    "# plt.scatter(neg_xvals, neg_yvals, c = 'r', alpha = 0.50)\n",
    "# rp, rn = stats.pearsonr(pos_xvals, pos_yvals), stats.pearsonr(neg_xvals, neg_yvals)\n",
    "# print \"E4+  :  \" + str(rp)\n",
    "# print \"E4-  :  \" + str(rn)\n",
    "#     plt.errorbar(ind, np.mean(pos_vals), yerr = np.std(pos_vals), c = 'b')\n",
    "#     plt.errorbar(ind, np.mean(neg_vals), yerr = np.std(neg_vals), c = 'r')"
   ]
  },
  {
   "cell_type": "code",
   "execution_count": 46,
   "metadata": {
    "collapsed": false
   },
   "outputs": [
    {
     "name": "stdout",
     "output_type": "stream",
     "text": [
      "-0.0815474112643 0.935345713019\n"
     ]
    }
   ],
   "source": [
    "t, p = stats.ttest_ind(pos_corrs, neg_corrs)\n",
    "print t, p"
   ]
  },
  {
   "cell_type": "code",
   "execution_count": 49,
   "metadata": {
    "collapsed": false
   },
   "outputs": [],
   "source": [
    "# fig = plt.figure()\n",
    "# ax = fig.add_subplot(111)\n",
    "# plt.ylabel(\"Degree\")\n",
    "# plt.xlabel(\"# In Removal Order\")\n",
    "\n",
    "pos_corrs, neg_corrs = [], []\n",
    "for match in matches:\n",
    "    pos_g = load_graph(np.absolute(np.load(match[0])))\n",
    "    neg_g = load_graph(np.absolute(np.load(match[1])))\n",
    "\n",
    "    pos_deg = nx.clustering(pos_g, weight='weight').values()\n",
    "    neg_deg = nx.clustering(neg_g, weight='weight').values()\n",
    "\n",
    "    pos_xvals, pos_yvals, neg_xvals, neg_yvals = [], [], [], []\n",
    "    for ind in range(len(order)):\n",
    "        reg = order[ind]\n",
    "        pos_xvals.append(ind)\n",
    "        pos_yvals.append(pos_deg[reg])\n",
    "        neg_xvals.append(ind)\n",
    "        neg_yvals.append(neg_deg[reg])\n",
    "        \n",
    "    rp, rn = stats.pearsonr(pos_xvals, pos_yvals)[0], stats.pearsonr(neg_xvals, neg_yvals)[0]\n",
    "\n",
    "    pos_corrs.append(rp)\n",
    "    neg_corrs.append(rn)\n",
    "# plt.scatter(pos_xvals, pos_yvals, c = 'b')\n",
    "# plt.scatter(neg_xvals, neg_yvals, c = 'r', alpha = 0.50)\n",
    "# rp, rn = stats.pearsonr(pos_xvals, pos_yvals), stats.pearsonr(neg_xvals, neg_yvals)\n",
    "# print \"E4+  :  \" + str(rp)\n",
    "# print \"E4-  :  \" + str(rn)\n",
    "#     plt.errorbar(ind, np.mean(pos_vals), yerr = np.std(pos_vals), c = 'b')\n",
    "#     plt.errorbar(ind, np.mean(neg_vals), yerr = np.std(neg_vals), c = 'r')"
   ]
  },
  {
   "cell_type": "code",
   "execution_count": 50,
   "metadata": {
    "collapsed": false
   },
   "outputs": [
    {
     "name": "stdout",
     "output_type": "stream",
     "text": [
      "38\n",
      "19\n",
      "27\n",
      "14\n",
      "33\n",
      "3\n",
      "2\n",
      "30\n",
      "37\n",
      "19\n",
      "6\n",
      "3\n",
      "38\n",
      "17\n",
      "17\n",
      "34\n",
      "28\n",
      "39\n",
      "28\n",
      "28\n",
      "32\n",
      "19\n",
      "39\n",
      "21\n",
      "10\n",
      "11\n",
      "17\n",
      "32\n",
      "26\n",
      "32\n",
      "35\n",
      "10\n",
      "20\n",
      "15\n",
      "8\n",
      "5\n",
      "1\n",
      "11\n",
      "31\n",
      "24\n",
      "7\n",
      "10\n",
      "24\n",
      "18\n",
      "31\n",
      "36\n",
      "37\n",
      "8\n",
      "8\n",
      "29\n",
      "5\n",
      "12\n",
      "26\n",
      "12\n",
      "35\n",
      "10\n",
      "29\n",
      "29\n",
      "24\n",
      "6\n",
      "35\n",
      "19\n",
      "36\n",
      "24\n",
      "32\n",
      "37\n",
      "36\n",
      "18\n",
      "23\n",
      "7\n",
      "26\n",
      "26\n",
      "17\n",
      "14\n",
      "19\n",
      "6\n",
      "36\n",
      "6\n",
      "1\n",
      "37\n",
      "23\n",
      "17\n",
      "11\n",
      "12\n",
      "1\n",
      "19\n",
      "30\n",
      "10\n",
      "12\n",
      "22\n",
      "10\n",
      "37\n",
      "18\n",
      "2\n",
      "25\n",
      "16\n",
      "33\n",
      "28\n",
      "24\n",
      "38\n"
     ]
    }
   ],
   "source": [
    "import random\n",
    "for i in range(100):\n",
    "    print str(random.randrange(40))"
   ]
  },
  {
   "cell_type": "code",
   "execution_count": null,
   "metadata": {
    "collapsed": true
   },
   "outputs": [],
   "source": []
  }
 ],
 "metadata": {
  "kernelspec": {
   "display_name": "Python 2",
   "language": "python",
   "name": "python2"
  },
  "language_info": {
   "codemirror_mode": {
    "name": "ipython",
    "version": 2
   },
   "file_extension": ".py",
   "mimetype": "text/x-python",
   "name": "python",
   "nbconvert_exporter": "python",
   "pygments_lexer": "ipython2",
   "version": "2.7.10"
  }
 },
 "nbformat": 4,
 "nbformat_minor": 0
}
