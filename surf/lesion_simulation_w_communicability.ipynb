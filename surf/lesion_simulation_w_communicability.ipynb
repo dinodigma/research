{
 "cells": [
  {
   "cell_type": "markdown",
   "metadata": {},
   "source": [
    "~ 2 July 2015 ~"
   ]
  },
  {
   "cell_type": "code",
   "execution_count": 16,
   "metadata": {
    "collapsed": true
   },
   "outputs": [],
   "source": [
    "% matplotlib inline\n",
    "import pylab as plt\n",
    "import numpy as np\n",
    "import networkx as nx\n",
    "import pandas as pd\n",
    "import operator\n",
    "import os\n",
    "import re\n",
    "from glob import glob\n",
    "import os\n",
    "os.chdir('/home/jagust/dino/surf/')\n",
    "import util as util\n",
    "import modularity as md\n",
    "from scipy import stats\n",
    "import operator"
   ]
  },
  {
   "cell_type": "code",
   "execution_count": 17,
   "metadata": {
    "collapsed": true
   },
   "outputs": [],
   "source": [
    "# Note: Maybe it would be better to aggregate matrices before thresholding\n",
    "# Note: Try edge removal\n",
    "# Note: Try dampening\n",
    "# Note: Maybe we're looking at the wrong metricsm - think about communicability"
   ]
  },
  {
   "cell_type": "code",
   "execution_count": 18,
   "metadata": {
    "collapsed": true
   },
   "outputs": [],
   "source": [
    "def sub_sample(mat):\n",
    "    return"
   ]
  },
  {
   "cell_type": "code",
   "execution_count": 29,
   "metadata": {
    "collapsed": false
   },
   "outputs": [],
   "source": [
    "def sort_by_val(d):\n",
    "    return sorted(d.items(), key = operator.itemgetter(1))\n",
    "\n",
    "def find_next_node(r, g):\n",
    "    \"\"\" Find the next node to be removed in the simulation\n",
    "    \n",
    "    Parameters\n",
    "    ----------\n",
    "        r : set of removed nodes\n",
    "        \n",
    "    Returns\n",
    "    -------\n",
    "        node : next node to be removed\n",
    "    \"\"\"\n",
    "    nodes = g.nodes()\n",
    "    distance = {}\n",
    "    for node in nodes:\n",
    "        if node in r:\n",
    "            continue\n",
    "        distance[node] = 0.0\n",
    "        for removed in r:\n",
    "            distance[node] += nx.shortest_path_length(g, node, removed, 'weight') \n",
    "        sorted_distances = sort_by_val(distance)\n",
    "    return sorted_distances[0][0]\n",
    "\n",
    "\n",
    "def run_simulation_comm(fnet, pnet, seed, stop):\n",
    "    ''' Run lesion simulation\n",
    "    Parameters\n",
    "    ----------\n",
    "    fnet : functional network\n",
    "    pnet : PiB correlation network\n",
    "    seed : beginning of simulated lesioning\n",
    "    stop : terminate simulation after removing stop number of nodes\n",
    "    \n",
    "    Returns\n",
    "    -------\n",
    "    mods : tracks modularity of functional network as nodes are removed\n",
    "    effs : tracks efficiencies of functional network as nodes are removed\n",
    "    \n",
    "    Notes:\n",
    "        -Partition of functional network is found using Newman Spectral\n",
    "        -Efficiency is defined as the inverse of the average shortest path length\n",
    "            of the functional network\n",
    "    '''\n",
    "    # Find partition\n",
    "    ind = md.newman_partition(fnet, max_div=np.inf).index\n",
    "    \n",
    "    # Initial global metrics\n",
    "    comms = []\n",
    "\n",
    "    comm = 0.0\n",
    "    c = nx.communicability(fnet)\n",
    "    for reg in c:\n",
    "        comm += sum(c[reg].values())\n",
    "    comms.append(comm / 2.0)\n",
    "    \n",
    "    removed = {seed}\n",
    "    while len(removed) < stop: #len(fnet.nodes()):\n",
    "        rem =  find_next_node(removed, pnet)\n",
    "        removed.add(rem)\n",
    "        fnet.remove_edges_from(fnet.edges(rem))\n",
    "        \n",
    "        comm = 0.0\n",
    "        c = nx.communicability(fnet)\n",
    "        for reg in c:\n",
    "            comm += sum(c[reg].values())\n",
    "        comms.append(comm / 2.0)\n",
    "    \n",
    "    return comms"
   ]
  },
  {
   "cell_type": "code",
   "execution_count": 30,
   "metadata": {
    "collapsed": true
   },
   "outputs": [],
   "source": [
    "# Import Matrices\n",
    "fmat = np.load('/home/jagust/dino/surf/thr_func_group_mat.npy')\n",
    "fmat_neg = np.load('/home/jagust/dino/surf/thr_neg_func_mat.npy')\n",
    "fmat_pos = np.load('/home/jagust/dino/surf/thr_pos_func_mat.npy')\n",
    "pibmat = np.load('/home/jagust/dino/surf/pib_mat.npy')\n",
    "\n",
    "pibmatpos = np.load('/home/jagust/dino/surf/neg_pib_mat.npy')\n",
    "pibmatneg = np.load('/home/jagust/dino/surf/pos_pib_mat.npy')\n",
    "\n",
    "thrpibmat, cost = util.threshold_adjacency_matrix(pibmat, cost = 0.20)\n",
    "thrpibnet = nx.Graph(thrpibmat)"
   ]
  },
  {
   "cell_type": "code",
   "execution_count": 31,
   "metadata": {
    "collapsed": false
   },
   "outputs": [],
   "source": [
    "# Functional Network Formation\n",
    "fnet = nx.from_numpy_matrix(fmat)\n",
    "fnet_neg = nx.from_numpy_matrix(fmat_neg)\n",
    "fnet_pos = nx.from_numpy_matrix(fmat_pos)"
   ]
  },
  {
   "cell_type": "code",
   "execution_count": 32,
   "metadata": {
    "collapsed": false
   },
   "outputs": [],
   "source": [
    "# PiB Netowrk Formation\n",
    "pibnet = nx.from_numpy_matrix(pibmat)"
   ]
  },
  {
   "cell_type": "code",
   "execution_count": 51,
   "metadata": {
    "collapsed": false
   },
   "outputs": [
    {
     "name": "stdout",
     "output_type": "stream",
     "text": [
      "Starting E4 Positive Simulation\n",
      "Starting E4 Negative Simulation\n"
     ]
    },
    {
     "data": {
      "text/plain": [
       "(100000000.0, 3500000000.0)"
      ]
     },
     "execution_count": 51,
     "metadata": {},
     "output_type": "execute_result"
    },
    {
     "data": {
      "image/png": "[encoded data removed]",
      "text/plain": [
       "<matplotlib.figure.Figure at 0x7fe3e1fa8bd0>"
      ]
     },
     "metadata": {},
     "output_type": "display_data"
    }
   ],
   "source": [
    "# Modify the PiB Correlation Matrix in order to be able to use nx.shortest_path_length\n",
    "invpibmat = -1.0 * pibmat + 1.0\n",
    "invpibnet = nx.from_numpy_matrix(invpibmat)\n",
    "inp_fnet_neg, inp_fnet_pos, inp_pnet = fnet_neg.copy(), fnet_pos.copy(), invpibnet.copy()\n",
    "\n",
    "seed = 55\n",
    "\n",
    "# Run Simulation\n",
    "print \"Starting E4 Positive Simulation\"\n",
    "#commpos = run_simulation_comm(inp_fnet_pos, inp_pnet, seed, 60)\n",
    "print \"Starting E4 Negative Simulation\"\n",
    "#commneg = run_simulation_comm(inp_fnet_neg, inp_pnet, seed, 60) \n",
    "\n",
    "# Plot Communicabilities\n",
    "fig = plt.figure()\n",
    "ax = fig.add_subplot(111)\n",
    "\n",
    "\n",
    "ax.scatter(range(len(commpos)), commpos, c = 'b')\n",
    "ax.scatter(range(len(commneg)), commneg, c = 'r')\n",
    "\n",
    "plt.xlabel('# Nodes Removed')\n",
    "plt.ylabel('Communicability')\n",
    "\n",
    "plt.xlim(0, 10)\n",
    "plt.ylim(1e8, 3.5e9)"
   ]
  },
  {
   "cell_type": "code",
   "execution_count": 52,
   "metadata": {
    "collapsed": true
   },
   "outputs": [],
   "source": [
    "globstr = \"/home/jagust/graph/data/mri1.5/analysis/roi_networks/desikan/adjmat_gsr/*\"\n",
    "mat_paths = sorted(glob(globstr))"
   ]
  },
  {
   "cell_type": "code",
   "execution_count": 56,
   "metadata": {
    "collapsed": false
   },
   "outputs": [
    {
     "data": {
      "text/plain": [
       "['/home/jagust/graph/data/mri1.5/analysis/roi_networks/desikan/adjmat_gsr/B11-255_2014-04-17_adjmat.npy',\n",
       " '/home/jagust/graph/data/mri1.5/analysis/roi_networks/desikan/adjmat_gsr/B11-256_2011-05-31_adjmat.npy',\n",
       " '/home/jagust/graph/data/mri1.5/analysis/roi_networks/desikan/adjmat_gsr/B11-257_2011-09-19_adjmat.npy',\n",
       " '/home/jagust/graph/data/mri1.5/analysis/roi_networks/desikan/adjmat_gsr/B12-202_2012-03-12_adjmat.npy',\n",
       " '/home/jagust/graph/data/mri1.5/analysis/roi_networks/desikan/adjmat_gsr/B12-202_2012-10-29_adjmat.npy',\n",
       " '/home/jagust/graph/data/mri1.5/analysis/roi_networks/desikan/adjmat_gsr/B12-202_2014-09-08_adjmat.npy',\n",
       " '/home/jagust/graph/data/mri1.5/analysis/roi_networks/desikan/adjmat_gsr/B12-203_2012-04-09_adjmat.npy',\n",
       " '/home/jagust/graph/data/mri1.5/analysis/roi_networks/desikan/adjmat_gsr/B12-203_2012-09-25_adjmat.npy',\n",
       " '/home/jagust/graph/data/mri1.5/analysis/roi_networks/desikan/adjmat_gsr/B12-203_2014-03-13_adjmat.npy',\n",
       " '/home/jagust/graph/data/mri1.5/analysis/roi_networks/desikan/adjmat_gsr/B12-204_2012-03-15_adjmat.npy',\n",
       " '/home/jagust/graph/data/mri1.5/analysis/roi_networks/desikan/adjmat_gsr/B12-205_2012-03-20_adjmat.npy',\n",
       " '/home/jagust/graph/data/mri1.5/analysis/roi_networks/desikan/adjmat_gsr/B12-206_2012-03-20_adjmat.npy',\n",
       " '/home/jagust/graph/data/mri1.5/analysis/roi_networks/desikan/adjmat_gsr/B12-206_2012-10-26_adjmat.npy',\n",
       " '/home/jagust/graph/data/mri1.5/analysis/roi_networks/desikan/adjmat_gsr/B12-206_2014-03-17_adjmat.npy',\n",
       " '/home/jagust/graph/data/mri1.5/analysis/roi_networks/desikan/adjmat_gsr/B12-207_2012-03-26_adjmat.npy',\n",
       " '/home/jagust/graph/data/mri1.5/analysis/roi_networks/desikan/adjmat_gsr/B12-208_2012-04-02_adjmat.npy',\n",
       " '/home/jagust/graph/data/mri1.5/analysis/roi_networks/desikan/adjmat_gsr/B12-209_2012-04-05_adjmat.npy',\n",
       " '/home/jagust/graph/data/mri1.5/analysis/roi_networks/desikan/adjmat_gsr/B12-209_2013-03-07_adjmat.npy',\n",
       " '/home/jagust/graph/data/mri1.5/analysis/roi_networks/desikan/adjmat_gsr/B12-210_2012-04-06_adjmat.npy',\n",
       " '/home/jagust/graph/data/mri1.5/analysis/roi_networks/desikan/adjmat_gsr/B12-215_2012-04-10_adjmat.npy',\n",
       " '/home/jagust/graph/data/mri1.5/analysis/roi_networks/desikan/adjmat_gsr/B12-216_2012-04-17_adjmat.npy',\n",
       " '/home/jagust/graph/data/mri1.5/analysis/roi_networks/desikan/adjmat_gsr/B12-220_2012-04-20_adjmat.npy',\n",
       " '/home/jagust/graph/data/mri1.5/analysis/roi_networks/desikan/adjmat_gsr/B12-221_2012-04-23_adjmat.npy',\n",
       " '/home/jagust/graph/data/mri1.5/analysis/roi_networks/desikan/adjmat_gsr/B12-226_2012-05-07_adjmat.npy',\n",
       " '/home/jagust/graph/data/mri1.5/analysis/roi_networks/desikan/adjmat_gsr/B12-226_2012-09-26_adjmat.npy',\n",
       " '/home/jagust/graph/data/mri1.5/analysis/roi_networks/desikan/adjmat_gsr/B12-229_2012-05-09_adjmat.npy',\n",
       " '/home/jagust/graph/data/mri1.5/analysis/roi_networks/desikan/adjmat_gsr/B12-230_2012-05-10_adjmat.npy',\n",
       " '/home/jagust/graph/data/mri1.5/analysis/roi_networks/desikan/adjmat_gsr/B12-238_2012-05-18_adjmat.npy',\n",
       " '/home/jagust/graph/data/mri1.5/analysis/roi_networks/desikan/adjmat_gsr/B12-239_2012-05-23_adjmat.npy',\n",
       " '/home/jagust/graph/data/mri1.5/analysis/roi_networks/desikan/adjmat_gsr/B12-239_2012-09-06_adjmat.npy',\n",
       " '/home/jagust/graph/data/mri1.5/analysis/roi_networks/desikan/adjmat_gsr/B12-239_2014-11-24_adjmat.npy',\n",
       " '/home/jagust/graph/data/mri1.5/analysis/roi_networks/desikan/adjmat_gsr/B12-241_2012-05-31_adjmat.npy',\n",
       " '/home/jagust/graph/data/mri1.5/analysis/roi_networks/desikan/adjmat_gsr/B12-242_2012-05-31_adjmat.npy',\n",
       " '/home/jagust/graph/data/mri1.5/analysis/roi_networks/desikan/adjmat_gsr/B12-243_2012-06-04_adjmat.npy',\n",
       " '/home/jagust/graph/data/mri1.5/analysis/roi_networks/desikan/adjmat_gsr/B12-251_2012-06-13_adjmat.npy',\n",
       " '/home/jagust/graph/data/mri1.5/analysis/roi_networks/desikan/adjmat_gsr/B12-257_2012-06-22_adjmat.npy',\n",
       " '/home/jagust/graph/data/mri1.5/analysis/roi_networks/desikan/adjmat_gsr/B12-265_2012-07-17_adjmat.npy',\n",
       " '/home/jagust/graph/data/mri1.5/analysis/roi_networks/desikan/adjmat_gsr/B12-266_2012-07-18_adjmat.npy',\n",
       " '/home/jagust/graph/data/mri1.5/analysis/roi_networks/desikan/adjmat_gsr/B12-267_2012-07-19_adjmat.npy',\n",
       " '/home/jagust/graph/data/mri1.5/analysis/roi_networks/desikan/adjmat_gsr/B12-268_2012-07-20_adjmat.npy',\n",
       " '/home/jagust/graph/data/mri1.5/analysis/roi_networks/desikan/adjmat_gsr/B12-269_2012-07-25_adjmat.npy',\n",
       " '/home/jagust/graph/data/mri1.5/analysis/roi_networks/desikan/adjmat_gsr/B12-276_2012-08-06_adjmat.npy',\n",
       " '/home/jagust/graph/data/mri1.5/analysis/roi_networks/desikan/adjmat_gsr/B12-276_2014-06-03_adjmat.npy',\n",
       " '/home/jagust/graph/data/mri1.5/analysis/roi_networks/desikan/adjmat_gsr/B12-277_2012-08-29_adjmat.npy',\n",
       " '/home/jagust/graph/data/mri1.5/analysis/roi_networks/desikan/adjmat_gsr/B12-277_2015-01-08_adjmat.npy',\n",
       " '/home/jagust/graph/data/mri1.5/analysis/roi_networks/desikan/adjmat_gsr/B12-281_2012-08-09_adjmat.npy',\n",
       " '/home/jagust/graph/data/mri1.5/analysis/roi_networks/desikan/adjmat_gsr/B12-282_2012-08-22_adjmat.npy',\n",
       " '/home/jagust/graph/data/mri1.5/analysis/roi_networks/desikan/adjmat_gsr/B12-282_2013-06-03_adjmat.npy',\n",
       " '/home/jagust/graph/data/mri1.5/analysis/roi_networks/desikan/adjmat_gsr/B12-295_2012-09-14_adjmat.npy',\n",
       " '/home/jagust/graph/data/mri1.5/analysis/roi_networks/desikan/adjmat_gsr/B12-296_2012-09-10_adjmat.npy',\n",
       " '/home/jagust/graph/data/mri1.5/analysis/roi_networks/desikan/adjmat_gsr/B12-298_2012-10-05_adjmat.npy',\n",
       " '/home/jagust/graph/data/mri1.5/analysis/roi_networks/desikan/adjmat_gsr/B12-302_2012-09-13_adjmat.npy',\n",
       " '/home/jagust/graph/data/mri1.5/analysis/roi_networks/desikan/adjmat_gsr/B12-305_2012-09-27_adjmat.npy',\n",
       " '/home/jagust/graph/data/mri1.5/analysis/roi_networks/desikan/adjmat_gsr/B12-315_2013-01-09_adjmat.npy',\n",
       " '/home/jagust/graph/data/mri1.5/analysis/roi_networks/desikan/adjmat_gsr/B12-316_2012-11-12_adjmat.npy',\n",
       " '/home/jagust/graph/data/mri1.5/analysis/roi_networks/desikan/adjmat_gsr/B12-316_2014-10-22_adjmat.npy',\n",
       " '/home/jagust/graph/data/mri1.5/analysis/roi_networks/desikan/adjmat_gsr/B12-317_2012-10-11_adjmat.npy',\n",
       " '/home/jagust/graph/data/mri1.5/analysis/roi_networks/desikan/adjmat_gsr/B12-323_2012-10-23_adjmat.npy',\n",
       " '/home/jagust/graph/data/mri1.5/analysis/roi_networks/desikan/adjmat_gsr/B12-324_2012-10-24_adjmat.npy',\n",
       " '/home/jagust/graph/data/mri1.5/analysis/roi_networks/desikan/adjmat_gsr/B12-330_2012-10-31_adjmat.npy',\n",
       " '/home/jagust/graph/data/mri1.5/analysis/roi_networks/desikan/adjmat_gsr/B12-331_2012-11-05_adjmat.npy',\n",
       " '/home/jagust/graph/data/mri1.5/analysis/roi_networks/desikan/adjmat_gsr/B12-332_2012-11-28_adjmat.npy',\n",
       " '/home/jagust/graph/data/mri1.5/analysis/roi_networks/desikan/adjmat_gsr/B12-332_2014-11-07_adjmat.npy',\n",
       " '/home/jagust/graph/data/mri1.5/analysis/roi_networks/desikan/adjmat_gsr/B12-335_2012-11-07_adjmat.npy',\n",
       " '/home/jagust/graph/data/mri1.5/analysis/roi_networks/desikan/adjmat_gsr/B12-336_2012-11-30_adjmat.npy',\n",
       " '/home/jagust/graph/data/mri1.5/analysis/roi_networks/desikan/adjmat_gsr/B12-336_2015-01-16_adjmat.npy',\n",
       " '/home/jagust/graph/data/mri1.5/analysis/roi_networks/desikan/adjmat_gsr/B12-337_2012-11-13_adjmat.npy',\n",
       " '/home/jagust/graph/data/mri1.5/analysis/roi_networks/desikan/adjmat_gsr/B12-338_2012-11-15_adjmat.npy',\n",
       " '/home/jagust/graph/data/mri1.5/analysis/roi_networks/desikan/adjmat_gsr/B12-339_2013-01-07_adjmat.npy',\n",
       " '/home/jagust/graph/data/mri1.5/analysis/roi_networks/desikan/adjmat_gsr/B12-339_2015-01-09_adjmat.npy',\n",
       " '/home/jagust/graph/data/mri1.5/analysis/roi_networks/desikan/adjmat_gsr/B12-340_2012-12-05_adjmat.npy',\n",
       " '/home/jagust/graph/data/mri1.5/analysis/roi_networks/desikan/adjmat_gsr/B12-340_2014-10-10_adjmat.npy',\n",
       " '/home/jagust/graph/data/mri1.5/analysis/roi_networks/desikan/adjmat_gsr/B12-346_2012-12-03_adjmat.npy',\n",
       " '/home/jagust/graph/data/mri1.5/analysis/roi_networks/desikan/adjmat_gsr/B12-348_2013-01-31_adjmat.npy',\n",
       " '/home/jagust/graph/data/mri1.5/analysis/roi_networks/desikan/adjmat_gsr/B12-348_2014-11-05_adjmat.npy',\n",
       " '/home/jagust/graph/data/mri1.5/analysis/roi_networks/desikan/adjmat_gsr/B13-202_2013-01-10_adjmat.npy',\n",
       " '/home/jagust/graph/data/mri1.5/analysis/roi_networks/desikan/adjmat_gsr/B13-202_2015-02-10_adjmat.npy',\n",
       " '/home/jagust/graph/data/mri1.5/analysis/roi_networks/desikan/adjmat_gsr/B13-204_2013-02-27_adjmat.npy',\n",
       " '/home/jagust/graph/data/mri1.5/analysis/roi_networks/desikan/adjmat_gsr/B13-205_2013-02-27_adjmat.npy',\n",
       " '/home/jagust/graph/data/mri1.5/analysis/roi_networks/desikan/adjmat_gsr/B13-207_2013-02-04_adjmat.npy',\n",
       " '/home/jagust/graph/data/mri1.5/analysis/roi_networks/desikan/adjmat_gsr/B13-220_2013-03-27_adjmat.npy',\n",
       " '/home/jagust/graph/data/mri1.5/analysis/roi_networks/desikan/adjmat_gsr/B13-222_2013-02-01_adjmat.npy',\n",
       " '/home/jagust/graph/data/mri1.5/analysis/roi_networks/desikan/adjmat_gsr/B13-224_2013-05-15_adjmat.npy',\n",
       " '/home/jagust/graph/data/mri1.5/analysis/roi_networks/desikan/adjmat_gsr/B13-225_2013-03-14_adjmat.npy',\n",
       " '/home/jagust/graph/data/mri1.5/analysis/roi_networks/desikan/adjmat_gsr/B13-227_2013-04-10_adjmat.npy',\n",
       " '/home/jagust/graph/data/mri1.5/analysis/roi_networks/desikan/adjmat_gsr/B13-227_2015-01-20_adjmat.npy',\n",
       " '/home/jagust/graph/data/mri1.5/analysis/roi_networks/desikan/adjmat_gsr/B13-228_2013-07-24_adjmat.npy',\n",
       " '/home/jagust/graph/data/mri1.5/analysis/roi_networks/desikan/adjmat_gsr/B13-236_2013-03-18_adjmat.npy',\n",
       " '/home/jagust/graph/data/mri1.5/analysis/roi_networks/desikan/adjmat_gsr/B13-237_2013-03-20_adjmat.npy',\n",
       " '/home/jagust/graph/data/mri1.5/analysis/roi_networks/desikan/adjmat_gsr/B13-238_2013-05-22_adjmat.npy',\n",
       " '/home/jagust/graph/data/mri1.5/analysis/roi_networks/desikan/adjmat_gsr/B13-242_2013-03-25_adjmat.npy',\n",
       " '/home/jagust/graph/data/mri1.5/analysis/roi_networks/desikan/adjmat_gsr/B13-243_2013-03-29_adjmat.npy',\n",
       " '/home/jagust/graph/data/mri1.5/analysis/roi_networks/desikan/adjmat_gsr/B13-244_2013-06-05_adjmat.npy',\n",
       " '/home/jagust/graph/data/mri1.5/analysis/roi_networks/desikan/adjmat_gsr/B13-244_2015-01-27_adjmat.npy',\n",
       " '/home/jagust/graph/data/mri1.5/analysis/roi_networks/desikan/adjmat_gsr/B13-245_2013-04-16_adjmat.npy',\n",
       " '/home/jagust/graph/data/mri1.5/analysis/roi_networks/desikan/adjmat_gsr/B13-245_2015-01-20_adjmat.npy',\n",
       " '/home/jagust/graph/data/mri1.5/analysis/roi_networks/desikan/adjmat_gsr/B13-247_2013-04-01_adjmat.npy',\n",
       " '/home/jagust/graph/data/mri1.5/analysis/roi_networks/desikan/adjmat_gsr/B13-252_2013-07-09_adjmat.npy',\n",
       " '/home/jagust/graph/data/mri1.5/analysis/roi_networks/desikan/adjmat_gsr/B13-255_2013-04-08_adjmat.npy',\n",
       " '/home/jagust/graph/data/mri1.5/analysis/roi_networks/desikan/adjmat_gsr/B13-256_2013-05-20_adjmat.npy',\n",
       " '/home/jagust/graph/data/mri1.5/analysis/roi_networks/desikan/adjmat_gsr/B13-265_2013-07-23_adjmat.npy',\n",
       " '/home/jagust/graph/data/mri1.5/analysis/roi_networks/desikan/adjmat_gsr/B13-267_2013-07-02_adjmat.npy',\n",
       " '/home/jagust/graph/data/mri1.5/analysis/roi_networks/desikan/adjmat_gsr/B13-271_2013-06-06_adjmat.npy',\n",
       " '/home/jagust/graph/data/mri1.5/analysis/roi_networks/desikan/adjmat_gsr/B13-278_2013-06-28_adjmat.npy',\n",
       " '/home/jagust/graph/data/mri1.5/analysis/roi_networks/desikan/adjmat_gsr/B13-280_2013-05-28_adjmat.npy',\n",
       " '/home/jagust/graph/data/mri1.5/analysis/roi_networks/desikan/adjmat_gsr/B13-283_2013-06-18_adjmat.npy',\n",
       " '/home/jagust/graph/data/mri1.5/analysis/roi_networks/desikan/adjmat_gsr/B13-284_2013-06-11_adjmat.npy',\n",
       " '/home/jagust/graph/data/mri1.5/analysis/roi_networks/desikan/adjmat_gsr/B13-288_2013-06-27_adjmat.npy',\n",
       " '/home/jagust/graph/data/mri1.5/analysis/roi_networks/desikan/adjmat_gsr/B13-289_2013-06-20_adjmat.npy',\n",
       " '/home/jagust/graph/data/mri1.5/analysis/roi_networks/desikan/adjmat_gsr/B13-293_2013-06-19_adjmat.npy',\n",
       " '/home/jagust/graph/data/mri1.5/analysis/roi_networks/desikan/adjmat_gsr/B13-296_2013-07-03_adjmat.npy',\n",
       " '/home/jagust/graph/data/mri1.5/analysis/roi_networks/desikan/adjmat_gsr/B13-302_2013-07-11_adjmat.npy',\n",
       " '/home/jagust/graph/data/mri1.5/analysis/roi_networks/desikan/adjmat_gsr/B13-303_2013-07-08_adjmat.npy',\n",
       " '/home/jagust/graph/data/mri1.5/analysis/roi_networks/desikan/adjmat_gsr/B13-304_2013-07-08_adjmat.npy',\n",
       " '/home/jagust/graph/data/mri1.5/analysis/roi_networks/desikan/adjmat_gsr/B13-305_2013-07-01_adjmat.npy',\n",
       " '/home/jagust/graph/data/mri1.5/analysis/roi_networks/desikan/adjmat_gsr/B13-307_2013-07-12_adjmat.npy',\n",
       " '/home/jagust/graph/data/mri1.5/analysis/roi_networks/desikan/adjmat_gsr/B13-308_2013-07-12_adjmat.npy',\n",
       " '/home/jagust/graph/data/mri1.5/analysis/roi_networks/desikan/adjmat_gsr/B13-312_2013-10-02_adjmat.npy',\n",
       " '/home/jagust/graph/data/mri1.5/analysis/roi_networks/desikan/adjmat_gsr/B13-313_2013-08-23_adjmat.npy',\n",
       " '/home/jagust/graph/data/mri1.5/analysis/roi_networks/desikan/adjmat_gsr/B13-317_2013-08-19_adjmat.npy',\n",
       " '/home/jagust/graph/data/mri1.5/analysis/roi_networks/desikan/adjmat_gsr/B13-318_2013-09-05_adjmat.npy',\n",
       " '/home/jagust/graph/data/mri1.5/analysis/roi_networks/desikan/adjmat_gsr/B13-319_2013-08-22_adjmat.npy',\n",
       " '/home/jagust/graph/data/mri1.5/analysis/roi_networks/desikan/adjmat_gsr/B13-321_2013-09-19_adjmat.npy',\n",
       " '/home/jagust/graph/data/mri1.5/analysis/roi_networks/desikan/adjmat_gsr/B13-338_2013-09-11_adjmat.npy',\n",
       " '/home/jagust/graph/data/mri1.5/analysis/roi_networks/desikan/adjmat_gsr/B13-341_2013-10-08_adjmat.npy',\n",
       " '/home/jagust/graph/data/mri1.5/analysis/roi_networks/desikan/adjmat_gsr/B13-349_2013-10-17_adjmat.npy',\n",
       " '/home/jagust/graph/data/mri1.5/analysis/roi_networks/desikan/adjmat_gsr/B13-352_2013-10-17_adjmat.npy',\n",
       " '/home/jagust/graph/data/mri1.5/analysis/roi_networks/desikan/adjmat_gsr/B13-354_2013-11-06_adjmat.npy',\n",
       " '/home/jagust/graph/data/mri1.5/analysis/roi_networks/desikan/adjmat_gsr/B13-362_2013-11-14_adjmat.npy',\n",
       " '/home/jagust/graph/data/mri1.5/analysis/roi_networks/desikan/adjmat_gsr/B13-363_2013-11-05_adjmat.npy',\n",
       " '/home/jagust/graph/data/mri1.5/analysis/roi_networks/desikan/adjmat_gsr/B13-378_2014-01-14_adjmat.npy',\n",
       " '/home/jagust/graph/data/mri1.5/analysis/roi_networks/desikan/adjmat_gsr/B14-265_2014-07-22_adjmat.npy',\n",
       " '/home/jagust/graph/data/mri1.5/analysis/roi_networks/desikan/adjmat_gsr/B14-274_2014-09-19_adjmat.npy',\n",
       " '/home/jagust/graph/data/mri1.5/analysis/roi_networks/desikan/adjmat_gsr/B14-285_2014-09-09_adjmat.npy',\n",
       " '/home/jagust/graph/data/mri1.5/analysis/roi_networks/desikan/adjmat_gsr/B14-287_2014-10-20_adjmat.npy',\n",
       " '/home/jagust/graph/data/mri1.5/analysis/roi_networks/desikan/adjmat_gsr/B14-292_2014-10-10_adjmat.npy',\n",
       " '/home/jagust/graph/data/mri1.5/analysis/roi_networks/desikan/adjmat_gsr/B14-295_2014-10-16_adjmat.npy',\n",
       " '/home/jagust/graph/data/mri1.5/analysis/roi_networks/desikan/adjmat_gsr/B14-298_2014-11-21_adjmat.npy',\n",
       " '/home/jagust/graph/data/mri1.5/analysis/roi_networks/desikan/adjmat_gsr/B14-299_2014-11-13_adjmat.npy',\n",
       " '/home/jagust/graph/data/mri1.5/analysis/roi_networks/desikan/adjmat_gsr/B14-313_2015-02-02_adjmat.npy',\n",
       " '/home/jagust/graph/data/mri1.5/analysis/roi_networks/desikan/adjmat_gsr/B14-314_2014-12-19_adjmat.npy',\n",
       " '/home/jagust/graph/data/mri1.5/analysis/roi_networks/desikan/adjmat_gsr/B93-222_2010-06-02_adjmat.npy']"
      ]
     },
     "execution_count": 56,
     "metadata": {},
     "output_type": "execute_result"
    }
   ],
   "source": [
    "mat_paths[200:len(mat_paths)]"
   ]
  },
  {
   "cell_type": "code",
   "execution_count": 55,
   "metadata": {
    "collapsed": false
   },
   "outputs": [
    {
     "data": {
      "text/plain": [
       "342"
      ]
     },
     "execution_count": 55,
     "metadata": {},
     "output_type": "execute_result"
    }
   ],
   "source": [
    "len(mat_paths)"
   ]
  },
  {
   "cell_type": "code",
   "execution_count": null,
   "metadata": {
    "collapsed": true
   },
   "outputs": [],
   "source": []
  }
 ],
 "metadata": {
  "kernelspec": {
   "display_name": "Python 2",
   "language": "python",
   "name": "python2"
  },
  "language_info": {
   "codemirror_mode": {
    "name": "ipython",
    "version": 2
   },
   "file_extension": ".py",
   "mimetype": "text/x-python",
   "name": "python",
   "nbconvert_exporter": "python",
   "pygments_lexer": "ipython2",
   "version": "2.7.10"
  }
 },
 "nbformat": 4,
 "nbformat_minor": 0
}
